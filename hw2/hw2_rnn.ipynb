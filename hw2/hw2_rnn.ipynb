{
  "cells": [
    {
      "cell_type": "markdown",
      "metadata": {
        "id": "PtcBjMq7YV3f"
      },
      "source": [
        "\n",
        "\n",
        "# Homework 2 - Recurrent Neural Networks"
      ]
    },
    {
      "cell_type": "markdown",
      "metadata": {
        "id": "Rn-cOk1iZTtR"
      },
      "source": [
        "In this part of the homework we are going to work with Recurrent Neural Networks, in particular GRU. One of the greatest things that Recurrent Neural Networks can do when working with sequences is retaining data from several timesteps in the past. We are going to explore that property by constructing an 'echo' Recurrent Neural Network.\n",
        "\n",
        "The goal here is to make a model that given a sequence of letters or digits will output that same sequence, but with a certain delay. Let's say the input is a string 'abacaba', we want the model to not output anything for 3 steps (delay length), and then output the original string step by step, except the last 3 characters. So, target output is then 'XXXabac', where 'X' is empty output.\n",
        "\n",
        "This is similar to [this notebook](https://github.com/Atcold/pytorch-Deep-Learning/blob/master/09-echo_data.ipynb) (which you should refer to when doing this assignment), except we're working not with a binary string, but with a sequence of integers between 0 and some N. In our case N is 26, which is the number of letters in the alphabet."
      ]
    },
    {
      "cell_type": "markdown",
      "metadata": {
        "id": "npLlE973as6x"
      },
      "source": [
        "## Dataset\n",
        "\n",
        "Let's implement the dataset. In our case, the data is basically infinite, as we can always generate more examples on the fly, so there's no need to load it from disk."
      ]
    },
    {
      "cell_type": "code",
      "execution_count": 1,
      "metadata": {
        "id": "mkEEMyvzIMRx"
      },
      "outputs": [],
      "source": [
        "import random\n",
        "import string\n",
        "\n",
        "import torch\n",
        "\n",
        "# Max value of the generated integer. 26 is chosen becuase it's\n",
        "# the number of letters in English alphabet.\n",
        "N = 26\n",
        "\n",
        "\n",
        "def idx_to_onehot(x, k=N+1):\n",
        "  \"\"\" Converts the generated integers to one-hot vectors \"\"\"\n",
        "  ones = torch.sparse.torch.eye(k)\n",
        "  shape = x.shape\n",
        "  res = ones.index_select(0, x.view(-1).type(torch.int64))\n",
        "  return res.view(*shape, res.shape[-1])\n",
        "\n",
        "\n",
        "class EchoDataset(torch.utils.data.IterableDataset):\n",
        "\n",
        "  def __init__(self, delay=4, seq_length=15, size=1000):\n",
        "    self.delay = delay\n",
        "    self.seq_length = seq_length\n",
        "    self.size = size\n",
        "\n",
        "  def __len__(self):\n",
        "    return self.size\n",
        "\n",
        "  def __iter__(self):\n",
        "    \"\"\" Iterable dataset doesn't have to implement __getitem__.\n",
        "        Instead, we only need to implement __iter__ to return\n",
        "        an iterator (or generator).\n",
        "    \"\"\"\n",
        "    for _ in range(self.size):\n",
        "      seq = torch.tensor([random.choice(range(1, N + 1)) for i in range(self.seq_length)], dtype=torch.int64)\n",
        "      result = torch.cat((torch.zeros(self.delay), seq[:self.seq_length - self.delay])).type(torch.int64)\n",
        "      yield seq, result\n",
        "\n",
        "DELAY = 4\n",
        "DATASET_SIZE = 200000\n",
        "ds = EchoDataset(delay=DELAY, size=DATASET_SIZE)"
      ]
    },
    {
      "cell_type": "markdown",
      "metadata": {
        "id": "nNrZqYURcKSl"
      },
      "source": [
        "## Model\n",
        "\n",
        "Now, we want to implement the model. For our purposes, we want to use GRU. The architecture consists of GRU and a decoder. Decoder is responsible for decoding the GRU hidden state to yield a predicting for the next output. The parts you are responsible for filling with your code are marked with `TODO`."
      ]
    },
    {
      "cell_type": "code",
      "execution_count": 2,
      "metadata": {
        "id": "nigN_o4Mb9Nx"
      },
      "outputs": [],
      "source": [
        "class GRUMemory(torch.nn.Module):\n",
        "\n",
        "  def __init__(self, hidden_size):\n",
        "    super().__init__()\n",
        "    #TODO: initialize your submodules\n",
        "    self.gru = torch.nn.GRU(input_size=N + 1, hidden_size=hidden_size, batch_first=True)\n",
        "    self.decoder = torch.nn.Linear(hidden_size, N + 1)\n",
        "\n",
        "  def forward(self, x):\n",
        "    # inputs: x - input tensor of shape (batch_size, seq_length, N+1)\n",
        "    # returns:\n",
        "    # logits (scores for softmax) of shape (batch size, seq_length, N + 1)\n",
        "    # TODO implement forward pass\n",
        "    h, _ = self.gru(x)                 # (batch_size, seq_length, hidden_size)\n",
        "    logits = self.decoder(h)           # (batch_size, seq_length, N + 1)\n",
        "    return logits\n",
        "\n",
        "  @torch.no_grad()\n",
        "  def test_run(self, s):\n",
        "    # This function accepts one string s containing lowercase characters a-z.\n",
        "    # You need to map those characters to one-hot encodings,\n",
        "    # then get the result from your network, and then convert the output\n",
        "    # back to a string of the same length, with 0 mapped to ' ',\n",
        "    # and 1-26 mapped to a-z.\n",
        "\n",
        "    # TODO\n",
        "    # map input chars to indices (a->1, ..., z->26; anything else -> 0)\n",
        "    idxs = torch.tensor(\n",
        "        [ord(c) - 96 if ('a' <= c <= 'z') else 0 for c in s],\n",
        "        dtype=torch.int64\n",
        "    )  # (seq_length,)\n",
        "\n",
        "    # one-hot encode and add batch dimension\n",
        "    x = idx_to_onehot(idxs)            # (seq_length, N + 1)\n",
        "    x = x.unsqueeze(0).to(next(self.parameters()).device)  # (1, seq_length, N + 1)\n",
        "\n",
        "    # forward pass\n",
        "    logits = self.forward(x)           # (1, seq_length, N + 1)\n",
        "    pred_idx = logits.argmax(dim=-1).squeeze(0).tolist()  # (seq_length,)\n",
        "\n",
        "    # map indices back to string (0 -> space, 1-26 -> a-z)\n",
        "    out_chars = [(' ' if i == 0 else chr(i + 96)) for i in pred_idx]\n",
        "    return ''.join(out_chars)"
      ]
    },
    {
      "cell_type": "markdown",
      "metadata": {
        "id": "A9whwmVu9OIx"
      },
      "source": [
        "## Training\n",
        "Below you need to implement the training of the model. We give you more freedom as for the implementation. The two limitations are that it has to execute within 10 minutes, and that error rate should be below 1%."
      ]
    },
    {
      "cell_type": "code",
      "execution_count": 3,
      "metadata": {
        "id": "lUZkeRnVTNzG"
      },
      "outputs": [],
      "source": [
        "def test_model(model, sequence_length=15):\n",
        "  \"\"\"\n",
        "  This is the test function that runs 100 different strings through your model,\n",
        "  and checks the error rate.\n",
        "  \"\"\"\n",
        "  total = 0\n",
        "  correct = 0\n",
        "  for i in range(500):\n",
        "    s = ''.join([random.choice(string.ascii_lowercase) for i in range(random.randint(15, 25))])\n",
        "    result = model.test_run(s)\n",
        "    for c1, c2 in zip(s[:-D], result[D:]):\n",
        "      correct += int(c1 == c2)\n",
        "    total += len(s) - D\n",
        "\n",
        "  return correct / total"
      ]
    },
    {
      "cell_type": "code",
      "execution_count": 4,
      "metadata": {
        "colab": {
          "base_uri": "https://localhost:8080/"
        },
        "id": "QKnw45jwP8iJ",
        "outputId": "9deff44f-7586-49b9-822b-dd1e58114789"
      },
      "outputs": [
        {
          "name": "stdout",
          "output_type": "stream",
          "text": [
            "duration: 21.5095534324646\n",
            "accuracy: 1.0\n",
            "tests passed\n"
          ]
        }
      ],
      "source": [
        "\n",
        "import torch\n",
        "from torch import nn\n",
        "from torch.utils.data import DataLoader\n",
        "\n",
        "import time\n",
        "start_time = time.time()\n",
        "\n",
        "# TODO\n",
        "\n",
        "# keep delay consistent with the dataset / test\n",
        "D = DELAY\n",
        "\n",
        "def one_epoch(model, loader, optimizer, device):\n",
        "    model.train()\n",
        "    total_loss = 0.0\n",
        "    criterion = nn.CrossEntropyLoss()\n",
        "    for seq, tgt in loader:\n",
        "        # 1) Keep seq on CPU for one-hot\n",
        "        x = idx_to_onehot(seq, k=N+1).float()   # CPU\n",
        "\n",
        "        # 2) Move tensors to target device AFTER one-hot\n",
        "        x   = x.to(device)                      # (B, L, N+1)\n",
        "        tgt = tgt.to(device).long()             # (B, L)\n",
        "\n",
        "        logits = model(x)                       # (B, L, N+1)\n",
        "        loss = criterion(logits.reshape(-1, N+1), tgt.view(-1))\n",
        "\n",
        "        optimizer.zero_grad(set_to_none=True)\n",
        "        loss.backward()\n",
        "        torch.nn.utils.clip_grad_norm_(model.parameters(), max_norm=1.0)\n",
        "        optimizer.step()\n",
        "\n",
        "        total_loss += loss.item()\n",
        "    return total_loss / max(1, len(loader))\n",
        "\n",
        "\n",
        "device = torch.device('cuda' if torch.cuda.is_available() else 'cpu')\n",
        "torch.backends.cudnn.benchmark = True\n",
        "torch.manual_seed(0)\n",
        "\n",
        "hidden_size = 128\n",
        "model = GRUMemory(hidden_size).to(device)\n",
        "\n",
        "# a reasonably fast and stable setup\n",
        "batch_size = 256\n",
        "num_workers = 0  # IterableDataset: keep 0 for simplicity / determinism\n",
        "loader = DataLoader(ds, batch_size=batch_size, num_workers=num_workers)\n",
        "\n",
        "optimizer = torch.optim.Adam(model.parameters(), lr=1e-3)\n",
        "\n",
        "# Train for a small number of epochs; echo is easy to learn\n",
        "# This should converge well under 10 minutes on CPU or GPU.\n",
        "epochs = 2\n",
        "for ep in range(epochs):\n",
        "  loss = one_epoch(model, loader, optimizer, device)\n",
        "\n",
        "end_time = time.time()\n",
        "duration = end_time - start_time\n",
        "accuracy = test_model(model)\n",
        "\n",
        "print('duration:', duration)\n",
        "print('accuracy:', accuracy)\n",
        "\n",
        "assert duration < 600, 'execution took f{duration:.2f} seconds, which longer than 10 mins'\n",
        "assert accuracy > 0.99, f'accuracy is too low, got {accuracy}, need 0.99'\n",
        "print('tests passed')"
      ]
    },
    {
      "cell_type": "markdown",
      "metadata": {
        "id": "sB0EVNBtDhpN"
      },
      "source": [
        "## Variable delay model\n",
        "\n",
        "Now, to make this more complicated, we want to have varialbe delay. So, now, the goal is to transform a sequence of pairs (character, delay) into a character sequence with given delay. Delay is constant within one sequence."
      ]
    },
    {
      "cell_type": "markdown",
      "metadata": {
        "id": "3i_iwX_AEOCH"
      },
      "source": [
        "### Dataset\n",
        "As before, we first implement the dataset:"
      ]
    },
    {
      "cell_type": "code",
      "execution_count": 5,
      "metadata": {
        "id": "E4G5b8kuEUEd"
      },
      "outputs": [],
      "source": [
        "class VariableDelayEchoDataset(torch.utils.data.IterableDataset):\n",
        "\n",
        "  def __init__(self, max_delay=8, seq_length=20, size=1000):\n",
        "    self.max_delay = max_delay\n",
        "    self.seq_length = seq_length\n",
        "    self.size = size\n",
        "\n",
        "  def __len__(self):\n",
        "    return self.size\n",
        "\n",
        "  def __iter__(self):\n",
        "    for _ in range(self.size):\n",
        "      seq = torch.tensor([random.choice(range(1, N + 1)) for i in range(self.seq_length)], dtype=torch.int64)\n",
        "      delay = random.randint(0, self.max_delay)\n",
        "      result = torch.cat((torch.zeros(delay), seq[:self.seq_length - delay])).type(torch.int64)\n",
        "      yield seq, delay, result"
      ]
    },
    {
      "cell_type": "markdown",
      "metadata": {
        "id": "oTRVOND3HEJZ"
      },
      "source": [
        "### Model\n",
        "\n",
        "And the model."
      ]
    },
    {
      "cell_type": "code",
      "execution_count": 6,
      "metadata": {
        "id": "IYolFIB8Hg0U"
      },
      "outputs": [],
      "source": [
        "import torch\n",
        "import torch.nn as nn\n",
        "import torch.nn.functional as F\n",
        "from typing import List\n",
        "\n",
        "class VariableDelayGRUMemory(nn.Module):\n",
        "    def __init__(self, hidden_size, max_delay):\n",
        "        super().__init__()\n",
        "        self.hidden_size = hidden_size\n",
        "        self.max_delay = int(max_delay)\n",
        "\n",
        "        # Assumes global N is defined elsewhere.\n",
        "        self.num_classes = (N + 1)\n",
        "\n",
        "        delay_embed_dim = 8\n",
        "        num_layers = 2\n",
        "\n",
        "        self.delay_emb = nn.Embedding(self.max_delay + 1, delay_embed_dim)\n",
        "        in_size = self.num_classes + delay_embed_dim\n",
        "\n",
        "        self.gru = nn.GRU(\n",
        "            input_size=in_size,\n",
        "            hidden_size=hidden_size,\n",
        "            num_layers=num_layers,\n",
        "            batch_first=True,\n",
        "        )\n",
        "        self.decoder = nn.Linear(hidden_size, self.num_classes)\n",
        "\n",
        "    def forward(self, x, delays):\n",
        "        \"\"\"\n",
        "        x: (B, T, N+1) one-hot (float or long convertible)\n",
        "        delays: (B,) integer delays in [0, max_delay]\n",
        "        returns: (B, T, N+1) logits\n",
        "        \"\"\"\n",
        "        # Normalize dtype\n",
        "        if x.dtype not in (torch.float32, torch.float64):\n",
        "            x = x.float()\n",
        "\n",
        "        # Ensure delays are valid and long\n",
        "        delays = delays.long().clamp_(0, self.max_delay)  # in-place is fine\n",
        "\n",
        "        # Delay features: (B, De) -> (B, 1, De) -> (B, T, De)\n",
        "        delay_emb = self.delay_emb(delays)                                   # (B, De)\n",
        "        delay_feat = delay_emb.unsqueeze(1).expand(-1, x.size(1), -1)        # (B, T, De)\n",
        "\n",
        "        # RNN forward\n",
        "        gru_input = torch.cat([x, delay_feat], dim=-1)                       # (B, T, N+1+De)\n",
        "        h_seq, _ = self.gru(gru_input)                                       # (B, T, H)\n",
        "\n",
        "        return self.decoder(h_seq)                                           # (B, T, N+1)\n",
        "\n",
        "    @torch.no_grad()\n",
        "    def test_run(self, s, delay):\n",
        "        \"\"\"\n",
        "        s: string of 'a'..'z' (others become blank token 0)\n",
        "        delay: int\n",
        "        returns: decoded string of predicted tokens (' ' for 0)\n",
        "        \"\"\"\n",
        "        self.eval()\n",
        "        device = next(self.parameters()).device\n",
        "\n",
        "        # Map characters to indices: 0 = blank, 1..26 = 'a'..'z'\n",
        "        idxs: List[int] = [\n",
        "            (ord(ch) - ord('a') + 1) if ('a' <= ch <= 'z') else 0\n",
        "            for ch in s\n",
        "        ]\n",
        "\n",
        "        x_idx = torch.tensor(idxs, dtype=torch.long, device=device).unsqueeze(0)  # (1, T)\n",
        "        x_oh = F.one_hot(x_idx, num_classes=self.num_classes).float()             # (1, T, N+1)\n",
        "\n",
        "        d = torch.tensor([int(delay)], dtype=torch.long, device=device)           # (1,)\n",
        "        logits = self.forward(x_oh, d)                                            # (1, T, N+1)\n",
        "\n",
        "        pred = logits.argmax(dim=-1)[0].tolist()\n",
        "        return ''.join((' ' if t == 0 else chr(ord('a') + t - 1)) for t in pred)"
      ]
    },
    {
      "cell_type": "markdown",
      "metadata": {
        "id": "riu3qHWgKjsx"
      },
      "source": [
        "### Train\n",
        "\n",
        "As before, you're free to do what you want, as long as training finishes within 10 minutes and accuracy is above 0.99 for delays between 0 and 8."
      ]
    },
    {
      "cell_type": "code",
      "execution_count": 7,
      "metadata": {
        "id": "4FZHojnGO3aw"
      },
      "outputs": [],
      "source": [
        "def test_variable_delay_model(model, seq_length=20):\n",
        "  \"\"\"\n",
        "  This is the test function that runs 100 different strings through your model,\n",
        "  and checks the error rate.\n",
        "  \"\"\"\n",
        "  total = 0\n",
        "  correct = 0\n",
        "  for i in range(500):\n",
        "    s = ''.join([random.choice(string.ascii_lowercase) for i in range(seq_length)])\n",
        "    d = random.randint(0, model.max_delay)\n",
        "    result = model.test_run(s, d)\n",
        "    if d > 0:\n",
        "      z = zip(s[:-d], result[d:])\n",
        "    else:\n",
        "      z = zip(s, result)\n",
        "    for c1, c2 in z:\n",
        "      correct += int(c1 == c2)\n",
        "    total += len(s) - d\n",
        "\n",
        "  return correct / total"
      ]
    },
    {
      "cell_type": "code",
      "execution_count": 8,
      "metadata": {
        "id": "YJ18Ef6vKi4s"
      },
      "outputs": [
        {
          "name": "stderr",
          "output_type": "stream",
          "text": [
            "/tmp/ipykernel_13708/4028122569.py:38: FutureWarning: `torch.cuda.amp.GradScaler(args...)` is deprecated. Please use `torch.amp.GradScaler('cuda', args...)` instead.\n",
            "  scaler = torch.cuda.amp.GradScaler(enabled=(device.type == \"cuda\"))\n"
          ]
        },
        {
          "name": "stderr",
          "output_type": "stream",
          "text": [
            "/tmp/ipykernel_13708/4028122569.py:52: FutureWarning: `torch.cuda.amp.autocast(args...)` is deprecated. Please use `torch.amp.autocast('cuda', args...)` instead.\n",
            "  with torch.cuda.amp.autocast(enabled=(device.type == \"cuda\")):\n"
          ]
        },
        {
          "name": "stdout",
          "output_type": "stream",
          "text": [
            "duration:  48.24670100212097\n",
            "accuracy:  0.9994998124296611\n",
            "tests passed\n"
          ]
        }
      ],
      "source": [
        "import torch\n",
        "import torch.nn as nn\n",
        "import torch.nn.functional as F\n",
        "from torch.utils.data import DataLoader\n",
        "import time\n",
        "\n",
        "start_time = time.time()\n",
        "\n",
        "MAX_DELAY = 8\n",
        "SEQUENCE_LEN = 20\n",
        "\n",
        "device = torch.device(\"cuda\" if torch.cuda.is_available() else \"cpu\")\n",
        "\n",
        "# Data\n",
        "train_ds = VariableDelayEchoDataset(\n",
        "    max_delay=MAX_DELAY,\n",
        "    seq_length=SEQUENCE_LEN,\n",
        "    size=100_000\n",
        ")\n",
        "train_loader = DataLoader(\n",
        "    train_ds,\n",
        "    batch_size=256,\n",
        "    num_workers=2 if device.type == \"cuda\" else 0,\n",
        "    pin_memory=(device.type == \"cuda\"),\n",
        ")\n",
        "\n",
        "# Model & training utils\n",
        "hidden_size = 256\n",
        "model = VariableDelayGRUMemory(hidden_size=hidden_size, max_delay=MAX_DELAY).to(device)\n",
        "\n",
        "criterion = nn.CrossEntropyLoss()\n",
        "optimizer = torch.optim.AdamW(model.parameters(), lr=2e-3, weight_decay=1e-4)\n",
        "\n",
        "EPOCHS = 6\n",
        "scheduler = torch.optim.lr_scheduler.CosineAnnealingLR(optimizer, T_max=EPOCHS)\n",
        "clip_val = 1.0\n",
        "\n",
        "scaler = torch.cuda.amp.GradScaler(enabled=(device.type == \"cuda\"))\n",
        "num_classes = N + 1\n",
        "\n",
        "def train_one_epoch() -> float:\n",
        "    model.train()\n",
        "    total_loss, batches = 0.0, 0\n",
        "    for x_int, d_int, y_int in train_loader:\n",
        "        x_int = x_int.to(device, non_blocking=True)\n",
        "        d_int = d_int.to(device, non_blocking=True)\n",
        "        y_int = y_int.to(device, non_blocking=True)\n",
        "\n",
        "        x_oh = F.one_hot(x_int, num_classes=num_classes).float()  # (B,T,C)\n",
        "\n",
        "        optimizer.zero_grad(set_to_none=True)\n",
        "        with torch.cuda.amp.autocast(enabled=(device.type == \"cuda\")):\n",
        "            logits = model(x_oh, d_int)\n",
        "            loss = criterion(logits.reshape(-1, num_classes), y_int.reshape(-1))\n",
        "\n",
        "        scaler.scale(loss).backward()\n",
        "        nn.utils.clip_grad_norm_(model.parameters(), clip_val)\n",
        "        scaler.step(optimizer)\n",
        "        scaler.update()\n",
        "\n",
        "        total_loss += loss.item()\n",
        "        batches += 1\n",
        "    scheduler.step()\n",
        "    return total_loss / max(1, batches)\n",
        "\n",
        "# Train\n",
        "for _ in range(EPOCHS):\n",
        "    _ = train_one_epoch()\n",
        "\n",
        "end_time = time.time()\n",
        "\n",
        "duration = end_time - start_time\n",
        "accuracy = test_variable_delay_model(model)\n",
        "\n",
        "print('duration: ', duration)\n",
        "print('accuracy: ', accuracy)\n",
        "\n",
        "assert end_time - start_time < 600, 'executing took longer than 10 mins'\n",
        "assert accuracy > 0.99, 'accuracy is too low'\n",
        "print('tests passed')"
      ]
    }
  ],
  "metadata": {
    "colab": {
      "provenance": []
    },
    "kernelspec": {
      "display_name": "Python 3 (ipykernel)",
      "language": "python",
      "name": "python3"
    },
    "language_info": {
      "codemirror_mode": {
        "name": "ipython",
        "version": 3
      },
      "file_extension": ".py",
      "mimetype": "text/x-python",
      "name": "python",
      "nbconvert_exporter": "python",
      "pygments_lexer": "ipython3",
      "version": "3.9.13"
    }
  },
  "nbformat": 4,
  "nbformat_minor": 0
}
