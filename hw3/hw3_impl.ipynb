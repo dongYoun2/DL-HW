{
  "cells": [
    {
      "cell_type": "markdown",
      "metadata": {
        "id": "UJPLI9ftMAaw"
      },
      "source": [
        "# Energy-Based models and structured prediction\n",
        "\n",
        "In this assignment we're going to work with structured prediction. Structured prediction broadly refers to any problem involving predicting structured values, as opposed to plain scalars. Examples of structured outputs include graphs and text.\n",
        "\n",
        "We're going to work with text. The task is to transcribe a word from an image. The difficulty here is that different words have different lengths, so we can't just have fixed number of outputs.\n",
        "\n",
        "In this assignment, we will implement a dynamic programming algorithm to align\n",
        "the text image with the predictions. Optionally, we will also compare our solution to GTN framework."
      ]
    },
    {
      "cell_type": "markdown",
      "metadata": {
        "id": "tV00UHhRX2PR"
      },
      "source": [
        "# Resources\n",
        "\n",
        "GTN framework has support for finding Viterbi paths and training the prediction. The below links can be helpful in solving this homework\\:\n",
        "- [CTC](https://distill.pub/2017/ctc/)\n",
        "- [Weighted Automata in ML](https://awnihannun.com/writing/automata_ml/automata_in_machine_learning.pdf)\n",
        "\n",
        "Additional Links\\:\n",
        "- [GTN](https://github.com/gtn-org/gtn)\n",
        "- [GTN Documentation](https://gtn.readthedocs.io/en/latest/)\n",
        "- [GTN Applications](https://github.com/facebookresearch/gtn_applications)"
      ]
    },
    {
      "cell_type": "code",
      "execution_count": 1,
      "metadata": {
        "colab": {
          "base_uri": "https://localhost:8080/"
        },
        "id": "n6zAuP7UXxzy",
        "outputId": "edcd2832-ed28-4a75-cb7b-132cdf414aba"
      },
      "outputs": [
        {
          "name": "stdout",
          "output_type": "stream",
          "text": [
            "Cloning into 'gtn'...\n",
            "remote: Enumerating objects: 2976, done.\u001b[K\n",
            "remote: Counting objects: 100% (247/247), done.\u001b[K\n",
            "remote: Compressing objects: 100% (48/48), done.\u001b[K\n",
            "remote: Total 2976 (delta 216), reused 199 (delta 199), pack-reused 2729 (from 1)\u001b[K\n",
            "Receiving objects: 100% (2976/2976), 1.04 MiB | 19.06 MiB/s, done.\n",
            "Resolving deltas: 100% (2098/2098), done.\n",
            "\u001b[0mCMake Deprecation Warning at CMakeLists.txt:1 (cmake_minimum_required):\n",
            "  Compatibility with CMake < 3.10 will be removed from a future version of\n",
            "  CMake.\n",
            "\n",
            "  Update the VERSION argument <min> value.  Or, use the <min>...<max> syntax\n",
            "  to tell CMake that the project requires at least <min> but has been updated\n",
            "  to work with policies introduced by <max> or earlier.\n",
            "\n",
            "\u001b[0m\n",
            "-- The CXX compiler identification is GNU 11.4.0\n",
            "-- Detecting CXX compiler ABI info\n",
            "-- Detecting CXX compiler ABI info - done\n",
            "-- Check for working CXX compiler: /usr/bin/c++ - skipped\n",
            "-- Detecting CXX compile features\n",
            "-- Detecting CXX compile features - done\n",
            "\u001b[33mCMake Warning (dev) at CMakeLists.txt:11 (find_package):\n",
            "  Policy CMP0146 is not set: The FindCUDA module is removed.  Run \"cmake\n",
            "  --help-policy CMP0146\" for policy details.  Use the cmake_policy command to\n",
            "  set the policy and suppress this warning.\n",
            "\n",
            "This warning is for project developers.  Use -Wno-dev to suppress it.\n",
            "\u001b[0m\n",
            "-- Performing Test CMAKE_HAVE_LIBC_PTHREAD\n",
            "-- Performing Test CMAKE_HAVE_LIBC_PTHREAD - Success\n",
            "-- Found Threads: TRUE\n",
            "-- Found CUDA: /usr/local/cuda (found suitable version \"12.5\", minimum required is \"9.0\")\n",
            "-- The CUDA compiler identification is NVIDIA 12.5.82 with host compiler GNU 11.4.0\n",
            "-- Detecting CUDA compiler ABI info\n",
            "-- Detecting CUDA compiler ABI info - done\n",
            "-- Check for working CUDA compiler: /usr/local/cuda/bin/nvcc - skipped\n",
            "-- Detecting CUDA compile features\n",
            "-- Detecting CUDA compile features - done\n",
            "\u001b[0mCMake Deprecation Warning at gtn/CMakeLists.txt:1 (cmake_minimum_required):\n",
            "  Compatibility with CMake < 3.10 will be removed from a future version of\n",
            "  CMake.\n",
            "\n",
            "  Update the VERSION argument <min> value.  Or, use the <min>...<max> syntax\n",
            "  to tell CMake that the project requires at least <min> but has been updated\n",
            "  to work with policies introduced by <max> or earlier.\n",
            "Call Stack (most recent call first):\n",
            "  CMakeLists.txt:34 (include)\n",
            "\n",
            "\u001b[0m\n",
            "\u001b[0mCMake Deprecation Warning at gtn/CMakeLists.txt:1 (cmake_minimum_required):\n",
            "  Compatibility with CMake < 3.10 will be removed from a future version of\n",
            "  CMake.\n",
            "\n",
            "  Update the VERSION argument <min> value.  Or, use the <min>...<max> syntax\n",
            "  to tell CMake that the project requires at least <min> but has been updated\n",
            "  to work with policies introduced by <max> or earlier.\n",
            "\n",
            "\u001b[0m\n",
            "\u001b[0mCMake Deprecation Warning at test/CMakeLists.txt:1 (cmake_minimum_required):\n",
            "  Compatibility with CMake < 3.10 will be removed from a future version of\n",
            "  CMake.\n",
            "\n",
            "  Update the VERSION argument <min> value.  Or, use the <min>...<max> syntax\n",
            "  to tell CMake that the project requires at least <min> but has been updated\n",
            "  to work with policies introduced by <max> or earlier.\n",
            "\n",
            "\u001b[0m\n",
            "\u001b[0mCMake Deprecation Warning at benchmarks/CMakeLists.txt:1 (cmake_minimum_required):\n",
            "  Compatibility with CMake < 3.10 will be removed from a future version of\n",
            "  CMake.\n",
            "\n",
            "  Update the VERSION argument <min> value.  Or, use the <min>...<max> syntax\n",
            "  to tell CMake that the project requires at least <min> but has been updated\n",
            "  to work with policies introduced by <max> or earlier.\n",
            "\n",
            "\u001b[0m\n",
            "\u001b[0mCMake Deprecation Warning at examples/CMakeLists.txt:1 (cmake_minimum_required):\n",
            "  Compatibility with CMake < 3.10 will be removed from a future version of\n",
            "  CMake.\n",
            "\n",
            "  Update the VERSION argument <min> value.  Or, use the <min>...<max> syntax\n",
            "  to tell CMake that the project requires at least <min> but has been updated\n",
            "  to work with policies introduced by <max> or earlier.\n",
            "\n",
            "\u001b[0m\n",
            "-- The C compiler identification is GNU 11.4.0\n",
            "-- Detecting C compiler ABI info\n",
            "-- Detecting C compiler ABI info - done\n",
            "-- Check for working C compiler: /usr/bin/cc - skipped\n",
            "-- Detecting C compile features\n",
            "-- Detecting C compile features - done\n",
            "-- Configuring done (2.7s)\n",
            "\u001b[33mCMake Warning (dev) in CMakeLists.txt:\n",
            "  Policy CMP0104 is not set: CMAKE_CUDA_ARCHITECTURES now detected for NVCC,\n",
            "  empty CUDA_ARCHITECTURES not allowed.  Run \"cmake --help-policy CMP0104\"\n",
            "  for policy details.  Use the cmake_policy command to set the policy and\n",
            "  suppress this warning.\n",
            "\n",
            "  CUDA_ARCHITECTURES is empty for target \"gtn\".\n",
            "This warning is for project developers.  Use -Wno-dev to suppress it.\n",
            "\u001b[0m\n",
            "\u001b[33mCMake Warning (dev) in benchmarks/CMakeLists.txt:\n",
            "  Policy CMP0104 is not set: CMAKE_CUDA_ARCHITECTURES now detected for NVCC,\n",
            "  empty CUDA_ARCHITECTURES not allowed.  Run \"cmake --help-policy CMP0104\"\n",
            "  for policy details.  Use the cmake_policy command to set the policy and\n",
            "  suppress this warning.\n",
            "\n",
            "  CUDA_ARCHITECTURES is empty for target \"benchmark_parallel_cuda\".\n",
            "This warning is for project developers.  Use -Wno-dev to suppress it.\n",
            "\u001b[0m\n",
            "-- Generating done (0.0s)\n",
            "-- Build files have been written to: /content/gtn/build\n",
            "[  1%] \u001b[32mBuilding CXX object CMakeFiles/gtn.dir/gtn/autograd.cpp.o\u001b[0m\n",
            "[  3%] \u001b[32mBuilding CXX object CMakeFiles/gtn.dir/gtn/cpu/creations.cpp.o\u001b[0m\n",
            "[  5%] \u001b[32mBuilding CXX object CMakeFiles/gtn.dir/gtn/cpu/compose.cpp.o\u001b[0m\n",
            "[  6%] \u001b[32mBuilding CXX object CMakeFiles/gtn.dir/gtn/cpu/functions.cpp.o\u001b[0m\n",
            "[  8%] \u001b[32mBuilding CXX object CMakeFiles/gtn.dir/gtn/cpu/shortest.cpp.o\u001b[0m\n",
            "[ 10%] \u001b[32mBuilding CXX object CMakeFiles/gtn.dir/gtn/creations.cpp.o\u001b[0m\n",
            "[ 11%] \u001b[32mBuilding CXX object CMakeFiles/gtn.dir/gtn/device.cpp.o\u001b[0m\n",
            "[ 13%] \u001b[32mBuilding CXX object CMakeFiles/gtn.dir/gtn/criterions.cpp.o\u001b[0m\n",
            "[ 15%] \u001b[32mBuilding CXX object CMakeFiles/gtn.dir/gtn/functions.cpp.o\u001b[0m\n",
            "[ 16%] \u001b[32mBuilding CXX object CMakeFiles/gtn.dir/gtn/graph.cpp.o\u001b[0m\n",
            "[ 18%] \u001b[32mBuilding CXX object CMakeFiles/gtn.dir/gtn/parallel/parallel_map.cpp.o\u001b[0m\n",
            "[ 20%] \u001b[32mBuilding CXX object CMakeFiles/gtn.dir/gtn/rand.cpp.o\u001b[0m\n",
            "[ 22%] \u001b[32mBuilding CXX object CMakeFiles/gtn.dir/gtn/utils.cpp.o\u001b[0m\n",
            "[ 23%] \u001b[32mBuilding CUDA object CMakeFiles/gtn.dir/gtn/cuda/creations.cu.o\u001b[0m\n",
            "[ 25%] \u001b[32mBuilding CUDA object CMakeFiles/gtn.dir/gtn/cuda/compose.cu.o\u001b[0m\n",
            "[ 27%] \u001b[32mBuilding CUDA object CMakeFiles/gtn.dir/gtn/cuda/cuda.cu.o\u001b[0m\n",
            "[ 28%] \u001b[32mBuilding CXX object CMakeFiles/gtn.dir/gtn/cuda/functions.cpp.o\u001b[0m\n",
            "[ 30%] \u001b[32mBuilding CUDA object CMakeFiles/gtn.dir/gtn/cuda/shortest.cu.o\u001b[0m\n",
            "\u001b[01m\u001b[0m\u001b[01m/content/gtn/gtn/cuda/shortest.cu(353)\u001b[0m: \u001b[01;31merror\u001b[0m: namespace \u001b[01m\"thrust\"\u001b[0m has no member \"\u001b[01mdevice\u001b[0m\"\n",
            "        thrust::device,\n",
            "                ^\n",
            "\n",
            "\u001b[01m\u001b[0m\u001b[01m/content/gtn/gtn/cuda/shortest.cu(352)\u001b[0m: \u001b[01;31merror\u001b[0m: no instance of overloaded function \u001b[01m\"thrust::fill\"\u001b[0m matches the argument list\n",
            "            argument types are: (<error-type>, gtn::cuda::detail::<unnamed>::ArgMaxT *, gtn::cuda::detail::<unnamed>::ArgMaxT *, gtn::cuda::detail::<unnamed>::ArgMaxT)\n",
            "    thrust::fill(\n",
            "    ^\n",
            "\u001b[01m\u001b[0m\u001b[01m/usr/local/cuda/include/thrust/detail/fill.inl(40)\u001b[0m: \u001b[01;36mnote\u001b[0m #3327-D: candidate function template \u001b[01m\"thrust::THRUST_200400_800_NS::fill(const thrust::THRUST_200400_800_NS::detail::execution_policy_base<DerivedPolicy> &, ForwardIterator, ForwardIterator, const T &)\"\u001b[0m failed deduction\n",
            "   void fill(const thrust::detail::execution_policy_base<DerivedPolicy> &exec,\n",
            "        ^\n",
            "\u001b[01m\u001b[0m\u001b[01m/usr/local/cuda/include/thrust/detail/fill.inl(65)\u001b[0m: \u001b[01;36mnote\u001b[0m #3322-D: number of parameters of function template \u001b[01m\"thrust::THRUST_200400_800_NS::fill(ForwardIterator, ForwardIterator, const T &)\"\u001b[0m does not match the call\n",
            "   void fill(ForwardIterator first,\n",
            "        ^\n",
            "\n",
            "2 errors detected in the compilation of \"/content/gtn/gtn/cuda/shortest.cu\".\n",
            "gmake[2]: *** [CMakeFiles/gtn.dir/build.make:321: CMakeFiles/gtn.dir/gtn/cuda/shortest.cu.o] Error 2\n",
            "gmake[1]: *** [CMakeFiles/Makefile2:208: CMakeFiles/gtn.dir/all] Error 2\n",
            "gmake: *** [Makefile:146: all] Error 2\n"
          ]
        }
      ],
      "source": [
        "# !pip install gtn==0.0.0\n",
        "\n",
        "!git clone https://github.com/gtn-org/gtn.git && \\\n",
        "cd gtn && \\\n",
        "mkdir -p build && \\\n",
        "cmake -S . -B build && \\\n",
        "cmake --build build -j $(nproc)"
      ]
    },
    {
      "cell_type": "code",
      "execution_count": 2,
      "metadata": {
        "colab": {
          "base_uri": "https://localhost:8080/"
        },
        "id": "SLmeCwmPLXAr",
        "outputId": "461f5dd3-5a1c-43fd-8172-3a97dfcc705c"
      },
      "outputs": [
        {
          "name": "stdout",
          "output_type": "stream",
          "text": [
            "running install\n",
            "/usr/local/lib/python3.12/dist-packages/setuptools/_distutils/cmd.py:66: SetuptoolsDeprecationWarning: setup.py install is deprecated.\n",
            "!!\n",
            "\n",
            "        ********************************************************************************\n",
            "        Please avoid running ``setup.py`` directly.\n",
            "        Instead, use pypa/build, pypa/installer or other\n",
            "        standards-based tools.\n",
            "\n",
            "        See https://blog.ganssle.io/articles/2021/10/setup-py-deprecated.html for details.\n",
            "        ********************************************************************************\n",
            "\n",
            "!!\n",
            "  self.initialize_options()\n",
            "/usr/local/lib/python3.12/dist-packages/setuptools/_distutils/cmd.py:66: EasyInstallDeprecationWarning: easy_install command is deprecated.\n",
            "!!\n",
            "\n",
            "        ********************************************************************************\n",
            "        Please avoid running ``setup.py`` and ``easy_install``.\n",
            "        Instead, use pypa/build, pypa/installer or other\n",
            "        standards-based tools.\n",
            "\n",
            "        See https://github.com/pypa/setuptools/issues/917 for details.\n",
            "        ********************************************************************************\n",
            "\n",
            "!!\n",
            "  self.initialize_options()\n",
            "running bdist_egg\n",
            "running egg_info\n",
            "creating src/bindings/python/gtn.egg-info\n",
            "writing src/bindings/python/gtn.egg-info/PKG-INFO\n",
            "writing dependency_links to src/bindings/python/gtn.egg-info/dependency_links.txt\n",
            "writing top-level names to src/bindings/python/gtn.egg-info/top_level.txt\n",
            "writing manifest file 'src/bindings/python/gtn.egg-info/SOURCES.txt'\n",
            "reading manifest file 'src/bindings/python/gtn.egg-info/SOURCES.txt'\n",
            "writing manifest file 'src/bindings/python/gtn.egg-info/SOURCES.txt'\n",
            "installing library code to build/bdist.linux-x86_64/egg\n",
            "running install_lib\n",
            "running build_py\n",
            "creating build/lib.linux-x86_64-cpython-312/gtn\n",
            "copying src/bindings/python/gtn/__init__.py -> build/lib.linux-x86_64-cpython-312/gtn\n",
            "creating build/lib.linux-x86_64-cpython-312/gtn/criterion\n",
            "copying src/bindings/python/gtn/criterion/__init__.py -> build/lib.linux-x86_64-cpython-312/gtn/criterion\n",
            "running build_ext\n",
            "\u001b[0mCMake Deprecation Warning at CMakeLists.txt:1 (cmake_minimum_required):\n",
            "  Compatibility with CMake < 3.10 will be removed from a future version of\n",
            "  CMake.\n",
            "\n",
            "  Update the VERSION argument <min> value.  Or, use the <min>...<max> syntax\n",
            "  to tell CMake that the project requires at least <min> but has been updated\n",
            "  to work with policies introduced by <max> or earlier.\n",
            "\n",
            "\u001b[0m\n",
            "-- The CXX compiler identification is GNU 11.4.0\n",
            "-- Detecting CXX compiler ABI info\n",
            "-- Detecting CXX compiler ABI info - done\n",
            "-- Check for working CXX compiler: /usr/bin/c++ - skipped\n",
            "-- Detecting CXX compile features\n",
            "-- Detecting CXX compile features - done\n",
            "\u001b[33mCMake Warning (dev) at CMakeLists.txt:11 (find_package):\n",
            "  Policy CMP0146 is not set: The FindCUDA module is removed.  Run \"cmake\n",
            "  --help-policy CMP0146\" for policy details.  Use the cmake_policy command to\n",
            "  set the policy and suppress this warning.\n",
            "\n",
            "This warning is for project developers.  Use -Wno-dev to suppress it.\n",
            "\u001b[0m\n",
            "-- Performing Test CMAKE_HAVE_LIBC_PTHREAD\n",
            "-- Performing Test CMAKE_HAVE_LIBC_PTHREAD - Success\n",
            "-- Found Threads: TRUE\n",
            "-- Found CUDA: /usr/local/cuda (found suitable version \"12.5\", minimum required is \"9.0\")\n",
            "-- The CUDA compiler identification is NVIDIA 12.5.82 with host compiler GNU 11.4.0\n",
            "-- Detecting CUDA compiler ABI info\n",
            "-- Detecting CUDA compiler ABI info - done\n",
            "-- Check for working CUDA compiler: /usr/local/cuda/bin/nvcc - skipped\n",
            "-- Detecting CUDA compile features\n",
            "-- Detecting CUDA compile features - done\n",
            "\u001b[0mCMake Deprecation Warning at gtn/CMakeLists.txt:1 (cmake_minimum_required):\n",
            "  Compatibility with CMake < 3.10 will be removed from a future version of\n",
            "  CMake.\n",
            "\n",
            "  Update the VERSION argument <min> value.  Or, use the <min>...<max> syntax\n",
            "  to tell CMake that the project requires at least <min> but has been updated\n",
            "  to work with policies introduced by <max> or earlier.\n",
            "Call Stack (most recent call first):\n",
            "  CMakeLists.txt:34 (include)\n",
            "\n",
            "\u001b[0m\n",
            "\u001b[0mCMake Deprecation Warning at gtn/CMakeLists.txt:1 (cmake_minimum_required):\n",
            "  Compatibility with CMake < 3.10 will be removed from a future version of\n",
            "  CMake.\n",
            "\n",
            "  Update the VERSION argument <min> value.  Or, use the <min>...<max> syntax\n",
            "  to tell CMake that the project requires at least <min> but has been updated\n",
            "  to work with policies introduced by <max> or earlier.\n",
            "\n",
            "\u001b[0m\n",
            "-- Building Python bindings.\n",
            "\u001b[0mCMake Deprecation Warning at cmake/pybind11Tools.cmake:8 (cmake_minimum_required):\n",
            "  Compatibility with CMake < 3.10 will be removed from a future version of\n",
            "  CMake.\n",
            "\n",
            "  Update the VERSION argument <min> value.  Or, use the <min>...<max> syntax\n",
            "  to tell CMake that the project requires at least <min> but has been updated\n",
            "  to work with policies introduced by <max> or earlier.\n",
            "Call Stack (most recent call first):\n",
            "  CMakeLists.txt:71 (include)\n",
            "\n",
            "\u001b[0m\n",
            "\u001b[33mCMake Warning (dev) at cmake/FindPythonLibsNew.cmake:60 (find_package):\n",
            "  Policy CMP0148 is not set: The FindPythonInterp and FindPythonLibs modules\n",
            "  are removed.  Run \"cmake --help-policy CMP0148\" for policy details.  Use\n",
            "  the cmake_policy command to set the policy and suppress this warning.\n",
            "\n",
            "Call Stack (most recent call first):\n",
            "  cmake/pybind11Tools.cmake:16 (find_package)\n",
            "  CMakeLists.txt:71 (include)\n",
            "This warning is for project developers.  Use -Wno-dev to suppress it.\n",
            "\u001b[0m\n",
            "-- Found PythonInterp: /usr/bin/python3 (found version \"3.12.12\")\n",
            "-- Found PythonLibs: /usr/lib/x86_64-linux-gnu/libpython3.12.so\n",
            "-- Performing Test HAS_FLTO\n",
            "-- Performing Test HAS_FLTO - Success\n",
            "-- LTO enabled\n",
            "-- Configuring done (3.0s)\n",
            "\u001b[33mCMake Warning (dev) in CMakeLists.txt:\n",
            "  Policy CMP0104 is not set: CMAKE_CUDA_ARCHITECTURES now detected for NVCC,\n",
            "  empty CUDA_ARCHITECTURES not allowed.  Run \"cmake --help-policy CMP0104\"\n",
            "  for policy details.  Use the cmake_policy command to set the policy and\n",
            "  suppress this warning.\n",
            "\n",
            "  CUDA_ARCHITECTURES is empty for target \"gtn\".\n",
            "This warning is for project developers.  Use -Wno-dev to suppress it.\n",
            "\u001b[0m\n",
            "-- Generating done (0.0s)\n",
            "-- Build files have been written to: /content/gtn/bindings/python/build/temp.linux-x86_64-cpython-312\n",
            "[  2%] \u001b[34m\u001b[1mCreating directories for 'pybind11'\u001b[0m\n",
            "[  4%] \u001b[32mBuilding CXX object CMakeFiles/gtn.dir/gtn/autograd.cpp.o\u001b[0m\n",
            "[  6%] \u001b[32mBuilding CXX object CMakeFiles/gtn.dir/gtn/cpu/compose.cpp.o\u001b[0m\n",
            "[  8%] \u001b[32mBuilding CXX object CMakeFiles/gtn.dir/gtn/cpu/creations.cpp.o\u001b[0m\n",
            "[ 10%] \u001b[34m\u001b[1mPerforming download step (git clone) for 'pybind11'\u001b[0m\n",
            "Cloning into 'pybind11'...\n",
            "[ 12%] \u001b[32mBuilding CXX object CMakeFiles/gtn.dir/gtn/cpu/functions.cpp.o\u001b[0m\n",
            "[ 14%] \u001b[32mBuilding CXX object CMakeFiles/gtn.dir/gtn/cpu/shortest.cpp.o\u001b[0m\n",
            "HEAD is now at f7b49961 [skip ci] Tweaks in preparation for the 2.8.1 release. (#3421)\n",
            "[ 17%] \u001b[34m\u001b[1mPerforming update step for 'pybind11'\u001b[0m\n",
            "-- Already at requested ref: f7b499615e14d70ab098a20deb0cdb3889998a1a\n",
            "[ 19%] \u001b[34m\u001b[1mNo patch step for 'pybind11'\u001b[0m\n",
            "[ 21%] \u001b[34m\u001b[1mNo configure step for 'pybind11'\u001b[0m\n",
            "[ 23%] \u001b[34m\u001b[1mNo build step for 'pybind11'\u001b[0m\n",
            "[ 25%] \u001b[32mBuilding CXX object CMakeFiles/gtn.dir/gtn/creations.cpp.o\u001b[0m\n",
            "[ 27%] \u001b[34m\u001b[1mNo install step for 'pybind11'\u001b[0m\n",
            "[ 29%] \u001b[34m\u001b[1mCompleted 'pybind11'\u001b[0m\n",
            "[ 29%] Built target pybind11\n",
            "[ 31%] \u001b[32mBuilding CXX object CMakeFiles/gtn.dir/gtn/device.cpp.o\u001b[0m\n",
            "[ 34%] \u001b[32mBuilding CXX object CMakeFiles/gtn.dir/gtn/criterions.cpp.o\u001b[0m\n",
            "[ 36%] \u001b[32mBuilding CXX object CMakeFiles/gtn.dir/gtn/functions.cpp.o\u001b[0m\n",
            "[ 38%] \u001b[32mBuilding CXX object CMakeFiles/gtn.dir/gtn/graph.cpp.o\u001b[0m\n",
            "[ 40%] \u001b[32mBuilding CXX object CMakeFiles/gtn.dir/gtn/parallel/parallel_map.cpp.o\u001b[0m\n",
            "[ 42%] \u001b[32mBuilding CXX object CMakeFiles/gtn.dir/gtn/rand.cpp.o\u001b[0m\n",
            "[ 44%] \u001b[32mBuilding CXX object CMakeFiles/gtn.dir/gtn/utils.cpp.o\u001b[0m\n",
            "[ 46%] \u001b[32mBuilding CUDA object CMakeFiles/gtn.dir/gtn/cuda/creations.cu.o\u001b[0m\n",
            "[ 48%] \u001b[32mBuilding CUDA object CMakeFiles/gtn.dir/gtn/cuda/compose.cu.o\u001b[0m\n",
            "[ 51%] \u001b[32mBuilding CUDA object CMakeFiles/gtn.dir/gtn/cuda/cuda.cu.o\u001b[0m\n",
            "[ 53%] \u001b[32mBuilding CXX object CMakeFiles/gtn.dir/gtn/cuda/functions.cpp.o\u001b[0m\n",
            "[ 55%] \u001b[32mBuilding CUDA object CMakeFiles/gtn.dir/gtn/cuda/shortest.cu.o\u001b[0m\n",
            "\u001b[01m\u001b[0m\u001b[01m/content/gtn/bindings/python/src/gtn/cuda/shortest.cu(353)\u001b[0m: \u001b[01;31merror\u001b[0m: namespace \u001b[01m\"thrust\"\u001b[0m has no member \"\u001b[01mdevice\u001b[0m\"\n",
            "        thrust::device,\n",
            "                ^\n",
            "\n",
            "\u001b[01m\u001b[0m\u001b[01m/content/gtn/bindings/python/src/gtn/cuda/shortest.cu(352)\u001b[0m: \u001b[01;31merror\u001b[0m: no instance of overloaded function \u001b[01m\"thrust::fill\"\u001b[0m matches the argument list\n",
            "            argument types are: (<error-type>, gtn::cuda::detail::<unnamed>::ArgMaxT *, gtn::cuda::detail::<unnamed>::ArgMaxT *, gtn::cuda::detail::<unnamed>::ArgMaxT)\n",
            "    thrust::fill(\n",
            "    ^\n",
            "\u001b[01m\u001b[0m\u001b[01m/usr/local/cuda/include/thrust/detail/fill.inl(40)\u001b[0m: \u001b[01;36mnote\u001b[0m #3327-D: candidate function template \u001b[01m\"thrust::THRUST_200400_800_NS::fill(const thrust::THRUST_200400_800_NS::detail::execution_policy_base<DerivedPolicy> &, ForwardIterator, ForwardIterator, const T &)\"\u001b[0m failed deduction\n",
            "   void fill(const thrust::detail::execution_policy_base<DerivedPolicy> &exec,\n",
            "        ^\n",
            "\u001b[01m\u001b[0m\u001b[01m/usr/local/cuda/include/thrust/detail/fill.inl(65)\u001b[0m: \u001b[01;36mnote\u001b[0m #3322-D: number of parameters of function template \u001b[01m\"thrust::THRUST_200400_800_NS::fill(ForwardIterator, ForwardIterator, const T &)\"\u001b[0m does not match the call\n",
            "   void fill(ForwardIterator first,\n",
            "        ^\n",
            "\n",
            "2 errors detected in the compilation of \"/content/gtn/bindings/python/src/gtn/cuda/shortest.cu\".\n",
            "gmake[2]: *** [CMakeFiles/gtn.dir/build.make:321: CMakeFiles/gtn.dir/gtn/cuda/shortest.cu.o] Error 2\n",
            "gmake[2]: *** Waiting for unfinished jobs....\n",
            "gmake[1]: *** [CMakeFiles/Makefile2:162: CMakeFiles/gtn.dir/all] Error 2\n",
            "gmake: *** [Makefile:136: all] Error 2\n",
            "Traceback (most recent call last):\n",
            "  File \"/content/gtn/bindings/python/setup.py\", line 100, in <module>\n",
            "    setup(\n",
            "  File \"/usr/local/lib/python3.12/dist-packages/setuptools/__init__.py\", line 117, in setup\n",
            "    return distutils.core.setup(**attrs)\n",
            "           ^^^^^^^^^^^^^^^^^^^^^^^^^^^^^\n",
            "  File \"/usr/local/lib/python3.12/dist-packages/setuptools/_distutils/core.py\", line 183, in setup\n",
            "    return run_commands(dist)\n",
            "           ^^^^^^^^^^^^^^^^^^\n",
            "  File \"/usr/local/lib/python3.12/dist-packages/setuptools/_distutils/core.py\", line 199, in run_commands\n",
            "    dist.run_commands()\n",
            "  File \"/usr/local/lib/python3.12/dist-packages/setuptools/_distutils/dist.py\", line 954, in run_commands\n",
            "    self.run_command(cmd)\n",
            "  File \"/usr/local/lib/python3.12/dist-packages/setuptools/dist.py\", line 991, in run_command\n",
            "    super().run_command(command)\n",
            "  File \"/usr/local/lib/python3.12/dist-packages/setuptools/_distutils/dist.py\", line 973, in run_command\n",
            "    cmd_obj.run()\n",
            "  File \"/usr/local/lib/python3.12/dist-packages/setuptools/command/install.py\", line 97, in run\n",
            "    self.do_egg_install()\n",
            "  File \"/usr/local/lib/python3.12/dist-packages/setuptools/command/install.py\", line 149, in do_egg_install\n",
            "    self.run_command('bdist_egg')\n",
            "  File \"/usr/local/lib/python3.12/dist-packages/setuptools/_distutils/cmd.py\", line 316, in run_command\n",
            "    self.distribution.run_command(command)\n",
            "  File \"/usr/local/lib/python3.12/dist-packages/setuptools/dist.py\", line 991, in run_command\n",
            "    super().run_command(command)\n",
            "  File \"/usr/local/lib/python3.12/dist-packages/setuptools/_distutils/dist.py\", line 973, in run_command\n",
            "    cmd_obj.run()\n",
            "  File \"/usr/local/lib/python3.12/dist-packages/setuptools/command/bdist_egg.py\", line 168, in run\n",
            "    cmd = self.call_command('install_lib', warn_dir=False)\n",
            "          ^^^^^^^^^^^^^^^^^^^^^^^^^^^^^^^^^^^^^^^^^^^^^^^^\n",
            "  File \"/usr/local/lib/python3.12/dist-packages/setuptools/command/bdist_egg.py\", line 154, in call_command\n",
            "    self.run_command(cmdname)\n",
            "  File \"/usr/local/lib/python3.12/dist-packages/setuptools/_distutils/cmd.py\", line 316, in run_command\n",
            "    self.distribution.run_command(command)\n",
            "  File \"/usr/local/lib/python3.12/dist-packages/setuptools/dist.py\", line 991, in run_command\n",
            "    super().run_command(command)\n",
            "  File \"/usr/local/lib/python3.12/dist-packages/setuptools/_distutils/dist.py\", line 973, in run_command\n",
            "    cmd_obj.run()\n",
            "  File \"/usr/local/lib/python3.12/dist-packages/setuptools/command/install_lib.py\", line 19, in run\n",
            "    self.build()\n",
            "  File \"/usr/local/lib/python3.12/dist-packages/setuptools/_distutils/command/install_lib.py\", line 110, in build\n",
            "    self.run_command('build_ext')\n",
            "  File \"/usr/local/lib/python3.12/dist-packages/setuptools/_distutils/cmd.py\", line 316, in run_command\n",
            "    self.distribution.run_command(command)\n",
            "  File \"/usr/local/lib/python3.12/dist-packages/setuptools/dist.py\", line 991, in run_command\n",
            "    super().run_command(command)\n",
            "  File \"/usr/local/lib/python3.12/dist-packages/setuptools/_distutils/dist.py\", line 973, in run_command\n",
            "    cmd_obj.run()\n",
            "  File \"/content/gtn/bindings/python/setup.py\", line 53, in run\n",
            "    self.build_extension(ext)\n",
            "  File \"/content/gtn/bindings/python/setup.py\", line 95, in build_extension\n",
            "    subprocess.check_call(\n",
            "  File \"/usr/lib/python3.12/subprocess.py\", line 413, in check_call\n",
            "    raise CalledProcessError(retcode, cmd)\n",
            "subprocess.CalledProcessError: Command '['cmake', '--build', '.', '--config', 'Release', '--', '-j4']' returned non-zero exit status 2.\n"
          ]
        }
      ],
      "source": [
        "!cd gtn/bindings/python && python setup.py install"
      ]
    },
    {
      "cell_type": "code",
      "execution_count": 3,
      "metadata": {
        "colab": {
          "base_uri": "https://localhost:8080/",
          "height": 180
        },
        "id": "8KS-qIaaBiFJ",
        "outputId": "e022a577-7d86-4581-80bd-256bd68f5a41"
      },
      "outputs": [
        {
          "ename": "AttributeError",
          "evalue": "module 'gtn' has no attribute 'Graph'",
          "output_type": "error",
          "traceback": [
            "\u001b[0;31m---------------------------------------------------------------------------\u001b[0m",
            "\u001b[0;31mAttributeError\u001b[0m                            Traceback (most recent call last)",
            "\u001b[0;32m/tmp/ipython-input-1183276407.py\u001b[0m in \u001b[0;36m<cell line: 0>\u001b[0;34m()\u001b[0m\n\u001b[1;32m      1\u001b[0m \u001b[0;32mimport\u001b[0m \u001b[0mgtn\u001b[0m\u001b[0;34m\u001b[0m\u001b[0;34m\u001b[0m\u001b[0m\n\u001b[1;32m      2\u001b[0m \u001b[0;34m\u001b[0m\u001b[0m\n\u001b[0;32m----> 3\u001b[0;31m \u001b[0mg1\u001b[0m \u001b[0;34m=\u001b[0m \u001b[0mgtn\u001b[0m\u001b[0;34m.\u001b[0m\u001b[0mGraph\u001b[0m\u001b[0;34m(\u001b[0m\u001b[0;34m)\u001b[0m\u001b[0;34m\u001b[0m\u001b[0;34m\u001b[0m\u001b[0m\n\u001b[0m",
            "\u001b[0;31mAttributeError\u001b[0m: module 'gtn' has no attribute 'Graph'"
          ]
        }
      ],
      "source": [
        "import gtn\n",
        "\n",
        "g1 = gtn.Graph()"
      ]
    },
    {
      "cell_type": "markdown",
      "metadata": {
        "id": "5KREhDlCMAa7"
      },
      "source": [
        "## Dataset\n",
        "As always, the first thing to do is implementing the dataset. We're going to create a dataset that creates images of random words. We'll also include some augmentations, such as jitter (moving the character horizontally)."
      ]
    },
    {
      "cell_type": "code",
      "execution_count": 4,
      "metadata": {
        "colab": {
          "base_uri": "https://localhost:8080/"
        },
        "id": "jg1AZlskMF8d",
        "outputId": "6ada3311-7c57-4b09-d58a-9de8b1956503"
      },
      "outputs": [
        {
          "name": "stdout",
          "output_type": "stream",
          "text": [
            "  % Total    % Received % Xferd  Average Speed   Time    Time     Time  Current\n",
            "                                 Dload  Upload   Total   Spent    Left  Speed\n",
            "100 29805  100 29805    0     0  68809      0 --:--:-- --:--:-- --:--:-- 68833\n",
            "Archive:  fonts/font.zip\n",
            "  inflating: fonts/Anonymous.ttf     \n",
            "  inflating: fonts/Mark Simonson - Anonymous License.txt  \n"
          ]
        }
      ],
      "source": [
        "! mkdir fonts\n",
        "! curl --output fonts/font.zip https://www.fontsquirrel.com/fonts/download/Anonymous\n",
        "! unzip -n fonts/font.zip -d fonts"
      ]
    },
    {
      "cell_type": "code",
      "execution_count": 5,
      "metadata": {
        "colab": {
          "base_uri": "https://localhost:8080/",
          "height": 466
        },
        "id": "hhX6fPd7MAa7",
        "outputId": "8618ddc2-c339-4a06-d2c5-df50adc799f1"
      },
      "outputs": [
        {
          "name": "stdout",
          "output_type": "stream",
          "text": [
            "torch.Size([32, 18])\n"
          ]
        },
        {
          "data": {
            "text/plain": [
              "<matplotlib.image.AxesImage at 0x7bcb70edac90>"
            ]
          },
          "execution_count": 5,
          "metadata": {},
          "output_type": "execute_result"
        },
        {
          "data": {
            "image/png": "[encoded data removed]",
            "text/plain": [
              "<Figure size 640x480 with 1 Axes>"
            ]
          },
          "metadata": {},
          "output_type": "display_data"
        }
      ],
      "source": [
        "from PIL import ImageDraw, ImageFont\n",
        "import string\n",
        "import random\n",
        "import torch\n",
        "import torchvision\n",
        "from torchvision import transforms\n",
        "from PIL import Image # PIL is a library to process images\n",
        "from matplotlib import pyplot as plt\n",
        "import gtn\n",
        "\n",
        "simple_transforms = transforms.Compose([\n",
        "                                    transforms.ToTensor(),\n",
        "                                ])\n",
        "\n",
        "class SimpleWordsDataset(torch.utils.data.IterableDataset):\n",
        "\n",
        "  def __init__(self, max_length, len=100, jitter=False, noise=False):\n",
        "    self.max_length = max_length\n",
        "    self.transforms = transforms.ToTensor()\n",
        "    self.len = len\n",
        "    self.jitter = jitter\n",
        "    self.noise = noise\n",
        "\n",
        "  def __len__(self):\n",
        "    return self.len\n",
        "\n",
        "  def __iter__(self):\n",
        "    for _ in range(self.len):\n",
        "        text = ''.join([random.choice(string.ascii_lowercase) for i in range(self.max_length)])\n",
        "        img = self.draw_text(text, jitter=self.jitter, noise=self.noise)\n",
        "        yield img, text\n",
        "\n",
        "  def draw_text(self, text, length=None, jitter=False, noise=False):\n",
        "    if length == None:\n",
        "        length = 18 * len(text)\n",
        "    img = Image.new('L', (length, 32))\n",
        "    fnt = ImageFont.truetype(\"fonts/Anonymous.ttf\", 20)\n",
        "\n",
        "    d = ImageDraw.Draw(img)\n",
        "    pos = (0, 5)\n",
        "    if jitter:\n",
        "        pos = (random.randint(0, 7), 5)\n",
        "    else:\n",
        "        pos = (0, 5)\n",
        "    d.text(pos, text, fill=1, font=fnt)\n",
        "\n",
        "    img = self.transforms(img)\n",
        "    img[img > 0] = 1\n",
        "\n",
        "    if noise:\n",
        "        img += torch.bernoulli(torch.ones_like(img) * 0.1)\n",
        "        img = img.clamp(0, 1)\n",
        "\n",
        "\n",
        "    return img[0]\n",
        "\n",
        "sds = SimpleWordsDataset(1, jitter=True, noise=False)\n",
        "img = next(iter(sds))[0]\n",
        "print(img.shape)\n",
        "plt.imshow(img)"
      ]
    },
    {
      "cell_type": "markdown",
      "metadata": {
        "id": "IEc69CZ_MAbK"
      },
      "source": [
        "We can look at what the entire alphabet looks like in this dataset."
      ]
    },
    {
      "cell_type": "code",
      "execution_count": 6,
      "metadata": {
        "colab": {
          "base_uri": "https://localhost:8080/",
          "height": 870
        },
        "id": "j2QnA4u0MAbK",
        "outputId": "68fd85d2-b0f7-4949-a4c2-fde1cae0470c",
        "scrolled": false
      },
      "outputs": [
        {
          "data": {
            "image/png": "[encoded data removed]",
            "text/plain": [
              "<Figure size 2400x1200 with 27 Axes>"
            ]
          },
          "metadata": {},
          "output_type": "display_data"
        }
      ],
      "source": [
        "fig, ax = plt.subplots(3, 9, figsize=(12, 6), dpi=200)\n",
        "\n",
        "for i, c in enumerate(string.ascii_lowercase):\n",
        "    row = i // 9\n",
        "    col = i % 9\n",
        "    ax[row][col].imshow(sds.draw_text(c))\n",
        "    ax[row][col].axis('off')\n",
        "ax[2][8].axis('off')\n",
        "\n",
        "plt.show()"
      ]
    },
    {
      "cell_type": "markdown",
      "metadata": {
        "id": "SG9jGHccMAbL"
      },
      "source": [
        "We can also put the entire alphabet in one image."
      ]
    },
    {
      "cell_type": "code",
      "execution_count": 7,
      "metadata": {
        "colab": {
          "base_uri": "https://localhost:8080/",
          "height": 168
        },
        "id": "8BMT8uIFMAbM",
        "outputId": "8f361025-adab-4742-982c-b6dace7ee3d5"
      },
      "outputs": [
        {
          "name": "stdout",
          "output_type": "stream",
          "text": [
            "torch.Size([32, 340])\n"
          ]
        },
        {
          "data": {
            "image/png": "[encoded data removed]",
            "text/plain": [
              "<Figure size 1280x960 with 1 Axes>"
            ]
          },
          "metadata": {},
          "output_type": "display_data"
        }
      ],
      "source": [
        "alphabet = sds.draw_text(string.ascii_lowercase, 340)\n",
        "plt.figure(dpi=200)\n",
        "plt.imshow(alphabet)\n",
        "plt.axis('off')\n",
        "\n",
        "print(alphabet.shape)"
      ]
    },
    {
      "cell_type": "markdown",
      "metadata": {
        "id": "MreUfYMLMAbM"
      },
      "source": [
        "## Model definition\n",
        "Before we define the model, we define the size of our alphabet. Our alphabet consists of lowercase English letters, and additionally a special character used for space between symbols or before and after the word. For the first part of this assignment, we don't need that extra character.\n",
        "\n",
        "Our end goal is to learn to transcribe words of arbitrary length. However, first, we pre-train our simple convolutional neural net to recognize single characters. In order to be able to use the same model for one character and for entire words, we are going to design the model in a way that makes sure that the output size for one character (or when input image size is 32x18) is 1x27, and Kx27 whenever the input image is wider. K here will depend on particular architecture of the network, and is affected by strides, poolings, among other things.\n",
        "A little bit more formally, our model $f_\\theta$, for an input image $x$ gives output energies $l = f_\\theta(x)$. If $x \\in \\mathbb{R}^{32 \\times 18}$, then $l \\in \\mathbb{R}^{1 \\times 27}$.\n",
        "If $x \\in \\mathbb{R}^{32 \\times 100}$ for example, our model may output $l \\in \\mathbb{R}^{10 \\times 27}$, where $l_i$ corresponds to a particular window in $x$, for example from $x_{0, 9i}$ to $x_{32, 9i + 18}$ (again, this will depend on the particular architecture).\n",
        "\n",
        "Below is a drawing that explains the sliding window concept. We use the same neural net with the same weights to get $l_1, l_2, l_3$, the only difference is receptive field. $l_1$ is looks at the leftmost part, at character 'c', $l_2$ looks at 'a', and $l_3$ looks at 't'. The receptive field may or may not overlap, depending on how you design your convolutions.\n",
        "\n",
        "![cat.png](https://i.imgur.com/JByfyKh.png)"
      ]
    },
    {
      "cell_type": "code",
      "execution_count": 8,
      "metadata": {
        "id": "qQWNtXbkMAbO"
      },
      "outputs": [],
      "source": [
        "# constants for number of classes in total, and for the special extra character for empty space\n",
        "ALPHABET_SIZE = 27\n",
        "BETWEEN = 26"
      ]
    },
    {
      "cell_type": "code",
      "execution_count": 9,
      "metadata": {
        "id": "nzj7g7fXMAbO"
      },
      "outputs": [],
      "source": [
        "import torch\n",
        "import torch.nn as nn\n",
        "import torch.nn.functional as F\n",
        "\n",
        "class SimpleNet(nn.Module):\n",
        "    def __init__(self):\n",
        "        super().__init__()\n",
        "        # TODO\n",
        "        self.in_channels = 1\n",
        "        self.height = 32\n",
        "        self.width = 18\n",
        "        self.hop_size = 3 # needs tuning\n",
        "        # self.hop_size = 6\n",
        "        # self.hop_size = 9\n",
        "\n",
        "        self.features = nn.Sequential(\n",
        "            nn.Conv2d(self.in_channels, 32, kernel_size=4, stride=1, padding=1),\n",
        "            nn.ReLU(inplace=True),\n",
        "            nn.MaxPool2d(kernel_size=2, stride=2),\n",
        "\n",
        "            nn.Conv2d(32, 64, kernel_size=3, stride=1, padding=1),\n",
        "            nn.ReLU(inplace=True),\n",
        "            nn.MaxPool2d(kernel_size=2, stride=2),\n",
        "        )\n",
        "\n",
        "        # Fully connected layer for classification (per window)\n",
        "        fc_in = self._infer_fc_in_features()\n",
        "        self.fc = nn.Linear(fc_in, ALPHABET_SIZE)\n",
        "\n",
        "    def _infer_fc_in_features(self) -> int:\n",
        "        \"\"\"Run a dummy window through feature stack to compute flattened dim.\"\"\"\n",
        "        with torch.no_grad():\n",
        "            dummy = torch.zeros(1, self.in_channels, self.height, self.width)\n",
        "            out = self.features(dummy)\n",
        "            return out.numel()\n",
        "\n",
        "    def forward(self, x):\n",
        "        # TODO\n",
        "        B, C, H, W = x.shape\n",
        "        assert C == self.in_channels and H == self.height, \\\n",
        "            f\"Expected input (B,{self.in_channels},{self.height},W), got {x.shape}\"\n",
        "\n",
        "        # Unfold horizontally into sliding windows of width `self.width` with step `self.hop_size`\n",
        "        x = x.unfold(-1, self.width, self.hop_size)     # (B, C, H, K, width)\n",
        "        K = x.size(3)                               # number of sliding windows\n",
        "\n",
        "        # Rearrange to merge windows into batch dimension\n",
        "        x = x.permute(0, 3, 1, 2, 4).reshape(B * K, C, H, self.width)\n",
        "\n",
        "        # Forward through CNN layers\n",
        "        x = self.features(x)\n",
        "\n",
        "        # Flatten and classify\n",
        "        x = x.view(B * K, -1)\n",
        "        x = self.fc(x)\n",
        "\n",
        "        # Reshape back to (B, K, ALPHABET_SIZE)\n",
        "        return x.view(B, K, ALPHABET_SIZE)"
      ]
    },
    {
      "cell_type": "markdown",
      "metadata": {
        "id": "YbW54IbwMAbP"
      },
      "source": [
        "Let's initalize the model and apply it to the alphabet image:"
      ]
    },
    {
      "cell_type": "code",
      "execution_count": 10,
      "metadata": {
        "colab": {
          "base_uri": "https://localhost:8080/",
          "height": 356
        },
        "id": "iKTeZ3V1MAbP",
        "outputId": "7f0ad19a-3418-4692-b63c-54f3ba57851a"
      },
      "outputs": [
        {
          "name": "stdout",
          "output_type": "stream",
          "text": [
            "torch.Size([1, 108, 27])\n"
          ]
        },
        {
          "data": {
            "image/png": "[encoded data removed]",
            "text/plain": [
              "<Figure size 1280x960 with 2 Axes>"
            ]
          },
          "metadata": {},
          "output_type": "display_data"
        }
      ],
      "source": [
        "model = SimpleNet()\n",
        "alphabet_energies = model(alphabet.view(1, 1, *alphabet.shape))\n",
        "\n",
        "def plot_energies(ce):\n",
        "    fig=plt.figure(dpi=200)\n",
        "    ax = plt.axes()\n",
        "    im = ax.imshow(ce.cpu().T)\n",
        "\n",
        "    ax.set_xlabel('window locations →')\n",
        "    ax.set_ylabel('← classes')\n",
        "    ax.xaxis.set_label_position('top')\n",
        "    ax.set_xticks([])\n",
        "    ax.set_yticks([])\n",
        "\n",
        "    cax = fig.add_axes([ax.get_position().x1+0.01,ax.get_position().y0,0.02,ax.get_position().height])\n",
        "    plt.colorbar(im, cax=cax)\n",
        "\n",
        "print(alphabet_energies.shape)\n",
        "plot_energies(alphabet_energies[0].detach())"
      ]
    },
    {
      "cell_type": "markdown",
      "metadata": {
        "id": "wcVdVdZCMAbQ"
      },
      "source": [
        "So far we only see random outputs, because the classifier is untrained."
      ]
    },
    {
      "cell_type": "markdown",
      "metadata": {
        "id": "Tm7ANbUIMAbQ"
      },
      "source": [
        "## Train with one character"
      ]
    },
    {
      "cell_type": "markdown",
      "metadata": {
        "id": "HN5j048fMAbR"
      },
      "source": [
        "Now we train the model we've created on a dataset where images contain only single characters. Note the changed cross_entropy function."
      ]
    },
    {
      "cell_type": "code",
      "execution_count": 11,
      "metadata": {
        "id": "Df9KcwADOE1E"
      },
      "outputs": [],
      "source": [
        "def train_model(model, epochs, dataloader, criterion, optimizer):\n",
        "    # TODO\n",
        "    device = next(model.parameters()).device\n",
        "    model.train()\n",
        "    for epoch in range(epochs):\n",
        "        running_loss, n_samples = 0.0, 0\n",
        "\n",
        "        for inputs, labels in tqdm(dataloader, desc=f\"Epoch {epoch+1}/{epochs}\"):\n",
        "            inputs = inputs.to(device).unsqueeze(1)   # (B, 1, 32, W)\n",
        "            labels = labels.to(device)\n",
        "\n",
        "            energies = model(inputs)               # (B, 27) or (B, 1, 27)\n",
        "            energies = energies.squeeze()\n",
        "\n",
        "            loss = criterion(energies, labels)\n",
        "\n",
        "            optimizer.zero_grad()\n",
        "            loss.backward()\n",
        "            optimizer.step()\n",
        "\n",
        "            # logging stats\n",
        "            bs = labels.size(0)\n",
        "            running_loss += loss.item() * bs\n",
        "            n_samples += bs\n",
        "\n",
        "        avg_loss = running_loss / max(1, n_samples)\n",
        "        print(f\"Epoch {epoch+1}/{epochs} - avg_loss: {avg_loss:.4f}\")\n"
      ]
    },
    {
      "cell_type": "code",
      "execution_count": 12,
      "metadata": {
        "colab": {
          "base_uri": "https://localhost:8080/",
          "height": 516,
          "referenced_widgets": [
            "862668493c554f7d9bd69f95465eb4af",
            "6ae61449f8744e1dbeea4ceb1b94a8e3",
            "9d1664315e0b4403bf636b9726bdd87f",
            "58e22d38f1e9472d9e76441d5f282b5c",
            "9925b7140fd34322b0dc080bd8734137",
            "b2ea9bb5dc7d4c8a97c9f00710b0f693",
            "6d754805c4fb44e7bde092da0f61f818",
            "8cf3d900caa442408dfe2733444b4ab2",
            "2bf1768c43fd4317a2915da969c35936",
            "f60cae4e1f224450bed692bc061e205c",
            "0aaf50b9deb744b596618e2ec7dc2fa8",
            "1ae35969cd314a0a93006bba87c1b620",
            "2247b423d7be4b73afbaa0b643ceb4e4",
            "06918ddb60924757939a730d6ac051e6",
            "1c20f61357694786b13ed13822e51890",
            "ab8d2b8053af45c383b82858fbbe0304",
            "a3f29a07ebb2466a9b088fcdf62bcfb4",
            "174f3925a7d4478a8f11187ba3c7ff23",
            "439da4435265463e98a594ad74994b75",
            "09baaefd466f4f8ba4561d44a0bfa909",
            "dca39074f9c849019eaf0ca3fbc48dcf",
            "3e1ddecccace4119af953d66ca7cf0f2",
            "5b282778821e4d329bb86ad4aa351d34",
            "b79fdd0f2bda46f9b4532b7087e73ec7",
            "be7fa64932d640519d2ad68df23bbe59",
            "6ab957fd99bf405785a8781095d56dfb",
            "97f9e7d9114e4b90bab8cab6f1d0c1a0",
            "5942db4413ef4588939cabd431f24a77",
            "844dc66f3fc34a8d87fdaa29da96d1c4",
            "e3d77e36372a4908a1aa7495992d687e",
            "15349ad1562145709a2080b881bdff09",
            "8665b93c9a7e4cb29a6098cfb0157729",
            "f786c96717f44a79bccdfdb3d2022b51",
            "74137beafe784e06b06134d10a9b7f0b",
            "9cccdff91cf84a19aaf2317f23c44177",
            "6ba44684dce042d68c56ace08468fe69",
            "176c7028b8b046859c822f4d687d5ca4",
            "dc488042d19e4b6c97607d61a5106cc7",
            "013124a0925640e98db45aa7242993a1",
            "e7d15d533f004995acc760a3415750f1",
            "1a42e36db69b415e8041794a6fd89667",
            "a9d34dbaf66949a3b6f5af23f4ce30bf",
            "143e5479472643eeadca03f2e0708a97",
            "37900ec4b7ea46c48c9c0e715f1ca991",
            "75f83d99d5314cfea7cbb45d11ba0398",
            "1e81c06bad424a57904cf492e9d5237a",
            "1600428f825444f8ad479704d671e6c5",
            "787181770f27404b9d826e0604a2390f",
            "7caf9b27328f4e84b8fcabcae3229897",
            "df39aab0b05d4c6184f70c464ba33282",
            "6eaa82c88b1145b0a7d58527b6e42aae",
            "16dd9b2964b6463c8c1144ff3d0e81fa",
            "fba28790360741e6b304a56127a206a5",
            "a8265950b1df40279605f83cb0679d83",
            "f838ecf326e7421c906025b21aa93339",
            "a0d56c5cb73a49e1b545b54a2eda7894",
            "d0d0271df5634e5b9b54d5e1ea8f7734",
            "f1aec2ff7730418ebb41403a56e960e2",
            "c2b76456dbe9469285521c79fd494717",
            "288de3c1873f434da3a5f3602265fd0b",
            "3df6d8dcfa2e4ed4a673fd79fce64d7e",
            "ae4f6b89e1a84a2bb3249bdd0eda9943",
            "f9b6a7689ed940d3afcbb63bdaaa27e0",
            "2c69b49434694d5a88574c1219c16266",
            "da5f4a886212463eb9aa62fc65b42638",
            "5926b91a2dad4e3b953a09f0257798df",
            "6ad175f558794eccb6fcad491dc53bf9",
            "51b4fd19015a478eab87784e30a18716",
            "2de85cb58a21449fa322f26cbeba92f5",
            "ab72ce613c1a4cd19e70c2f925b6199e",
            "31bf7dd7e352472dadc784f3931fc0f7",
            "6bb39ff05fbe4ff9985a95f6d4afb960",
            "0e384dfe55ae4fcfb4e042113506fa83",
            "989a4d617ea8451d8da98cb20394a10f",
            "31a40253a86e436ebca19b06cc32e347",
            "dccc790395164325b5fe1829bedb9ec9",
            "300615c2e38546068dc05415727c8cce",
            "70a93e8c1789470091fa2f974dae0e40",
            "20763d5ba2de4fdc8387248df0a29d74",
            "ef3393e2cb7540188b59a1c1fb10cd5a",
            "6158af7e78db4759a7f7a369c4d6becd",
            "af9dbfa045a9405c8c6a60eb468e863f",
            "4d25eb2b67b3421a8c43137ad2b84c4d",
            "795a675c4487413ebcafa87100a1bc2d",
            "fe0230b1cc4449ae8f194161f25e872f",
            "81bac79e813a47e3a23ba06bdaee98bb",
            "889184c8458347f49758d6f689c000a4",
            "289ce9b19d4c4de798427e906baf550e",
            "73034a6244b745898f842f6a79e454ce",
            "49133cf3e2654fa48e3fe882abd346b9",
            "4a9be90be6e240a49ca0005f83e70412",
            "e299c6d43cf74d4d8a90868c6d0d420e",
            "80efe0ae959c4e4698820614fc0b637f",
            "66b6cfaaf8184ec2839c74580bcc889e",
            "ab713d5200a0421c9599384f88405d96",
            "3b3c0e867a074282ac542a34423141ff",
            "1ac891c4f6c84de9b77c3175ec374a10",
            "b020744ac2314ddba53218efc31acb8e",
            "f8f97667bf7646c2bd94833240504923",
            "368e0343c5734846af805ea5fbd5886c",
            "fd21ca27c45d4c98a86691953f04b83f",
            "b9b6c186a3ab43a3b3d9c5ff0d8b6f4b",
            "bf5d78dfb348429a9051d7fabe9ebc50",
            "a61bf7aad691464bbf35d2867f3fef31",
            "fe5b7deaddcc4aa99bb72ee12307191f",
            "2af44734f259459e8f91a1cf790a7882",
            "b14f73c00a9b44f09d19177528eaa4dd",
            "751bf4741959416ba695a95e6c02de9c",
            "99860ca7a8e94bcbb6f6695d117e81df",
            "905accf8fb37460884a5c34c6277d5f3"
          ]
        },
        "id": "DccqG9qKMAbR",
        "outputId": "1f82a671-5da2-4978-da9b-1f87e09bc72f"
      },
      "outputs": [
        {
          "data": {
            "application/vnd.jupyter.widget-view+json": {
              "model_id": "862668493c554f7d9bd69f95465eb4af",
              "version_major": 2,
              "version_minor": 0
            },
            "text/plain": [
              "Epoch 1/10:   0%|          | 0/63 [00:00<?, ?it/s]"
            ]
          },
          "metadata": {},
          "output_type": "display_data"
        },
        {
          "name": "stdout",
          "output_type": "stream",
          "text": [
            "Epoch 1/10 - avg_loss: 2.7130\n"
          ]
        },
        {
          "data": {
            "application/vnd.jupyter.widget-view+json": {
              "model_id": "1ae35969cd314a0a93006bba87c1b620",
              "version_major": 2,
              "version_minor": 0
            },
            "text/plain": [
              "Epoch 2/10:   0%|          | 0/63 [00:00<?, ?it/s]"
            ]
          },
          "metadata": {},
          "output_type": "display_data"
        },
        {
          "name": "stdout",
          "output_type": "stream",
          "text": [
            "Epoch 2/10 - avg_loss: 0.6512\n"
          ]
        },
        {
          "data": {
            "application/vnd.jupyter.widget-view+json": {
              "model_id": "5b282778821e4d329bb86ad4aa351d34",
              "version_major": 2,
              "version_minor": 0
            },
            "text/plain": [
              "Epoch 3/10:   0%|          | 0/63 [00:00<?, ?it/s]"
            ]
          },
          "metadata": {},
          "output_type": "display_data"
        },
        {
          "name": "stdout",
          "output_type": "stream",
          "text": [
            "Epoch 3/10 - avg_loss: 0.1640\n"
          ]
        },
        {
          "data": {
            "application/vnd.jupyter.widget-view+json": {
              "model_id": "74137beafe784e06b06134d10a9b7f0b",
              "version_major": 2,
              "version_minor": 0
            },
            "text/plain": [
              "Epoch 4/10:   0%|          | 0/63 [00:00<?, ?it/s]"
            ]
          },
          "metadata": {},
          "output_type": "display_data"
        },
        {
          "name": "stdout",
          "output_type": "stream",
          "text": [
            "Epoch 4/10 - avg_loss: 0.0404\n"
          ]
        },
        {
          "data": {
            "application/vnd.jupyter.widget-view+json": {
              "model_id": "75f83d99d5314cfea7cbb45d11ba0398",
              "version_major": 2,
              "version_minor": 0
            },
            "text/plain": [
              "Epoch 5/10:   0%|          | 0/63 [00:00<?, ?it/s]"
            ]
          },
          "metadata": {},
          "output_type": "display_data"
        },
        {
          "name": "stdout",
          "output_type": "stream",
          "text": [
            "Epoch 5/10 - avg_loss: 0.0639\n"
          ]
        },
        {
          "data": {
            "application/vnd.jupyter.widget-view+json": {
              "model_id": "a0d56c5cb73a49e1b545b54a2eda7894",
              "version_major": 2,
              "version_minor": 0
            },
            "text/plain": [
              "Epoch 6/10:   0%|          | 0/63 [00:00<?, ?it/s]"
            ]
          },
          "metadata": {},
          "output_type": "display_data"
        },
        {
          "name": "stdout",
          "output_type": "stream",
          "text": [
            "Epoch 6/10 - avg_loss: 0.0157\n"
          ]
        },
        {
          "data": {
            "application/vnd.jupyter.widget-view+json": {
              "model_id": "6ad175f558794eccb6fcad491dc53bf9",
              "version_major": 2,
              "version_minor": 0
            },
            "text/plain": [
              "Epoch 7/10:   0%|          | 0/63 [00:00<?, ?it/s]"
            ]
          },
          "metadata": {},
          "output_type": "display_data"
        },
        {
          "name": "stdout",
          "output_type": "stream",
          "text": [
            "Epoch 7/10 - avg_loss: 0.0060\n"
          ]
        },
        {
          "data": {
            "application/vnd.jupyter.widget-view+json": {
              "model_id": "70a93e8c1789470091fa2f974dae0e40",
              "version_major": 2,
              "version_minor": 0
            },
            "text/plain": [
              "Epoch 8/10:   0%|          | 0/63 [00:00<?, ?it/s]"
            ]
          },
          "metadata": {},
          "output_type": "display_data"
        },
        {
          "name": "stdout",
          "output_type": "stream",
          "text": [
            "Epoch 8/10 - avg_loss: 0.0046\n"
          ]
        },
        {
          "data": {
            "application/vnd.jupyter.widget-view+json": {
              "model_id": "73034a6244b745898f842f6a79e454ce",
              "version_major": 2,
              "version_minor": 0
            },
            "text/plain": [
              "Epoch 9/10:   0%|          | 0/63 [00:00<?, ?it/s]"
            ]
          },
          "metadata": {},
          "output_type": "display_data"
        },
        {
          "name": "stdout",
          "output_type": "stream",
          "text": [
            "Epoch 9/10 - avg_loss: 0.0031\n"
          ]
        },
        {
          "data": {
            "application/vnd.jupyter.widget-view+json": {
              "model_id": "368e0343c5734846af805ea5fbd5886c",
              "version_major": 2,
              "version_minor": 0
            },
            "text/plain": [
              "Epoch 10/10:   0%|          | 0/63 [00:00<?, ?it/s]"
            ]
          },
          "metadata": {},
          "output_type": "display_data"
        },
        {
          "name": "stdout",
          "output_type": "stream",
          "text": [
            "Epoch 10/10 - avg_loss: 0.0023\n"
          ]
        }
      ],
      "source": [
        "from tqdm.notebook import tqdm\n",
        "import torch.optim as optim\n",
        "\n",
        "def cross_entropy(energies, *args, **kwargs):\n",
        "    \"\"\" We use energies, and therefore we need to use log soft arg min instead\n",
        "        of log soft arg max. To do that we just multiply energies by -1. \"\"\"\n",
        "    return nn.functional.cross_entropy(-1 * energies, *args, **kwargs)\n",
        "\n",
        "def simple_collate_fn(samples):\n",
        "    images, annotations = zip(*samples)\n",
        "    images = list(images)\n",
        "    annotations = list(annotations)\n",
        "    annotations = list(map(lambda c : torch.tensor(ord(c) - ord('a')), annotations))\n",
        "    m_width = max(18, max([i.shape[1] for i in images]))\n",
        "    for i in range(len(images)):\n",
        "        images[i] = torch.nn.functional.pad(images[i], (0, m_width - images[i].shape[-1]))\n",
        "\n",
        "    if len(images) == 1:\n",
        "        return images[0].unsqueeze(0), torch.stack(annotations)\n",
        "    else:\n",
        "        return torch.stack(images), torch.stack(annotations)\n",
        "\n",
        "sds = SimpleWordsDataset(1, len=1000, jitter=True, noise=False)\n",
        "dataloader = torch.utils.data.DataLoader(sds, batch_size=16, num_workers=0, collate_fn=simple_collate_fn)\n",
        "\n",
        "device = torch.device('cuda' if torch.cuda.is_available() else 'cpu')\n",
        "model.to(device)\n",
        "# TODO: initialize optimizer\n",
        "optimizer = optim.Adam(model.parameters(), lr=1e-3)\n",
        "\n",
        "# TODO: train the model on the one-character dataset\n",
        "train_model(model, epochs=10, dataloader=dataloader, criterion=cross_entropy, optimizer=optimizer)\n"
      ]
    },
    {
      "cell_type": "code",
      "execution_count": 13,
      "metadata": {
        "id": "vBVKgV5dMAbR"
      },
      "outputs": [],
      "source": [
        "def get_accuracy(model, dataset):\n",
        "    cnt = 0\n",
        "    for i, l in dataset:\n",
        "        energies = model(i.unsqueeze(0).unsqueeze(0).to(device))[0, 0]\n",
        "        x = energies.argmin(dim=-1)\n",
        "        cnt += int(x == (ord(l[0]) - ord('a')))\n",
        "    return cnt / len(dataset)\n",
        "\n",
        "tds = SimpleWordsDataset(1, len=100)\n",
        "acc = get_accuracy(model, tds)\n",
        "assert acc == 1.0, 'Your model doesn\\'t achieve 100% accuracy for 1 character'"
      ]
    },
    {
      "cell_type": "markdown",
      "metadata": {
        "id": "q7A8Z2pIMAbT"
      },
      "source": [
        "Now, to see how our model would work with more than one character, we apply the model to a bigger input - the image of the alphabet we saw earlier. We extract the energies for each window and show them."
      ]
    },
    {
      "cell_type": "code",
      "execution_count": 14,
      "metadata": {
        "colab": {
          "base_uri": "https://localhost:8080/",
          "height": 356
        },
        "id": "k27gXaZgMAbT",
        "outputId": "1e4ee43d-079f-46eb-dd16-f3b0388102e2"
      },
      "outputs": [
        {
          "name": "stdout",
          "output_type": "stream",
          "text": [
            "torch.Size([1, 108, 27])\n"
          ]
        },
        {
          "data": {
            "image/png": "[encoded data removed]",
            "text/plain": [
              "<Figure size 1280x960 with 2 Axes>"
            ]
          },
          "metadata": {},
          "output_type": "display_data"
        }
      ],
      "source": [
        "alphabet_energies_post_train = model(alphabet.to(device).view(1, 1, *alphabet.shape))\n",
        "plot_energies(alphabet_energies_post_train[0].detach())\n",
        "\n",
        "print(alphabet_energies_post_train.shape)"
      ]
    },
    {
      "cell_type": "markdown",
      "metadata": {
        "id": "fV02yzglMAbT"
      },
      "source": [
        "Explain any classes that are lit up. What is still missing to be able to use it for transcription of words?\n",
        "\n",
        "Answer: # TODO\n",
        "\n",
        "The diagonal (low-energy) band shows correct letter activations, while the blank class (bottom row) has high energy because it wasn’t trained on multi-character images. To enable transcription, the model must learn a proper blank label and use a CTC-style decoding step to collapse repeats and separate letters."
      ]
    },
    {
      "cell_type": "markdown",
      "metadata": {
        "id": "hnCgx5k-MAbT"
      },
      "source": [
        "## Training with multiple characters\n",
        "\n",
        "Now, we want to train our model to not only recognize the letters, but also to recognize space in-between so that we can use it for transcription later.\n",
        "\n",
        "This is where complications begin. When transcribing a word from an image, we don't know beforehand how long the word is going to be. We can use our convolutional neural network we've pretrained on single characters to get prediction of character probabilities for all the positions of an input window in the new input image, but we don't know beforehand how to match those predictions with the target label. Training with incorrect matching can lead to wrong model, so in order to be able to train a network to transcribe words, we need a way to find these pairings.\n",
        "\n",
        "![dl.png](https://i.imgur.com/7pnodfV.png)\n",
        "\n",
        "The importance of pairings can be demonstrated by the drawing above. If we map $l_1, l_2, l_3, l_4$ to 'c', 'a', 't', '_' respectively, we'll correctly train the system, but if we put $l_1, l_2, l_3, l_4$ with 'a', 'a', 't', 't', we'd have a very wrong classifier.\n",
        "\n",
        "To formalize this, we use energy-based models' framework. Let's define the energy $E(x, y, z)$ as the sum of cross-entropies for a particular pairing between probabilities our model gives for input image $x$ and text transcription $y$, and pairing $z$. $z$ is a function $z : \\{1, 2, \\dots, \\vert l \\vert \\} \\to \\{1, 2, \\dots, \\vert y \\vert)$, $l$ here is the energies output of our convolutional neural net $l = f_\\theta(x)$. $z$ maps each energy vector in $l$ to an element in the output sequence $y$. We want the mappings to make sense, so $z$ should be a non-decreasing function $z(i) \\leq z(i+1)$, and it shouldn't skip characters, i.e. $\\forall_i \\exists_j z(j)=i$.\n",
        "\n",
        "Energy is then $E(x, y, z) = C(z) + \\sum_{i=1}^{\\vert l \\vert} l_i[z(i)]$\n",
        ",  $C(z)$ is some extra term that allows us to penalize certain pairings, and $l_i[z(i)]$ is the energy of $z(i)$-th symbol on position $i$.\n",
        "\n",
        "In this particular context, we define $C(z)$ to be infinity for impossible pairings:\n",
        "$$C(z) = \\begin{cases}\n",
        "\\infty \\; \\text{if} \\; z(1) \\neq 1 \\vee z(\\vert l \\vert) \\neq \\vert y \\vert \\vee \\exists_{i, 1\\leq 1 \\leq \\vert l \\vert - 1} z(i) > z(i+1) \\vee z(i) < z(i+1) - 1\\\\\n",
        "0 \\; \\text{otherwise}\n",
        "\\end{cases}\n",
        "$$\n",
        "\n",
        "\n",
        "Then, the free energy $F(x, y) = \\arg \\min_z E(x, y, z)$. In other words, the free energy is the energy of the best pairing between the probabilities provided by our model, and the target labels.\n",
        "\n",
        "When training, we are going to use cross-entropies along the best path: $\\ell(x, y, z) = \\sum_{i=1}^{\\vert l \\vert}H(y_{z(i)}, \\sigma(l_i))$, where $H$ is cross-entropy, $\\sigma$ is soft-argmin needed to convert energies to a distribution.\n",
        "\n",
        "First, let's write functions that would calculate the needed cross entropies $H(y_{z(i)}, \\sigma(l_i))$, and energies for us."
      ]
    },
    {
      "cell_type": "code",
      "execution_count": 15,
      "metadata": {
        "id": "D5WJxWjZMAbV"
      },
      "outputs": [],
      "source": [
        "def build_path_matrix(energies, targets):\n",
        "    # inputs:\n",
        "    #    energies, shape is BATCH_SIZE x L x 27\n",
        "    #    targets, shape is BATCH_SIZE x T\n",
        "    # L is \\vert l \\vert\n",
        "    # T is \\vert y \\vert\n",
        "    #\n",
        "    # outputs:\n",
        "    #    a matrix of shape BATCH_SIZE x L x T\n",
        "    #    where output[i, j, k] = energies[i, j, targets[i, k]]\n",
        "    #\n",
        "    # Note: you're not allowed to use for loops. The calculation has to be vectorized.\n",
        "    # you may want to use repeat and repeat_interleave.\n",
        "    # TODO\n",
        "    # Expand targets across the L dimension to index per window\n",
        "    idx = targets.unsqueeze(1).expand(-1, energies.size(1), -1)              # (B, L, T), no copy\n",
        "    out = torch.gather(energies, dim=2, index=idx)          # (B, L, T)\n",
        "    return out\n",
        "\n",
        "\n",
        "def build_ce_matrix(energies, targets):\n",
        "    # inputs:\n",
        "    #    energies, shape is BATCH_SIZE x L x 27\n",
        "    #    targets, shape is BATCH_SIZE x T\n",
        "    # L is \\ververtt = targets.unsqueeze(1).repeat(1,energies.shape[1],1)t l \\vert\n",
        "    # T is \\vert y \\vert\n",
        "    #\n",
        "    # outputs:\n",
        "    #    a matrix ce of shape BATCH_SIZE x L x T\n",
        "    #    where ce[i, j, k] = cross_entropy(energies[i, j], targets[i, k])\n",
        "    #\n",
        "    # Note: you're not allowed to use for loops. The calculation has to be vectorized.\n",
        "    # you may want to use repeat and repeat_interleave.\n",
        "    # TODO\n",
        "    B, L, C = energies.shape\n",
        "    T = targets.shape[1]\n",
        "\n",
        "    # Align shapes: replicate energies along T; replicate targets along L\n",
        "    e = energies.unsqueeze(2).expand(B, L, T, C)            # (B, L, T, 27)\n",
        "    t = targets.unsqueeze(1).expand(B, L, T)                # (B, L, T)\n",
        "\n",
        "    # Flatten to use vectorized cross-entropy, then reshape back\n",
        "    e_flat = e.reshape(-1, C)                                # (B*L*T, 27)\n",
        "    t_flat = t.reshape(-1)                                   # (B*L*T,)\n",
        "    ce_flat = cross_entropy(e_flat, t_flat, reduction='none')# (B*L*T,)\n",
        "    ce = ce_flat.view(B, L, T)                               # (B, L, T)\n",
        "    return ce"
      ]
    },
    {
      "cell_type": "markdown",
      "metadata": {
        "id": "RKZLjSCFMAbV"
      },
      "source": [
        "Another thing we will need is a transformation for our label $y$. We don't want to use it as is, we want to insert some special label after each character, so, for example 'cat' becomes 'c_a_t_'. This extra '\\_' models the separation between words, allowing our model to distinguish between strings 'aa' and 'a' in its output. This is then used in inference - we can just get the most likely character for each position from $l = f_\\theta(x)$ (for example 'aa_bb_ccc_'), and then remove duplicate characters ('a_b_c_'), and then remove _ (abc).\n",
        "Let's implement a function that would change the string in this manner, and then map all characters to values from 0 to 26, with 0 to 25 corresponding to a-z, and 26 corresponding to _:"
      ]
    },
    {
      "cell_type": "code",
      "execution_count": 16,
      "metadata": {
        "id": "wE4oZRDAMAbV"
      },
      "outputs": [],
      "source": [
        "def transform_word(s):\n",
        "    # input: a string\n",
        "    # output: a tensor of shape 2*len(s)\n",
        "    # TODO\n",
        "    # Insert '_' after each character, e.g., \"cat\" -> \"c_a_t_\"\n",
        "    transformed = '_'.join(list(s)) + '_'\n",
        "    # Map 'a'-'z' -> 0–25, '_' -> 26\n",
        "    mapped = [ord(ch) - ord('a') if ch != '_' else 26 for ch in transformed]\n",
        "    return torch.tensor(mapped, dtype=torch.long)"
      ]
    },
    {
      "cell_type": "markdown",
      "metadata": {
        "id": "i-txyVZkMAbV"
      },
      "source": [
        "Now, let's plot energy table built on our model's prediction for alphabet image."
      ]
    },
    {
      "cell_type": "code",
      "execution_count": 17,
      "metadata": {
        "colab": {
          "base_uri": "https://localhost:8080/",
          "height": 585
        },
        "id": "xgJsmkzmMAbX",
        "outputId": "768073a3-766b-41c4-d1dd-cb8dc48e197e"
      },
      "outputs": [
        {
          "name": "stdout",
          "output_type": "stream",
          "text": [
            "torch.Size([1, 108, 52])\n"
          ]
        },
        {
          "data": {
            "image/png": "[encoded data removed]",
            "text/plain": [
              "<Figure size 1280x960 with 2 Axes>"
            ]
          },
          "metadata": {},
          "output_type": "display_data"
        }
      ],
      "source": [
        "def plot_pm(pm, path=None):\n",
        "    fig=plt.figure(dpi=200)\n",
        "    ax = plt.axes()\n",
        "    im = ax.imshow(pm.cpu().T)\n",
        "\n",
        "    ax.set_xlabel('window locations →')\n",
        "    ax.set_ylabel('← label characters')\n",
        "    ax.xaxis.set_label_position('top')\n",
        "    ax.set_xticks([])\n",
        "    ax.set_yticks([])\n",
        "\n",
        "    if path is not None:\n",
        "        for i in range(len(path) - 1):\n",
        "            ax.plot(*path[i], *path[i+1], marker = 'o', markersize=0.5, linewidth=10, color='r', alpha=1)\n",
        "\n",
        "    cax = fig.add_axes([ax.get_position().x1+0.01,ax.get_position().y0,0.02,ax.get_position().height])\n",
        "    plt.colorbar(im, cax=cax)\n",
        "\n",
        "energies = model(alphabet.to(device).view(1, 1, *alphabet.shape))\n",
        "targets = transform_word(string.ascii_lowercase).unsqueeze(0).to(energies.device)\n",
        "\n",
        "pm = build_path_matrix(energies, targets)\n",
        "plot_pm(pm[0].detach())\n",
        "\n",
        "print(pm.shape)"
      ]
    },
    {
      "cell_type": "markdown",
      "metadata": {
        "id": "y_0IlGAzMAba"
      },
      "source": [
        "What do you see? What does the model classify correctly, and what does it have problems with?\n",
        "\n",
        "Answer: #TODO\n",
        "\n",
        "The low-energy diagonal indicates that the model now recognizes each character at its correct window position, and the added blank class helps separate adjacent letters. However, the higher energies elsewhere show that the model still struggles to fully capture spatial dependencies between characters and may produce noisy or repeated outputs."
      ]
    },
    {
      "cell_type": "markdown",
      "metadata": {
        "id": "8LvDnVQLMAba"
      },
      "source": [
        "Searching for a good pairing $z$ is same as searching for a trajectory with a small sum of it's values in this `pm` matrix. Where does the trajectory start, and where does it end? What other properties does the trajectory have? Can you see where an optimal trajecotry would be passing through in the plot above?\n",
        "\n",
        "Answer: #TODO\n",
        "\n",
        "The optimal trajectory starts at the top-left corner $z_{0,0}$ and ends at the bottom-right corner $z_{m,n}$. It moves monotonically through the matrix—only advancing right or downward—accumulating low-energy alignments between window positions and label characters. Each step represents a possible pairing, and the final path corresponds to the most consistent alignment between the predicted sequence and the target word."
      ]
    },
    {
      "cell_type": "markdown",
      "metadata": {
        "id": "Q3DOa35NMAba"
      },
      "source": [
        "Now let's implement a function that would tell us the energy of a particular path (i.e. pairing)."
      ]
    },
    {
      "cell_type": "code",
      "execution_count": 18,
      "metadata": {
        "id": "2Wxaq_x9MAbb"
      },
      "outputs": [],
      "source": [
        "def path_energy(pm, path):\n",
        "    # inputs:\n",
        "    #   pm - a matrix of energies\n",
        "    #    L - energies length\n",
        "    #    T - targets length\n",
        "    #   path - list of length L that maps each energy vector to an element in T\n",
        "    # returns:\n",
        "    #   energy - sum of energies on the path, or 2**30 if the mapping is invalid\n",
        "    # TODO\n",
        "    INVALID = torch.tensor(2 ** 30, dtype=pm.dtype, device=pm.device)\n",
        "    L, T = pm.shape\n",
        "\n",
        "    # Basic validity checks\n",
        "    if not path or path[0] != 0 or path[-1] != T - 1:\n",
        "        return INVALID\n",
        "\n",
        "    # Path must move only right (0) or down (1)\n",
        "    diffs = torch.diff(torch.tensor(path))\n",
        "    if not torch.all((diffs == 0) | (diffs == 1)):\n",
        "        return INVALID\n",
        "\n",
        "    # Safe indexing with bounds check\n",
        "    path_tensor = torch.tensor(path)\n",
        "    if torch.any((path_tensor < 0) | (path_tensor >= T)):\n",
        "        return INVALID\n",
        "\n",
        "    # Compute sum of energies along the path\n",
        "    return pm[torch.arange(L), path_tensor].sum()"
      ]
    },
    {
      "cell_type": "markdown",
      "metadata": {
        "id": "b-xYfH4OMAbb"
      },
      "source": [
        "Now we can check some randomly generated paths and see the associated energies for our alphabet image:"
      ]
    },
    {
      "cell_type": "code",
      "execution_count": 19,
      "metadata": {
        "colab": {
          "base_uri": "https://localhost:8080/",
          "height": 623
        },
        "id": "rnBl2XQGMAbc",
        "outputId": "44c47b61-f3fd-4256-b97f-2a033dea566c"
      },
      "outputs": [
        {
          "name": "stdout",
          "output_type": "stream",
          "text": [
            "[(0, 0), (1, 0), (2, 0), (3, 0), (4, 1), (5, 1), (6, 1), (7, 2), (8, 3), (9, 4), (10, 4), (11, 4), (12, 4), (13, 4), (14, 5), (15, 5), (16, 5), (17, 6), (18, 6), (19, 6), (20, 6), (21, 7), (22, 7), (23, 8), (24, 8), (25, 9), (26, 10), (27, 10), (28, 11), (29, 12), (30, 12), (31, 13), (32, 13), (33, 13), (34, 14), (35, 15), (36, 15), (37, 15), (38, 15), (39, 15), (40, 16), (41, 17), (42, 18), (43, 18), (44, 19), (45, 20), (46, 21), (47, 21), (48, 22), (49, 23), (50, 24), (51, 24), (52, 24), (53, 24), (54, 25), (55, 26), (56, 26), (57, 26), (58, 27), (59, 27), (60, 27), (61, 27), (62, 27), (63, 28), (64, 29), (65, 29), (66, 30), (67, 30), (68, 30), (69, 30), (70, 31), (71, 31), (72, 31), (73, 31), (74, 32), (75, 33), (76, 33), (77, 34), (78, 34), (79, 35), (80, 35), (81, 36), (82, 37), (83, 38), (84, 39), (85, 40), (86, 41), (87, 42), (88, 42), (89, 43), (90, 44), (91, 45), (92, 46), (93, 47), (94, 47), (95, 47), (96, 47), (97, 47), (98, 47), (99, 48), (100, 49), (101, 49), (102, 50), (103, 50), (104, 50), (105, 50), (106, 51), (107, 51)]\n",
            "energy is 4915.794921875\n"
          ]
        },
        {
          "data": {
            "image/png": "[encoded data removed]",
            "text/plain": [
              "<Figure size 1280x960 with 2 Axes>"
            ]
          },
          "metadata": {},
          "output_type": "display_data"
        }
      ],
      "source": [
        "path = torch.zeros(energies.shape[1] - 1)\n",
        "path[:targets.shape[1] - 1] = 1\n",
        "path = [0] + list(map(lambda x : x.int().item(), path[torch.randperm(path.shape[0])].cumsum(dim=-1)))\n",
        "points = list(zip(range(energies.shape[1]), path))\n",
        "\n",
        "plot_pm(pm[0].detach(), points)\n",
        "print(points)\n",
        "print('energy is', path_energy(pm[0], path).item())"
      ]
    },
    {
      "cell_type": "markdown",
      "metadata": {
        "id": "CJrzwsTVTbl1"
      },
      "source": [
        "Now, generate two paths with bad energies, print their energies and plot them."
      ]
    },
    {
      "cell_type": "code",
      "execution_count": 20,
      "metadata": {
        "colab": {
          "base_uri": "https://localhost:8080/",
          "height": 585
        },
        "id": "HHhmA4gLcmcY",
        "outputId": "a11434e5-99bb-46f1-c3e8-697dedf8e3d7"
      },
      "outputs": [
        {
          "name": "stdout",
          "output_type": "stream",
          "text": [
            "bad path 1 (delayed start) energy = 6598.765625\n"
          ]
        },
        {
          "data": {
            "image/png": "[encoded data removed]",
            "text/plain": [
              "<Figure size 1280x960 with 2 Axes>"
            ]
          },
          "metadata": {},
          "output_type": "display_data"
        }
      ],
      "source": [
        "import torch\n",
        "import torch.nn.functional as F\n",
        "\n",
        "L = energies.shape[1]   # windows\n",
        "T = targets.shape[1]    # labels\n",
        "\n",
        "# ---- Bad path 1: slightly delayed start — stays near top, then catches up too quickly ----\n",
        "# how long to linger on label=1 after the first diagonal step\n",
        "delay_ratio = 0.35\n",
        "linger_steps = max(1, int(L * delay_ratio))\n",
        "\n",
        "path1 = [0]              # i=0 -> j=0\n",
        "cur  = 0\n",
        "for i in range(1, L):\n",
        "    if i == 1 and cur < T-1:\n",
        "        cur += 1                    # (1,1): one diagonal step\n",
        "    elif 1 < i <= 1 + linger_steps:\n",
        "        cur = min(cur, 1)           # stay on row j=1 for a while\n",
        "    elif cur < T - 1:\n",
        "        cur += 1                    # then advance toward T-1\n",
        "    path1.append(cur)\n",
        "\n",
        "# validity tidy-up\n",
        "path1[-1] = T - 1\n",
        "path1 = torch.tensor(path1, dtype=torch.long)\n",
        "\n",
        "points1 = list(zip(range(L), path1.tolist()))\n",
        "plot_pm(pm[0].detach(), points1)\n",
        "print(\"bad path 1 (delayed start) energy =\", path_energy(pm[0], path1.tolist()).item())"
      ]
    },
    {
      "cell_type": "code",
      "execution_count": 21,
      "metadata": {
        "colab": {
          "base_uri": "https://localhost:8080/",
          "height": 623
        },
        "id": "LBf8OPiExsa6",
        "outputId": "caec37b8-1b8b-4366-e642-6997b2284ddd"
      },
      "outputs": [
        {
          "name": "stdout",
          "output_type": "stream",
          "text": [
            "bad path 2 (early saturation) energy = 6646.73193359375\n",
            "[(0, 0), (1, 1), (2, 2), (3, 3), (4, 4), (5, 5), (6, 6), (7, 7), (8, 8), (9, 9), (10, 10), (11, 11), (12, 12), (13, 13), (14, 14), (15, 15), (16, 16), (17, 17), (18, 18), (19, 19), (20, 20), (21, 21), (22, 22), (23, 23), (24, 24), (25, 25), (26, 26), (27, 27), (28, 28), (29, 29), (30, 30), (31, 31), (32, 32), (33, 33), (34, 34), (35, 35), (36, 36), (37, 37), (38, 38), (39, 39), (40, 40), (41, 41), (42, 42), (43, 43), (44, 44), (45, 45), (46, 46), (47, 47), (48, 48), (49, 49), (50, 50), (51, 51), (52, 51), (53, 51), (54, 51), (55, 51), (56, 51), (57, 51), (58, 51), (59, 51), (60, 51), (61, 51), (62, 51), (63, 51), (64, 51), (65, 51), (66, 51), (67, 51), (68, 51), (69, 51), (70, 51), (71, 51), (72, 51), (73, 51), (74, 51), (75, 51), (76, 51), (77, 51), (78, 51), (79, 51), (80, 51), (81, 51), (82, 51), (83, 51), (84, 51), (85, 51), (86, 51), (87, 51), (88, 51), (89, 51), (90, 51), (91, 51), (92, 51), (93, 51), (94, 51), (95, 51), (96, 51), (97, 51), (98, 51), (99, 51), (100, 51), (101, 51), (102, 51), (103, 51), (104, 51), (105, 51), (106, 51), (107, 51)]\n"
          ]
        },
        {
          "data": {
            "image/png": "[encoded data removed]",
            "text/plain": [
              "<Figure size 1280x960 with 2 Axes>"
            ]
          },
          "metadata": {},
          "output_type": "display_data"
        }
      ],
      "source": [
        "# ---- Bad path 2: advances too early — reaches bottom labels fast, then stalls ----\n",
        "advance_ratio = 0.6  # reaches the end too soon\n",
        "advance_len = int(L * advance_ratio)\n",
        "\n",
        "path2 = list(range(min(T - 1, advance_len)))\n",
        "while len(path2) < L:\n",
        "    path2.append(T - 1)\n",
        "path2 = torch.tensor(path2, dtype=torch.long)\n",
        "path2[0] = 0\n",
        "path2[-1] = T - 1\n",
        "\n",
        "points2 = list(zip(range(L), path2.tolist()))\n",
        "plot_pm(pm[0].detach(), points2)\n",
        "print(\"bad path 2 (early saturation) energy =\", path_energy(pm[0], path2.tolist()).item())\n",
        "print(points2)"
      ]
    },
    {
      "cell_type": "markdown",
      "metadata": {
        "id": "SnrQtZ-kMAbd"
      },
      "source": [
        "## Part - 1\\: Viterbi\n",
        "\n",
        "### Optimal path finding\n",
        "Now, we're going to implement the finding of the optimal path. To do that, we're going to use Viterbi algorithm, which in this case is a simple dynamic programming problem.\n",
        "In this context, it's a simple dynamic programming algorithm that for each pair i, j, calculates the minimum cost of the path that goes from 0-th index in the energies and 0-th index in the target, to i-th index in the energies, and j-th index in the target. We can memorize the values in a 2-dimensional array, let's call it `dp`. Then we have the following transitions:\n",
        "```\n",
        "dp[0, 0] = pm[0, 0]\n",
        "dp[i, j] = min(dp[i - 1, j], dp[i - 1, j - 1]) + pm[i, j]\n",
        "```\n",
        "\n",
        "The optimal path can be recovered if we memorize which cell we came from for each `dp[i, j]`.\n",
        "\n",
        "Below, you'll need to implement this algorithm:"
      ]
    },
    {
      "cell_type": "code",
      "execution_count": 22,
      "metadata": {
        "id": "tyyipYDqMAbd"
      },
      "outputs": [],
      "source": [
        "from itertools import product\n",
        "\n",
        "def find_path(pm):\n",
        "    # inputs:\n",
        "    #   pm - a tensor of shape LxT with energies\n",
        "    #     L is length of energies array\n",
        "    #     T is target sequence length\n",
        "    # NOTE: this is slow because it's not vectorized to work with batches.\n",
        "    #  output:\n",
        "    #     a tuple of three elements:\n",
        "    #         1. sum of energies on the best path,\n",
        "    #         2. list of tuples - points of the best path in the pm matrix\n",
        "    #         3. the dp array\n",
        "\n",
        "    # TODO\n",
        "    L, T = pm.shape\n",
        "\n",
        "    # Initialize DP and backtrace tables\n",
        "    INF = 2 ** 30\n",
        "    dp = torch.full_like(pm, INF)\n",
        "    bt = torch.zeros_like(pm, dtype=torch.bool)\n",
        "\n",
        "    # Base case: first column = cumulative sum over rows\n",
        "    dp[:, 0] = pm[:, 0].cumsum(dim=0)\n",
        "    bt[:, 0] = True  # dummy values (no left move possible)\n",
        "\n",
        "    # Forward pass: fill DP and backtrace\n",
        "    for i in range(1, L):\n",
        "        for j in range(1, T):\n",
        "            stay = dp[i - 1, j]     # same label\n",
        "            move = dp[i - 1, j - 1] # advance label\n",
        "            if stay < move:\n",
        "                dp[i, j] = stay + pm[i, j]\n",
        "                bt[i, j] = True     # came from (i-1, j)\n",
        "            else:\n",
        "                dp[i, j] = move + pm[i, j]\n",
        "                bt[i, j] = False    # came from (i-1, j-1)\n",
        "\n",
        "    # Backtrace: reconstruct best path\n",
        "    i, j = L - 1, T - 1\n",
        "    path = []\n",
        "    while i >= 0 and j >= 0:\n",
        "        path.append((i, j))\n",
        "        if bt[i, j]:\n",
        "            i -= 1          # came from same label (vertical move)\n",
        "        else:\n",
        "            i -= 1; j -= 1  # came from previous label (diagonal move)\n",
        "\n",
        "        # Stop if we reach the first row\n",
        "        if i < 0: break\n",
        "\n",
        "    path.reverse()\n",
        "    total_energy = dp[L - 1, T - 1]\n",
        "\n",
        "    return total_energy, path, dp"
      ]
    },
    {
      "cell_type": "markdown",
      "metadata": {
        "id": "svhNOp8XMAbd"
      },
      "source": [
        "Let's take a look at the best path:"
      ]
    },
    {
      "cell_type": "code",
      "execution_count": 23,
      "metadata": {
        "colab": {
          "base_uri": "https://localhost:8080/",
          "height": 585
        },
        "id": "_LcKBvPBMAbd",
        "outputId": "f59e9ac3-ffba-4f0b-81c5-6eb6afcbda8d"
      },
      "outputs": [
        {
          "name": "stdout",
          "output_type": "stream",
          "text": [
            "free energy is 2340.226318359375\n"
          ]
        },
        {
          "data": {
            "image/png": "[encoded data removed]",
            "text/plain": [
              "<Figure size 1280x960 with 2 Axes>"
            ]
          },
          "metadata": {},
          "output_type": "display_data"
        }
      ],
      "source": [
        "free_energy, path, d = find_path(pm[0])\n",
        "plot_pm(pm[0].detach(), path)\n",
        "print('free energy is', free_energy.item())"
      ]
    },
    {
      "cell_type": "markdown",
      "metadata": {
        "id": "aBlQsXB0oLpu"
      },
      "source": [
        "We can also visualize the dp array. You may need to tune clamping to see what it looks like."
      ]
    },
    {
      "cell_type": "code",
      "execution_count": 24,
      "metadata": {
        "colab": {
          "base_uri": "https://localhost:8080/",
          "height": 570
        },
        "id": "4g2ZAP5p92zt",
        "outputId": "ecb600d6-4669-49fd-e690-82059457a54a"
      },
      "outputs": [
        {
          "name": "stdout",
          "output_type": "stream",
          "text": [
            "dp min = 8.463147163391113 max = 1073741952.0\n"
          ]
        },
        {
          "data": {
            "text/plain": [
              "(np.float64(-0.5), np.float64(107.5), np.float64(51.5), np.float64(-0.5))"
            ]
          },
          "execution_count": 24,
          "metadata": {},
          "output_type": "execute_result"
        },
        {
          "data": {
            "image/png": "[encoded data removed]",
            "text/plain": [
              "<Figure size 1280x960 with 1 Axes>"
            ]
          },
          "metadata": {},
          "output_type": "display_data"
        }
      ],
      "source": [
        "print(\"dp min =\", d.min().item(), \"max =\", d.max().item())\n",
        "\n",
        "plt.figure(dpi=200)\n",
        "plt.imshow(d.cpu().detach().T.clamp(torch.min(d).item(), 3000))\n",
        "plt.axis('off')"
      ]
    },
    {
      "cell_type": "markdown",
      "metadata": {
        "id": "kmIhBQ5vMAbe"
      },
      "source": [
        "### Training loop\n",
        "Now is time to train the network using our best path finder. We're going to use the energy loss function:\n",
        "$$\\ell(x, y) = \\sum_i H(y_{z(i)}, l_i)$$\n",
        "Where $z$ is the best path we've found. This is akin to pushing down on the free energy $F(x, y)$, while pushing up everywhere else by nature of cross-entropy."
      ]
    },
    {
      "cell_type": "code",
      "execution_count": 25,
      "metadata": {
        "id": "7egiT_uCSDwg"
      },
      "outputs": [],
      "source": [
        "def train_ebm_model(model, num_epochs, train_loader, criterion, optimizer):\n",
        "    ''' Train EBM Model using find_path()'''\n",
        "    pbar = tqdm(range(num_epochs))\n",
        "    total_train_loss = 0.0\n",
        "    size = 0\n",
        "    free_energies = []\n",
        "    paths = []\n",
        "\n",
        "    device = next(model.parameters()).device\n",
        "    model.train()\n",
        "    for epoch in pbar:\n",
        "        start_time = time.time()\n",
        "        total_train_loss = 0.0\n",
        "        for inputs, targets in train_loader:\n",
        "            inputs, targets = inputs.cuda(), targets.cuda()\n",
        "            inputs = inputs.unsqueeze(1)                          # (B,1,H,W)\n",
        "\n",
        "            energies = model(inputs)\n",
        "            pms = build_path_matrix(energies, targets)\n",
        "            ces = build_ce_matrix(energies, targets)\n",
        "\n",
        "            loss = torch.zeros(1, device=inputs.device)\n",
        "            batch_free_energies, batch_paths = [], []\n",
        "\n",
        "            # compute loss per sample\n",
        "            for pm, ce in zip(pms, ces):\n",
        "                free_energy, path, _ = find_path(pm)\n",
        "                batch_free_energies.append(free_energy)\n",
        "                batch_paths.append(path)\n",
        "\n",
        "                # gather CE values along path (i,j)\n",
        "                idx_i = torch.tensor([p[0] for p in path], device=inputs.device, dtype=torch.long)\n",
        "                idx_j = torch.tensor([p[1] for p in path], device=inputs.device, dtype=torch.long)\n",
        "                loss += ce[idx_i, idx_j].sum()\n",
        "\n",
        "            loss = loss / len(pms)                                # normalize by batch size\n",
        "            total_train_loss += loss.item()\n",
        "\n",
        "            optimizer.zero_grad(set_to_none=True)\n",
        "            loss.backward()\n",
        "            optimizer.step()\n",
        "\n",
        "            free_energies.extend(batch_free_energies)\n",
        "            paths.extend(batch_paths)\n",
        "\n",
        "\n",
        "\n",
        "        epoch_time = time.time() - start_time\n",
        "        pbar.set_postfix({'train_loss': total_train_loss / len(sds), 'Epoch Time': epoch_time})\n",
        "\n",
        "    return"
      ]
    },
    {
      "cell_type": "code",
      "execution_count": 26,
      "metadata": {
        "colab": {
          "base_uri": "https://localhost:8080/",
          "height": 49,
          "referenced_widgets": [
            "db147f9494be411eac83bde939f3eee7",
            "cc14a91fe052491eb67bccdc7e080d34",
            "7a2c053f01014ea99d01b8c79df7a531",
            "1ee71d68d5a94f17a825cbeefa13205b",
            "0fe15a1f247f412cb0dec58dfbd88a1e",
            "1107a6ae193c4657a188c943a16d1eea",
            "de4bfd2783194ac8b3d3904bb3d34233",
            "a9cf1db2142b4868b964e3cc8c4645d1",
            "bbd82554c21a4a8d8e988aea14c61a22",
            "485dec98c1f646fc9e825ec12ab80e39",
            "4028bacf0dee47e7ad2f998f055f1ea2"
          ]
        },
        "id": "B2HLpKuVMAbe",
        "outputId": "3dd9987d-3b86-4b75-d9aa-fad4cedb2761"
      },
      "outputs": [
        {
          "data": {
            "application/vnd.jupyter.widget-view+json": {
              "model_id": "db147f9494be411eac83bde939f3eee7",
              "version_major": 2,
              "version_minor": 0
            },
            "text/plain": [
              "  0%|          | 0/10 [00:00<?, ?it/s]"
            ]
          },
          "metadata": {},
          "output_type": "display_data"
        }
      ],
      "source": [
        "import copy\n",
        "import time\n",
        "\n",
        "def collate_fn(samples):\n",
        "    \"\"\" A function to collate samples into batches for multi-character case\"\"\"\n",
        "    images, annotations = zip(*samples)\n",
        "    images = list(images)\n",
        "    annotations = list(annotations)\n",
        "    annotations = list(map(transform_word, annotations))\n",
        "    m_width = max(18, max([i.shape[1] for i in images]))\n",
        "    m_length = max(3, max([s.shape[0] for s in annotations]))\n",
        "    for i in range(len(images)):\n",
        "        images[i] = torch.nn.functional.pad(images[i], (0, m_width - images[i].shape[-1]))\n",
        "        annotations[i] = torch.nn.functional.pad(annotations[i], (0, m_length - annotations[i].shape[0]), value=BETWEEN)\n",
        "    if len(images) == 1:\n",
        "        return images[0].unsqueeze(0), torch.stack(annotations)\n",
        "    else:\n",
        "        return torch.stack(images), torch.stack(annotations)\n",
        "\n",
        "sds = SimpleWordsDataset(2, 2500) # for simplicity, we're training only on words of length two\n",
        "\n",
        "BATCH_SIZE = 32\n",
        "dataloader = torch.utils.data.DataLoader(sds, batch_size=BATCH_SIZE, num_workers=0, collate_fn=collate_fn)\n",
        "\n",
        "# TODO: Make a copy of your model and re-initialize optimizer\n",
        "ebm_model = copy.deepcopy(model)\n",
        "\n",
        "# TODO: train the model using the train_ebm_model()\n",
        "# note: remember that our best path finding algorithm is not batched, so you'll\n",
        "# need a for loop to do loss calculation.\n",
        "# This is not ideal, as for loops are very slow, but for\n",
        "# demonstration purposes it will suffice. In practice, this will be\n",
        "# unusable for any real problem unless it handles batching.\n",
        "# also: remember that the loss is the sum of cross_entropies along the path, not\n",
        "# energies!\n",
        "optimizer = optim.Adam(ebm_model.parameters(), lr=1e-3)\n",
        "train_ebm_model(ebm_model, 10, dataloader, cross_entropy, optimizer)\n"
      ]
    },
    {
      "cell_type": "markdown",
      "metadata": {
        "id": "X8N_ACMfMAbg"
      },
      "source": [
        "Let's check what the energy matrix looks like for the alphabet image now."
      ]
    },
    {
      "cell_type": "code",
      "execution_count": 27,
      "metadata": {
        "colab": {
          "base_uri": "https://localhost:8080/",
          "height": 585
        },
        "id": "Rf7yuVcWMAbg",
        "outputId": "d08ba10d-020b-40f3-ca93-dfcf110d2650"
      },
      "outputs": [
        {
          "name": "stdout",
          "output_type": "stream",
          "text": [
            "free energy is 1357.9046630859375\n"
          ]
        },
        {
          "data": {
            "image/png": "[encoded data removed]",
            "text/plain": [
              "<Figure size 1280x960 with 2 Axes>"
            ]
          },
          "metadata": {},
          "output_type": "display_data"
        }
      ],
      "source": [
        "energies = ebm_model(alphabet.unsqueeze(0).unsqueeze(0).to(device))\n",
        "targets = transform_word(string.ascii_lowercase).to(device)\n",
        "pm = build_path_matrix(energies, targets.unsqueeze(0))\n",
        "\n",
        "free_energy, path, _ = find_path(pm[0])\n",
        "plot_pm(pm[0].detach(), path)\n",
        "print('free energy is', free_energy.item())"
      ]
    },
    {
      "cell_type": "markdown",
      "metadata": {
        "id": "MUoXSmvQMAbg"
      },
      "source": [
        "Explain how the free energy changed, and why.\n",
        "\n",
        "Answer: #TODO\n",
        "\n",
        "The decrease in free energy indicates that the model now assigns lower energy to correct alignments, especially the blank (“_”) class. As it learns clearer character boundaries, the overall path energies drop, reflecting improved alignment and more confident predictions."
      ]
    },
    {
      "cell_type": "markdown",
      "metadata": {
        "id": "7QcTNZp6MAbg"
      },
      "source": [
        "We can also look at raw energies output:"
      ]
    },
    {
      "cell_type": "code",
      "execution_count": 29,
      "metadata": {
        "colab": {
          "base_uri": "https://localhost:8080/",
          "height": 461
        },
        "id": "qgUyDNBSMAbg",
        "outputId": "5a4cb598-df30-4dd5-8c03-cd03053a3da8",
        "scrolled": false
      },
      "outputs": [
        {
          "data": {
            "text/plain": [
              "(np.float64(-0.5), np.float64(107.5), np.float64(26.5), np.float64(-0.5))"
            ]
          },
          "execution_count": 29,
          "metadata": {},
          "output_type": "execute_result"
        },
        {
          "data": {
            "image/png": "[encoded data removed]",
            "text/plain": [
              "<Figure size 8000x2000 with 1 Axes>"
            ]
          },
          "metadata": {},
          "output_type": "display_data"
        }
      ],
      "source": [
        "alphabet_energy_post_train_viterbi = ebm_model(alphabet.to(device).view(1, 1, *alphabet.shape))\n",
        "\n",
        "plt.figure(dpi=200, figsize=(40, 10))\n",
        "plt.imshow(alphabet_energy_post_train_viterbi.cpu().data[0].T)  # .cpu() needed to copy to host memory\n",
        "plt.axis('off')"
      ]
    },
    {
      "cell_type": "markdown",
      "metadata": {
        "id": "iWDtL_AoMAbh"
      },
      "source": [
        "How does this compare to the energies we had after training only on one-character dataset?\n",
        "\n",
        "Answer: #TODO\n",
        "\n",
        "Compared to the single-character model, the lower energy for the blank (“_”) class now allows clearer separation between adjacent letters. This helps the model recognize gaps between characters and resolve ambiguities—such as distinguishing two consecutive “a”s from one letter seen through overlapping windows."
      ]
    },
    {
      "cell_type": "markdown",
      "metadata": {
        "id": "6x7kaFxTMAbh"
      },
      "source": [
        "## Decoding"
      ]
    },
    {
      "cell_type": "markdown",
      "metadata": {
        "id": "9w8ZojnnMAbh"
      },
      "source": [
        "Now we can use the model for decoding a word from an image. Let's pick some word, apply the model to it, and see energies."
      ]
    },
    {
      "cell_type": "code",
      "execution_count": 30,
      "metadata": {
        "colab": {
          "base_uri": "https://localhost:8080/",
          "height": 1000
        },
        "id": "HaTiwIthMAbh",
        "outputId": "adbcc7c5-97f0-46af-c1fc-376665472fb2"
      },
      "outputs": [
        {
          "data": {
            "image/png": "[encoded data removed]",
            "text/plain": [
              "<Figure size 640x480 with 1 Axes>"
            ]
          },
          "metadata": {},
          "output_type": "display_data"
        },
        {
          "data": {
            "image/png": "[encoded data removed]",
            "text/plain": [
              "<Figure size 1280x960 with 2 Axes>"
            ]
          },
          "metadata": {},
          "output_type": "display_data"
        }
      ],
      "source": [
        "img = sds.draw_text('hello')\n",
        "energies = ebm_model(img.cuda().unsqueeze(0).unsqueeze(0))\n",
        "plt.imshow(img)\n",
        "plot_energies(energies[0].detach().cpu())"
      ]
    },
    {
      "cell_type": "markdown",
      "metadata": {
        "id": "SxTbUNkYMAbh"
      },
      "source": [
        "You should see some characters light up. Now, let's implement a simple decoding algorithm. To decode, first we want to get most likely classes for all energies, and then do two things:\n",
        "1. segment strings using the divisors (our special character with index 26), and for each segment replace it with the most common character in that segment. Example: aaab_bab_ -> a_b. If some characters are equally common, you can pick random.\n",
        "2. remove all special divisor characters: a_b -> ab\n"
      ]
    },
    {
      "cell_type": "code",
      "execution_count": 31,
      "metadata": {
        "colab": {
          "base_uri": "https://localhost:8080/"
        },
        "id": "iiamf7wzMAbi",
        "outputId": "c93e96b7-5d15-4ba9-d2e8-1d0ab3b5809f"
      },
      "outputs": [
        {
          "name": "stdout",
          "output_type": "stream",
          "text": [
            "hello\n"
          ]
        }
      ],
      "source": [
        "from collections import Counter\n",
        "\n",
        "\n",
        "def indices_to_str(indices):\n",
        "    # inputs: indices - a tensor of most likely class indices\n",
        "    # outputs: decoded string\n",
        "\n",
        "    # TODO\n",
        "    # Map indices to characters ('a'..'z' or space for blank)\n",
        "    chars = [chr(ord('a') + i) if i != BETWEEN else ' ' for i in indices]\n",
        "    text = \"\".join(chars)\n",
        "\n",
        "    # Split into character segments (by blanks)\n",
        "    result = \"\"\n",
        "    for segment in text.split():\n",
        "        most_common_char = Counter(segment).most_common(1)[0][0]\n",
        "        result += most_common_char\n",
        "    return result\n",
        "\n",
        "\n",
        "min_indices = energies[0].argmin(dim=-1)\n",
        "print(indices_to_str(min_indices))"
      ]
    },
    {
      "cell_type": "markdown",
      "metadata": {
        "id": "HTL3jOO_Q3EW"
      },
      "source": [
        "## Part - 2\\: GTN (Extra Credits)\n",
        "\n",
        "### CTC Loss Function\n",
        "\n",
        "The below cell has the CTC Loss implementation which will be needed for the training. It also has the viterbi implemented, so feel free to use it.\n",
        "\n",
        "- For calculating loss, `CTCLoss()` can be used.\n",
        "- For viterbi, `CTCLossFunction.viterbi()` can be used.\n",
        "\n",
        "### Brief Explanation\\:\n",
        "\n",
        "GTN constructs 2 graphs-\n",
        "1. Alignment graph $A_y$ that can produce a sequence of any length which when collapsed gives the output.\n",
        "2. Emission graph $\\mathcal{E}$ that can produce any sequence of length `L`, input's length. This can be considered as some sort of restriction over $A_y$.\n",
        "\n",
        "Loss function is then calculated as $-\\log P(y \\mid X) = -(\\log (A_y \\circ \\mathcal{E}) - \\log \\mathcal{E})$ where $\\circ$ is the composition function."
      ]
    },
    {
      "cell_type": "code",
      "execution_count": null,
      "metadata": {
        "id": "SkNSGs6EQ2Ho"
      },
      "outputs": [],
      "source": [
        "# Credits: Adapted from https://github.com/facebookresearch/gtn_applications\n",
        "\n",
        "class CTCLossFunction(torch.autograd.Function):\n",
        "    @staticmethod\n",
        "    def create_ctc_graph(target, blank_idx):\n",
        "        g_criterion = gtn.Graph(False)\n",
        "        L = len(target)\n",
        "        S = 2 * L + 1\n",
        "        for l in range(S):\n",
        "            idx = (l - 1) // 2\n",
        "            g_criterion.add_node(l == 0, l == S - 1 or l == S - 2)\n",
        "            label = target[idx] if l % 2 else blank_idx\n",
        "            g_criterion.add_arc(l, l, label)\n",
        "            if l > 0:\n",
        "                g_criterion.add_arc(l - 1, l, label)\n",
        "            if l % 2 and l > 1 and label != target[idx - 1]:\n",
        "                g_criterion.add_arc(l - 2, l, label)\n",
        "        g_criterion.arc_sort(False)\n",
        "        return g_criterion\n",
        "\n",
        "    @staticmethod\n",
        "    def forward(ctx, log_probs, targets, blank_idx=0, reduction=\"none\"):\n",
        "        B, T, C = log_probs.shape\n",
        "        losses = [None] * B\n",
        "        scales = [None] * B\n",
        "        emissions_graphs = [None] * B\n",
        "\n",
        "        def process(b):\n",
        "            # create emission graph\n",
        "            g_emissions = gtn.linear_graph(T, C, log_probs.requires_grad)\n",
        "            cpu_data = log_probs[b].cpu().contiguous()\n",
        "            g_emissions.set_weights(cpu_data.data_ptr())\n",
        "\n",
        "            # create criterion graph\n",
        "            g_criterion = CTCLossFunction.create_ctc_graph(targets[b], blank_idx)\n",
        "            # compose the graphs\n",
        "            g_loss = gtn.negate(\n",
        "                gtn.forward_score(gtn.intersect(g_emissions, g_criterion))\n",
        "            )\n",
        "\n",
        "            scale = 1.0\n",
        "            if reduction == \"mean\":\n",
        "                L = len(targets[b])\n",
        "                scale = 1.0 / L if L > 0 else scale\n",
        "            elif reduction != \"none\":\n",
        "                raise ValueError(\"invalid value for reduction '\" + str(reduction) + \"'\")\n",
        "\n",
        "            # Save for backward:\n",
        "            losses[b] = g_loss\n",
        "            scales[b] = scale\n",
        "            emissions_graphs[b] = g_emissions\n",
        "\n",
        "        gtn.parallel_for(process, range(B))\n",
        "\n",
        "        ctx.auxiliary_data = (losses, scales, emissions_graphs, log_probs.shape)\n",
        "        loss = torch.tensor([losses[b].item() * scales[b] for b in range(B)])\n",
        "        return torch.mean(loss.cuda() if log_probs.is_cuda else loss)\n",
        "\n",
        "    @staticmethod\n",
        "    def backward(ctx, grad_output):\n",
        "        losses, scales, emissions_graphs, in_shape = ctx.auxiliary_data\n",
        "        B, T, C = in_shape\n",
        "        input_grad = torch.empty((B, T, C))\n",
        "\n",
        "        def process(b):\n",
        "            gtn.backward(losses[b], False)\n",
        "            emissions = emissions_graphs[b]\n",
        "            grad = emissions.grad().weights_to_numpy()\n",
        "            input_grad[b] = torch.from_numpy(grad).view(1, T, C) * scales[b]\n",
        "\n",
        "        gtn.parallel_for(process, range(B))\n",
        "\n",
        "        if grad_output.is_cuda:\n",
        "            input_grad = input_grad.cuda()\n",
        "        input_grad *= grad_output / B\n",
        "\n",
        "        return (\n",
        "            input_grad,\n",
        "            None,  # targets\n",
        "            None,  # blank_idx\n",
        "            None,  # reduction\n",
        "        )\n",
        "\n",
        "def viterbi(energies, targets, blank_idx=0):\n",
        "    outputs = -1 * energies\n",
        "    B, T, C = outputs.shape\n",
        "    paths = [None] * B\n",
        "    scores = [None] * B\n",
        "    emissions_graphs = [None] * B\n",
        "    def process(b):\n",
        "        L = len(targets[b])\n",
        "        # create emission graph\n",
        "        g_emissions = gtn.linear_graph(T, C, outputs.requires_grad)\n",
        "        cpu_data = outputs[b].cpu().contiguous()\n",
        "        g_emissions.set_weights(cpu_data.data_ptr())\n",
        "\n",
        "        # create criterion graph\n",
        "        g_criterion = CTCLossFunction.create_ctc_graph(targets[b], blank_idx)\n",
        "        g_score = gtn.viterbi_score(gtn.intersect(g_emissions, g_criterion))\n",
        "        g_path = gtn.viterbi_path(gtn.intersect(g_emissions, g_criterion))\n",
        "        paths[b] = [2*p if 2*p < L else i for i, p in enumerate(g_path.labels_to_list())]\n",
        "        l = 0\n",
        "        paths[b] = []\n",
        "        for p in g_path.labels_to_list():\n",
        "            if 2*p < L:\n",
        "                l = p\n",
        "                paths[b].append(2*p)\n",
        "            else:\n",
        "                paths[b].append(2*l + 1)\n",
        "        scores[b] = -1 * g_score.item()\n",
        "        emissions_graphs[b] = g_emissions\n",
        "\n",
        "    gtn.parallel_for(process, range(B))\n",
        "\n",
        "    return (scores, paths)\n",
        "\n",
        "CTCLoss = CTCLossFunction.apply"
      ]
    },
    {
      "cell_type": "code",
      "execution_count": null,
      "metadata": {
        "id": "Q3ppNW6aLIwP"
      },
      "outputs": [],
      "source": [
        "def train_gtn_model(model, num_epochs, train_loader, criterion, optimizer):\n",
        "    ''' Train CTC Model using GTN'''\n",
        "    pbar = tqdm(range(num_epochs))\n",
        "    train_losses = []\n",
        "    total_train_loss = 0.0\n",
        "    size = 0\n",
        "    free_energies = []\n",
        "    paths = []\n",
        "    max_grad_norm = None\n",
        "    if torch.cuda.is_available():\n",
        "        model = model.cuda()\n",
        "        device = torch.device(\"cuda:0\")\n",
        "    else:\n",
        "        device = torch.device(\"cpu\")\n",
        "    for epoch in pbar:\n",
        "        start_time = time.time()\n",
        "        # TODO: implement the training loop\n",
        "\n",
        "        epoch_time = time.time() - start_time\n",
        "        train_losses.append(total_train_loss)\n",
        "        pbar.set_postfix({'train_loss': total_train_loss, 'Epoch Time': epoch_time})\n",
        "\n",
        "    return"
      ]
    },
    {
      "cell_type": "code",
      "execution_count": null,
      "metadata": {
        "id": "9pkHQJKXMUQI"
      },
      "outputs": [],
      "source": [
        "# Similar to what we have done earlier but instead of find_path(), we will use\n",
        "# GTN's framework.\n",
        "sds = SimpleWordsDataset(3, 2500) # for simplicity, we're training only on words of length two\n",
        "\n",
        "BATCH_SIZE = 32\n",
        "dataloader = torch.utils.data.DataLoader(sds, batch_size=BATCH_SIZE, num_workers=0, collate_fn=collate_fn)\n",
        "\n",
        "# TODO: Make another copy of the single character model and re-initialize optimizer\n",
        "\n",
        "\n",
        "# TODO: train the model\n",
        "# note: remember that our best path finding algorithm is not batched, so you'll\n",
        "# need a for loop to do loss calculation.\n",
        "# This is not ideal, as for loops are very slow, but for\n",
        "# demonstration purposes it will suffice. In practice, this will be\n",
        "# unusable for any real problem unless it handles batching.\n",
        "\n",
        "# also: remember that the loss is the sum of cross_entropies along the path, not\n",
        "# energies!\n"
      ]
    },
    {
      "cell_type": "markdown",
      "metadata": {
        "id": "Q4xwhtMwUjCk"
      },
      "source": [
        "Which one of the training methods\\: `train_ebm_model()`, `train_gtn_model()` is faster? Why do you think so?\n",
        "\n",
        "Answer: #TODO"
      ]
    },
    {
      "cell_type": "code",
      "execution_count": null,
      "metadata": {
        "id": "cQY1ZDmoNdiB"
      },
      "outputs": [],
      "source": [
        "energies = gtn_model(alphabet.unsqueeze(0).unsqueeze(0).cuda())\n",
        "targets = transform_word(string.ascii_lowercase)\n",
        "pm = build_path_matrix(energies, targets.unsqueeze(0))\n",
        "\n",
        "# TODO: Use the provided viterbi function to get score and path\n",
        "\n",
        "\n",
        "# path is obtained from the above TODO\n",
        "points = list(zip(range(energies.shape[1]), path))\n",
        "plot_pm(pm[0].detach(), points)\n",
        "print('energy is', score)"
      ]
    },
    {
      "cell_type": "code",
      "execution_count": null,
      "metadata": {
        "id": "E-RG9pe5Nnbj"
      },
      "outputs": [],
      "source": [
        "img = sds.draw_text('hello')\n",
        "energies = gtn_model(img.cuda().unsqueeze(0).unsqueeze(0))\n",
        "plt.imshow(img)\n",
        "plot_energies(energies[0].detach().cpu())"
      ]
    },
    {
      "cell_type": "code",
      "execution_count": null,
      "metadata": {
        "id": "6fG-zPZvNqal"
      },
      "outputs": [],
      "source": [
        "min_indices = energies[0].argmin(dim=-1)\n",
        "print(indices_to_str(min_indices))"
      ]
    },
    {
      "cell_type": "markdown",
      "metadata": {
        "id": "q45MsuUiXvag"
      },
      "source": [
        "## Part - 3\\: Train Model with no pretraining (Extra Credits)\n",
        "\n",
        "In part - 1 and part - 2, we have trained a model on single character first and then trained on multiple character sequence. Here, we will train a model using GTN directly on multiple character sequence.\n",
        "\n",
        "Additionally, we will experiment this on custom handwritten data."
      ]
    },
    {
      "cell_type": "code",
      "execution_count": null,
      "metadata": {
        "id": "gfS4HINi9wcX"
      },
      "outputs": [],
      "source": [
        "#TODO"
      ]
    },
    {
      "cell_type": "markdown",
      "metadata": {
        "id": "USbbJ77ov8fH"
      },
      "source": [
        "Is the model with no pretraining (on single character) working? Why do you think so?\n",
        "\n",
        "Answer: #TODO"
      ]
    },
    {
      "cell_type": "markdown",
      "metadata": {
        "id": "Hn-LPfgUw9TA"
      },
      "source": [
        "(Experimental) Collect or get your own handwritten dataset and test the model on that."
      ]
    },
    {
      "cell_type": "code",
      "execution_count": null,
      "metadata": {
        "id": "kMOh95Ypw8JY"
      },
      "outputs": [],
      "source": [
        "#TODO"
      ]
    },
    {
      "cell_type": "markdown",
      "metadata": {
        "id": "uPuIe_afxSqS"
      },
      "source": [
        "Visualize some images and their predictions given by the model."
      ]
    },
    {
      "cell_type": "code",
      "execution_count": null,
      "metadata": {
        "id": "wYj8h5o9xozd"
      },
      "outputs": [],
      "source": [
        "#TODO"
      ]
    }
  ],
  "metadata": {
    "accelerator": "GPU",
    "colab": {
      "gpuType": "T4",
      "provenance": [],
      "toc_visible": true
    },
    "kernelspec": {
      "display_name": "Python 3",
      "name": "python3"
    },
    "language_info": {
      "codemirror_mode": {
        "name": "ipython",
        "version": 3
      },
      "file_extension": ".py",
      "mimetype": "text/x-python",
      "name": "python",
      "nbconvert_exporter": "python",
      "pygments_lexer": "ipython3",
      "version": "3.8.3"
    },
    "widgets": {
      "application/vnd.jupyter.widget-state+json": {
        "013124a0925640e98db45aa7242993a1": {
          "model_module": "@jupyter-widgets/base",
          "model_module_version": "1.2.0",
          "model_name": "LayoutModel",
          "state": {
            "_model_module": "@jupyter-widgets/base",
            "_model_module_version": "1.2.0",
            "_model_name": "LayoutModel",
            "_view_count": null,
            "_view_module": "@jupyter-widgets/base",
            "_view_module_version": "1.2.0",
            "_view_name": "LayoutView",
            "align_content": null,
            "align_items": null,
            "align_self": null,
            "border": null,
            "bottom": null,
            "display": null,
            "flex": null,
            "flex_flow": null,
            "grid_area": null,
            "grid_auto_columns": null,
            "grid_auto_flow": null,
            "grid_auto_rows": null,
            "grid_column": null,
            "grid_gap": null,
            "grid_row": null,
            "grid_template_areas": null,
            "grid_template_columns": null,
            "grid_template_rows": null,
            "height": null,
            "justify_content": null,
            "justify_items": null,
            "left": null,
            "margin": null,
            "max_height": null,
            "max_width": null,
            "min_height": null,
            "min_width": null,
            "object_fit": null,
            "object_position": null,
            "order": null,
            "overflow": null,
            "overflow_x": null,
            "overflow_y": null,
            "padding": null,
            "right": null,
            "top": null,
            "visibility": null,
            "width": null
          }
        },
        "06918ddb60924757939a730d6ac051e6": {
          "model_module": "@jupyter-widgets/controls",
          "model_module_version": "1.5.0",
          "model_name": "FloatProgressModel",
          "state": {
            "_dom_classes": [],
            "_model_module": "@jupyter-widgets/controls",
            "_model_module_version": "1.5.0",
            "_model_name": "FloatProgressModel",
            "_view_count": null,
            "_view_module": "@jupyter-widgets/controls",
            "_view_module_version": "1.5.0",
            "_view_name": "ProgressView",
            "bar_style": "success",
            "description": "",
            "description_tooltip": null,
            "layout": "IPY_MODEL_439da4435265463e98a594ad74994b75",
            "max": 63,
            "min": 0,
            "orientation": "horizontal",
            "style": "IPY_MODEL_09baaefd466f4f8ba4561d44a0bfa909",
            "value": 63
          }
        },
        "09baaefd466f4f8ba4561d44a0bfa909": {
          "model_module": "@jupyter-widgets/controls",
          "model_module_version": "1.5.0",
          "model_name": "ProgressStyleModel",
          "state": {
            "_model_module": "@jupyter-widgets/controls",
            "_model_module_version": "1.5.0",
            "_model_name": "ProgressStyleModel",
            "_view_count": null,
            "_view_module": "@jupyter-widgets/base",
            "_view_module_version": "1.2.0",
            "_view_name": "StyleView",
            "bar_color": null,
            "description_width": ""
          }
        },
        "0aaf50b9deb744b596618e2ec7dc2fa8": {
          "model_module": "@jupyter-widgets/controls",
          "model_module_version": "1.5.0",
          "model_name": "DescriptionStyleModel",
          "state": {
            "_model_module": "@jupyter-widgets/controls",
            "_model_module_version": "1.5.0",
            "_model_name": "DescriptionStyleModel",
            "_view_count": null,
            "_view_module": "@jupyter-widgets/base",
            "_view_module_version": "1.2.0",
            "_view_name": "StyleView",
            "description_width": ""
          }
        },
        "0e384dfe55ae4fcfb4e042113506fa83": {
          "model_module": "@jupyter-widgets/controls",
          "model_module_version": "1.5.0",
          "model_name": "DescriptionStyleModel",
          "state": {
            "_model_module": "@jupyter-widgets/controls",
            "_model_module_version": "1.5.0",
            "_model_name": "DescriptionStyleModel",
            "_view_count": null,
            "_view_module": "@jupyter-widgets/base",
            "_view_module_version": "1.2.0",
            "_view_name": "StyleView",
            "description_width": ""
          }
        },
        "0fe15a1f247f412cb0dec58dfbd88a1e": {
          "model_module": "@jupyter-widgets/base",
          "model_module_version": "1.2.0",
          "model_name": "LayoutModel",
          "state": {
            "_model_module": "@jupyter-widgets/base",
            "_model_module_version": "1.2.0",
            "_model_name": "LayoutModel",
            "_view_count": null,
            "_view_module": "@jupyter-widgets/base",
            "_view_module_version": "1.2.0",
            "_view_name": "LayoutView",
            "align_content": null,
            "align_items": null,
            "align_self": null,
            "border": null,
            "bottom": null,
            "display": null,
            "flex": null,
            "flex_flow": null,
            "grid_area": null,
            "grid_auto_columns": null,
            "grid_auto_flow": null,
            "grid_auto_rows": null,
            "grid_column": null,
            "grid_gap": null,
            "grid_row": null,
            "grid_template_areas": null,
            "grid_template_columns": null,
            "grid_template_rows": null,
            "height": null,
            "justify_content": null,
            "justify_items": null,
            "left": null,
            "margin": null,
            "max_height": null,
            "max_width": null,
            "min_height": null,
            "min_width": null,
            "object_fit": null,
            "object_position": null,
            "order": null,
            "overflow": null,
            "overflow_x": null,
            "overflow_y": null,
            "padding": null,
            "right": null,
            "top": null,
            "visibility": null,
            "width": null
          }
        },
        "1107a6ae193c4657a188c943a16d1eea": {
          "model_module": "@jupyter-widgets/base",
          "model_module_version": "1.2.0",
          "model_name": "LayoutModel",
          "state": {
            "_model_module": "@jupyter-widgets/base",
            "_model_module_version": "1.2.0",
            "_model_name": "LayoutModel",
            "_view_count": null,
            "_view_module": "@jupyter-widgets/base",
            "_view_module_version": "1.2.0",
            "_view_name": "LayoutView",
            "align_content": null,
            "align_items": null,
            "align_self": null,
            "border": null,
            "bottom": null,
            "display": null,
            "flex": null,
            "flex_flow": null,
            "grid_area": null,
            "grid_auto_columns": null,
            "grid_auto_flow": null,
            "grid_auto_rows": null,
            "grid_column": null,
            "grid_gap": null,
            "grid_row": null,
            "grid_template_areas": null,
            "grid_template_columns": null,
            "grid_template_rows": null,
            "height": null,
            "justify_content": null,
            "justify_items": null,
            "left": null,
            "margin": null,
            "max_height": null,
            "max_width": null,
            "min_height": null,
            "min_width": null,
            "object_fit": null,
            "object_position": null,
            "order": null,
            "overflow": null,
            "overflow_x": null,
            "overflow_y": null,
            "padding": null,
            "right": null,
            "top": null,
            "visibility": null,
            "width": null
          }
        },
        "143e5479472643eeadca03f2e0708a97": {
          "model_module": "@jupyter-widgets/base",
          "model_module_version": "1.2.0",
          "model_name": "LayoutModel",
          "state": {
            "_model_module": "@jupyter-widgets/base",
            "_model_module_version": "1.2.0",
            "_model_name": "LayoutModel",
            "_view_count": null,
            "_view_module": "@jupyter-widgets/base",
            "_view_module_version": "1.2.0",
            "_view_name": "LayoutView",
            "align_content": null,
            "align_items": null,
            "align_self": null,
            "border": null,
            "bottom": null,
            "display": null,
            "flex": null,
            "flex_flow": null,
            "grid_area": null,
            "grid_auto_columns": null,
            "grid_auto_flow": null,
            "grid_auto_rows": null,
            "grid_column": null,
            "grid_gap": null,
            "grid_row": null,
            "grid_template_areas": null,
            "grid_template_columns": null,
            "grid_template_rows": null,
            "height": null,
            "justify_content": null,
            "justify_items": null,
            "left": null,
            "margin": null,
            "max_height": null,
            "max_width": null,
            "min_height": null,
            "min_width": null,
            "object_fit": null,
            "object_position": null,
            "order": null,
            "overflow": null,
            "overflow_x": null,
            "overflow_y": null,
            "padding": null,
            "right": null,
            "top": null,
            "visibility": null,
            "width": null
          }
        },
        "15349ad1562145709a2080b881bdff09": {
          "model_module": "@jupyter-widgets/controls",
          "model_module_version": "1.5.0",
          "model_name": "ProgressStyleModel",
          "state": {
            "_model_module": "@jupyter-widgets/controls",
            "_model_module_version": "1.5.0",
            "_model_name": "ProgressStyleModel",
            "_view_count": null,
            "_view_module": "@jupyter-widgets/base",
            "_view_module_version": "1.2.0",
            "_view_name": "StyleView",
            "bar_color": null,
            "description_width": ""
          }
        },
        "1600428f825444f8ad479704d671e6c5": {
          "model_module": "@jupyter-widgets/controls",
          "model_module_version": "1.5.0",
          "model_name": "FloatProgressModel",
          "state": {
            "_dom_classes": [],
            "_model_module": "@jupyter-widgets/controls",
            "_model_module_version": "1.5.0",
            "_model_name": "FloatProgressModel",
            "_view_count": null,
            "_view_module": "@jupyter-widgets/controls",
            "_view_module_version": "1.5.0",
            "_view_name": "ProgressView",
            "bar_style": "success",
            "description": "",
            "description_tooltip": null,
            "layout": "IPY_MODEL_16dd9b2964b6463c8c1144ff3d0e81fa",
            "max": 63,
            "min": 0,
            "orientation": "horizontal",
            "style": "IPY_MODEL_fba28790360741e6b304a56127a206a5",
            "value": 63
          }
        },
        "16dd9b2964b6463c8c1144ff3d0e81fa": {
          "model_module": "@jupyter-widgets/base",
          "model_module_version": "1.2.0",
          "model_name": "LayoutModel",
          "state": {
            "_model_module": "@jupyter-widgets/base",
            "_model_module_version": "1.2.0",
            "_model_name": "LayoutModel",
            "_view_count": null,
            "_view_module": "@jupyter-widgets/base",
            "_view_module_version": "1.2.0",
            "_view_name": "LayoutView",
            "align_content": null,
            "align_items": null,
            "align_self": null,
            "border": null,
            "bottom": null,
            "display": null,
            "flex": null,
            "flex_flow": null,
            "grid_area": null,
            "grid_auto_columns": null,
            "grid_auto_flow": null,
            "grid_auto_rows": null,
            "grid_column": null,
            "grid_gap": null,
            "grid_row": null,
            "grid_template_areas": null,
            "grid_template_columns": null,
            "grid_template_rows": null,
            "height": null,
            "justify_content": null,
            "justify_items": null,
            "left": null,
            "margin": null,
            "max_height": null,
            "max_width": null,
            "min_height": null,
            "min_width": null,
            "object_fit": null,
            "object_position": null,
            "order": null,
            "overflow": null,
            "overflow_x": null,
            "overflow_y": null,
            "padding": null,
            "right": null,
            "top": null,
            "visibility": null,
            "width": null
          }
        },
        "174f3925a7d4478a8f11187ba3c7ff23": {
          "model_module": "@jupyter-widgets/controls",
          "model_module_version": "1.5.0",
          "model_name": "DescriptionStyleModel",
          "state": {
            "_model_module": "@jupyter-widgets/controls",
            "_model_module_version": "1.5.0",
            "_model_name": "DescriptionStyleModel",
            "_view_count": null,
            "_view_module": "@jupyter-widgets/base",
            "_view_module_version": "1.2.0",
            "_view_name": "StyleView",
            "description_width": ""
          }
        },
        "176c7028b8b046859c822f4d687d5ca4": {
          "model_module": "@jupyter-widgets/controls",
          "model_module_version": "1.5.0",
          "model_name": "HTMLModel",
          "state": {
            "_dom_classes": [],
            "_model_module": "@jupyter-widgets/controls",
            "_model_module_version": "1.5.0",
            "_model_name": "HTMLModel",
            "_view_count": null,
            "_view_module": "@jupyter-widgets/controls",
            "_view_module_version": "1.5.0",
            "_view_name": "HTMLView",
            "description": "",
            "description_tooltip": null,
            "layout": "IPY_MODEL_143e5479472643eeadca03f2e0708a97",
            "placeholder": "​",
            "style": "IPY_MODEL_37900ec4b7ea46c48c9c0e715f1ca991",
            "value": " 63/63 [00:00&lt;00:00, 104.44it/s]"
          }
        },
        "1a42e36db69b415e8041794a6fd89667": {
          "model_module": "@jupyter-widgets/base",
          "model_module_version": "1.2.0",
          "model_name": "LayoutModel",
          "state": {
            "_model_module": "@jupyter-widgets/base",
            "_model_module_version": "1.2.0",
            "_model_name": "LayoutModel",
            "_view_count": null,
            "_view_module": "@jupyter-widgets/base",
            "_view_module_version": "1.2.0",
            "_view_name": "LayoutView",
            "align_content": null,
            "align_items": null,
            "align_self": null,
            "border": null,
            "bottom": null,
            "display": null,
            "flex": null,
            "flex_flow": null,
            "grid_area": null,
            "grid_auto_columns": null,
            "grid_auto_flow": null,
            "grid_auto_rows": null,
            "grid_column": null,
            "grid_gap": null,
            "grid_row": null,
            "grid_template_areas": null,
            "grid_template_columns": null,
            "grid_template_rows": null,
            "height": null,
            "justify_content": null,
            "justify_items": null,
            "left": null,
            "margin": null,
            "max_height": null,
            "max_width": null,
            "min_height": null,
            "min_width": null,
            "object_fit": null,
            "object_position": null,
            "order": null,
            "overflow": null,
            "overflow_x": null,
            "overflow_y": null,
            "padding": null,
            "right": null,
            "top": null,
            "visibility": null,
            "width": null
          }
        },
        "1ac891c4f6c84de9b77c3175ec374a10": {
          "model_module": "@jupyter-widgets/controls",
          "model_module_version": "1.5.0",
          "model_name": "ProgressStyleModel",
          "state": {
            "_model_module": "@jupyter-widgets/controls",
            "_model_module_version": "1.5.0",
            "_model_name": "ProgressStyleModel",
            "_view_count": null,
            "_view_module": "@jupyter-widgets/base",
            "_view_module_version": "1.2.0",
            "_view_name": "StyleView",
            "bar_color": null,
            "description_width": ""
          }
        },
        "1ae35969cd314a0a93006bba87c1b620": {
          "model_module": "@jupyter-widgets/controls",
          "model_module_version": "1.5.0",
          "model_name": "HBoxModel",
          "state": {
            "_dom_classes": [],
            "_model_module": "@jupyter-widgets/controls",
            "_model_module_version": "1.5.0",
            "_model_name": "HBoxModel",
            "_view_count": null,
            "_view_module": "@jupyter-widgets/controls",
            "_view_module_version": "1.5.0",
            "_view_name": "HBoxView",
            "box_style": "",
            "children": [
              "IPY_MODEL_2247b423d7be4b73afbaa0b643ceb4e4",
              "IPY_MODEL_06918ddb60924757939a730d6ac051e6",
              "IPY_MODEL_1c20f61357694786b13ed13822e51890"
            ],
            "layout": "IPY_MODEL_ab8d2b8053af45c383b82858fbbe0304"
          }
        },
        "1c20f61357694786b13ed13822e51890": {
          "model_module": "@jupyter-widgets/controls",
          "model_module_version": "1.5.0",
          "model_name": "HTMLModel",
          "state": {
            "_dom_classes": [],
            "_model_module": "@jupyter-widgets/controls",
            "_model_module_version": "1.5.0",
            "_model_name": "HTMLModel",
            "_view_count": null,
            "_view_module": "@jupyter-widgets/controls",
            "_view_module_version": "1.5.0",
            "_view_name": "HTMLView",
            "description": "",
            "description_tooltip": null,
            "layout": "IPY_MODEL_dca39074f9c849019eaf0ca3fbc48dcf",
            "placeholder": "​",
            "style": "IPY_MODEL_3e1ddecccace4119af953d66ca7cf0f2",
            "value": " 63/63 [00:00&lt;00:00, 103.22it/s]"
          }
        },
        "1e81c06bad424a57904cf492e9d5237a": {
          "model_module": "@jupyter-widgets/controls",
          "model_module_version": "1.5.0",
          "model_name": "HTMLModel",
          "state": {
            "_dom_classes": [],
            "_model_module": "@jupyter-widgets/controls",
            "_model_module_version": "1.5.0",
            "_model_name": "HTMLModel",
            "_view_count": null,
            "_view_module": "@jupyter-widgets/controls",
            "_view_module_version": "1.5.0",
            "_view_name": "HTMLView",
            "description": "",
            "description_tooltip": null,
            "layout": "IPY_MODEL_df39aab0b05d4c6184f70c464ba33282",
            "placeholder": "​",
            "style": "IPY_MODEL_6eaa82c88b1145b0a7d58527b6e42aae",
            "value": "Epoch 5/10: 100%"
          }
        },
        "1ee71d68d5a94f17a825cbeefa13205b": {
          "model_module": "@jupyter-widgets/controls",
          "model_module_version": "1.5.0",
          "model_name": "HTMLModel",
          "state": {
            "_dom_classes": [],
            "_model_module": "@jupyter-widgets/controls",
            "_model_module_version": "1.5.0",
            "_model_name": "HTMLModel",
            "_view_count": null,
            "_view_module": "@jupyter-widgets/controls",
            "_view_module_version": "1.5.0",
            "_view_name": "HTMLView",
            "description": "",
            "description_tooltip": null,
            "layout": "IPY_MODEL_485dec98c1f646fc9e825ec12ab80e39",
            "placeholder": "​",
            "style": "IPY_MODEL_4028bacf0dee47e7ad2f998f055f1ea2",
            "value": " 10/10 [01:25&lt;00:00,  8.55s/it, train_loss=0.000458, Epoch Time=8.64]"
          }
        },
        "20763d5ba2de4fdc8387248df0a29d74": {
          "model_module": "@jupyter-widgets/controls",
          "model_module_version": "1.5.0",
          "model_name": "HTMLModel",
          "state": {
            "_dom_classes": [],
            "_model_module": "@jupyter-widgets/controls",
            "_model_module_version": "1.5.0",
            "_model_name": "HTMLModel",
            "_view_count": null,
            "_view_module": "@jupyter-widgets/controls",
            "_view_module_version": "1.5.0",
            "_view_name": "HTMLView",
            "description": "",
            "description_tooltip": null,
            "layout": "IPY_MODEL_4d25eb2b67b3421a8c43137ad2b84c4d",
            "placeholder": "​",
            "style": "IPY_MODEL_795a675c4487413ebcafa87100a1bc2d",
            "value": "Epoch 8/10: 100%"
          }
        },
        "2247b423d7be4b73afbaa0b643ceb4e4": {
          "model_module": "@jupyter-widgets/controls",
          "model_module_version": "1.5.0",
          "model_name": "HTMLModel",
          "state": {
            "_dom_classes": [],
            "_model_module": "@jupyter-widgets/controls",
            "_model_module_version": "1.5.0",
            "_model_name": "HTMLModel",
            "_view_count": null,
            "_view_module": "@jupyter-widgets/controls",
            "_view_module_version": "1.5.0",
            "_view_name": "HTMLView",
            "description": "",
            "description_tooltip": null,
            "layout": "IPY_MODEL_a3f29a07ebb2466a9b088fcdf62bcfb4",
            "placeholder": "​",
            "style": "IPY_MODEL_174f3925a7d4478a8f11187ba3c7ff23",
            "value": "Epoch 2/10: 100%"
          }
        },
        "288de3c1873f434da3a5f3602265fd0b": {
          "model_module": "@jupyter-widgets/base",
          "model_module_version": "1.2.0",
          "model_name": "LayoutModel",
          "state": {
            "_model_module": "@jupyter-widgets/base",
            "_model_module_version": "1.2.0",
            "_model_name": "LayoutModel",
            "_view_count": null,
            "_view_module": "@jupyter-widgets/base",
            "_view_module_version": "1.2.0",
            "_view_name": "LayoutView",
            "align_content": null,
            "align_items": null,
            "align_self": null,
            "border": null,
            "bottom": null,
            "display": null,
            "flex": null,
            "flex_flow": null,
            "grid_area": null,
            "grid_auto_columns": null,
            "grid_auto_flow": null,
            "grid_auto_rows": null,
            "grid_column": null,
            "grid_gap": null,
            "grid_row": null,
            "grid_template_areas": null,
            "grid_template_columns": null,
            "grid_template_rows": null,
            "height": null,
            "justify_content": null,
            "justify_items": null,
            "left": null,
            "margin": null,
            "max_height": null,
            "max_width": null,
            "min_height": null,
            "min_width": null,
            "object_fit": null,
            "object_position": null,
            "order": null,
            "overflow": null,
            "overflow_x": null,
            "overflow_y": null,
            "padding": null,
            "right": null,
            "top": null,
            "visibility": null,
            "width": null
          }
        },
        "289ce9b19d4c4de798427e906baf550e": {
          "model_module": "@jupyter-widgets/controls",
          "model_module_version": "1.5.0",
          "model_name": "DescriptionStyleModel",
          "state": {
            "_model_module": "@jupyter-widgets/controls",
            "_model_module_version": "1.5.0",
            "_model_name": "DescriptionStyleModel",
            "_view_count": null,
            "_view_module": "@jupyter-widgets/base",
            "_view_module_version": "1.2.0",
            "_view_name": "StyleView",
            "description_width": ""
          }
        },
        "2af44734f259459e8f91a1cf790a7882": {
          "model_module": "@jupyter-widgets/controls",
          "model_module_version": "1.5.0",
          "model_name": "DescriptionStyleModel",
          "state": {
            "_model_module": "@jupyter-widgets/controls",
            "_model_module_version": "1.5.0",
            "_model_name": "DescriptionStyleModel",
            "_view_count": null,
            "_view_module": "@jupyter-widgets/base",
            "_view_module_version": "1.2.0",
            "_view_name": "StyleView",
            "description_width": ""
          }
        },
        "2bf1768c43fd4317a2915da969c35936": {
          "model_module": "@jupyter-widgets/controls",
          "model_module_version": "1.5.0",
          "model_name": "ProgressStyleModel",
          "state": {
            "_model_module": "@jupyter-widgets/controls",
            "_model_module_version": "1.5.0",
            "_model_name": "ProgressStyleModel",
            "_view_count": null,
            "_view_module": "@jupyter-widgets/base",
            "_view_module_version": "1.2.0",
            "_view_name": "StyleView",
            "bar_color": null,
            "description_width": ""
          }
        },
        "2c69b49434694d5a88574c1219c16266": {
          "model_module": "@jupyter-widgets/controls",
          "model_module_version": "1.5.0",
          "model_name": "ProgressStyleModel",
          "state": {
            "_model_module": "@jupyter-widgets/controls",
            "_model_module_version": "1.5.0",
            "_model_name": "ProgressStyleModel",
            "_view_count": null,
            "_view_module": "@jupyter-widgets/base",
            "_view_module_version": "1.2.0",
            "_view_name": "StyleView",
            "bar_color": null,
            "description_width": ""
          }
        },
        "2de85cb58a21449fa322f26cbeba92f5": {
          "model_module": "@jupyter-widgets/controls",
          "model_module_version": "1.5.0",
          "model_name": "FloatProgressModel",
          "state": {
            "_dom_classes": [],
            "_model_module": "@jupyter-widgets/controls",
            "_model_module_version": "1.5.0",
            "_model_name": "FloatProgressModel",
            "_view_count": null,
            "_view_module": "@jupyter-widgets/controls",
            "_view_module_version": "1.5.0",
            "_view_name": "ProgressView",
            "bar_style": "success",
            "description": "",
            "description_tooltip": null,
            "layout": "IPY_MODEL_989a4d617ea8451d8da98cb20394a10f",
            "max": 63,
            "min": 0,
            "orientation": "horizontal",
            "style": "IPY_MODEL_31a40253a86e436ebca19b06cc32e347",
            "value": 63
          }
        },
        "300615c2e38546068dc05415727c8cce": {
          "model_module": "@jupyter-widgets/controls",
          "model_module_version": "1.5.0",
          "model_name": "DescriptionStyleModel",
          "state": {
            "_model_module": "@jupyter-widgets/controls",
            "_model_module_version": "1.5.0",
            "_model_name": "DescriptionStyleModel",
            "_view_count": null,
            "_view_module": "@jupyter-widgets/base",
            "_view_module_version": "1.2.0",
            "_view_name": "StyleView",
            "description_width": ""
          }
        },
        "31a40253a86e436ebca19b06cc32e347": {
          "model_module": "@jupyter-widgets/controls",
          "model_module_version": "1.5.0",
          "model_name": "ProgressStyleModel",
          "state": {
            "_model_module": "@jupyter-widgets/controls",
            "_model_module_version": "1.5.0",
            "_model_name": "ProgressStyleModel",
            "_view_count": null,
            "_view_module": "@jupyter-widgets/base",
            "_view_module_version": "1.2.0",
            "_view_name": "StyleView",
            "bar_color": null,
            "description_width": ""
          }
        },
        "31bf7dd7e352472dadc784f3931fc0f7": {
          "model_module": "@jupyter-widgets/base",
          "model_module_version": "1.2.0",
          "model_name": "LayoutModel",
          "state": {
            "_model_module": "@jupyter-widgets/base",
            "_model_module_version": "1.2.0",
            "_model_name": "LayoutModel",
            "_view_count": null,
            "_view_module": "@jupyter-widgets/base",
            "_view_module_version": "1.2.0",
            "_view_name": "LayoutView",
            "align_content": null,
            "align_items": null,
            "align_self": null,
            "border": null,
            "bottom": null,
            "display": null,
            "flex": null,
            "flex_flow": null,
            "grid_area": null,
            "grid_auto_columns": null,
            "grid_auto_flow": null,
            "grid_auto_rows": null,
            "grid_column": null,
            "grid_gap": null,
            "grid_row": null,
            "grid_template_areas": null,
            "grid_template_columns": null,
            "grid_template_rows": null,
            "height": null,
            "justify_content": null,
            "justify_items": null,
            "left": null,
            "margin": null,
            "max_height": null,
            "max_width": null,
            "min_height": null,
            "min_width": null,
            "object_fit": null,
            "object_position": null,
            "order": null,
            "overflow": null,
            "overflow_x": null,
            "overflow_y": null,
            "padding": null,
            "right": null,
            "top": null,
            "visibility": null,
            "width": null
          }
        },
        "368e0343c5734846af805ea5fbd5886c": {
          "model_module": "@jupyter-widgets/controls",
          "model_module_version": "1.5.0",
          "model_name": "HBoxModel",
          "state": {
            "_dom_classes": [],
            "_model_module": "@jupyter-widgets/controls",
            "_model_module_version": "1.5.0",
            "_model_name": "HBoxModel",
            "_view_count": null,
            "_view_module": "@jupyter-widgets/controls",
            "_view_module_version": "1.5.0",
            "_view_name": "HBoxView",
            "box_style": "",
            "children": [
              "IPY_MODEL_fd21ca27c45d4c98a86691953f04b83f",
              "IPY_MODEL_b9b6c186a3ab43a3b3d9c5ff0d8b6f4b",
              "IPY_MODEL_bf5d78dfb348429a9051d7fabe9ebc50"
            ],
            "layout": "IPY_MODEL_a61bf7aad691464bbf35d2867f3fef31"
          }
        },
        "37900ec4b7ea46c48c9c0e715f1ca991": {
          "model_module": "@jupyter-widgets/controls",
          "model_module_version": "1.5.0",
          "model_name": "DescriptionStyleModel",
          "state": {
            "_model_module": "@jupyter-widgets/controls",
            "_model_module_version": "1.5.0",
            "_model_name": "DescriptionStyleModel",
            "_view_count": null,
            "_view_module": "@jupyter-widgets/base",
            "_view_module_version": "1.2.0",
            "_view_name": "StyleView",
            "description_width": ""
          }
        },
        "3b3c0e867a074282ac542a34423141ff": {
          "model_module": "@jupyter-widgets/base",
          "model_module_version": "1.2.0",
          "model_name": "LayoutModel",
          "state": {
            "_model_module": "@jupyter-widgets/base",
            "_model_module_version": "1.2.0",
            "_model_name": "LayoutModel",
            "_view_count": null,
            "_view_module": "@jupyter-widgets/base",
            "_view_module_version": "1.2.0",
            "_view_name": "LayoutView",
            "align_content": null,
            "align_items": null,
            "align_self": null,
            "border": null,
            "bottom": null,
            "display": null,
            "flex": null,
            "flex_flow": null,
            "grid_area": null,
            "grid_auto_columns": null,
            "grid_auto_flow": null,
            "grid_auto_rows": null,
            "grid_column": null,
            "grid_gap": null,
            "grid_row": null,
            "grid_template_areas": null,
            "grid_template_columns": null,
            "grid_template_rows": null,
            "height": null,
            "justify_content": null,
            "justify_items": null,
            "left": null,
            "margin": null,
            "max_height": null,
            "max_width": null,
            "min_height": null,
            "min_width": null,
            "object_fit": null,
            "object_position": null,
            "order": null,
            "overflow": null,
            "overflow_x": null,
            "overflow_y": null,
            "padding": null,
            "right": null,
            "top": null,
            "visibility": null,
            "width": null
          }
        },
        "3df6d8dcfa2e4ed4a673fd79fce64d7e": {
          "model_module": "@jupyter-widgets/base",
          "model_module_version": "1.2.0",
          "model_name": "LayoutModel",
          "state": {
            "_model_module": "@jupyter-widgets/base",
            "_model_module_version": "1.2.0",
            "_model_name": "LayoutModel",
            "_view_count": null,
            "_view_module": "@jupyter-widgets/base",
            "_view_module_version": "1.2.0",
            "_view_name": "LayoutView",
            "align_content": null,
            "align_items": null,
            "align_self": null,
            "border": null,
            "bottom": null,
            "display": null,
            "flex": null,
            "flex_flow": null,
            "grid_area": null,
            "grid_auto_columns": null,
            "grid_auto_flow": null,
            "grid_auto_rows": null,
            "grid_column": null,
            "grid_gap": null,
            "grid_row": null,
            "grid_template_areas": null,
            "grid_template_columns": null,
            "grid_template_rows": null,
            "height": null,
            "justify_content": null,
            "justify_items": null,
            "left": null,
            "margin": null,
            "max_height": null,
            "max_width": null,
            "min_height": null,
            "min_width": null,
            "object_fit": null,
            "object_position": null,
            "order": null,
            "overflow": null,
            "overflow_x": null,
            "overflow_y": null,
            "padding": null,
            "right": null,
            "top": null,
            "visibility": null,
            "width": null
          }
        },
        "3e1ddecccace4119af953d66ca7cf0f2": {
          "model_module": "@jupyter-widgets/controls",
          "model_module_version": "1.5.0",
          "model_name": "DescriptionStyleModel",
          "state": {
            "_model_module": "@jupyter-widgets/controls",
            "_model_module_version": "1.5.0",
            "_model_name": "DescriptionStyleModel",
            "_view_count": null,
            "_view_module": "@jupyter-widgets/base",
            "_view_module_version": "1.2.0",
            "_view_name": "StyleView",
            "description_width": ""
          }
        },
        "4028bacf0dee47e7ad2f998f055f1ea2": {
          "model_module": "@jupyter-widgets/controls",
          "model_module_version": "1.5.0",
          "model_name": "DescriptionStyleModel",
          "state": {
            "_model_module": "@jupyter-widgets/controls",
            "_model_module_version": "1.5.0",
            "_model_name": "DescriptionStyleModel",
            "_view_count": null,
            "_view_module": "@jupyter-widgets/base",
            "_view_module_version": "1.2.0",
            "_view_name": "StyleView",
            "description_width": ""
          }
        },
        "439da4435265463e98a594ad74994b75": {
          "model_module": "@jupyter-widgets/base",
          "model_module_version": "1.2.0",
          "model_name": "LayoutModel",
          "state": {
            "_model_module": "@jupyter-widgets/base",
            "_model_module_version": "1.2.0",
            "_model_name": "LayoutModel",
            "_view_count": null,
            "_view_module": "@jupyter-widgets/base",
            "_view_module_version": "1.2.0",
            "_view_name": "LayoutView",
            "align_content": null,
            "align_items": null,
            "align_self": null,
            "border": null,
            "bottom": null,
            "display": null,
            "flex": null,
            "flex_flow": null,
            "grid_area": null,
            "grid_auto_columns": null,
            "grid_auto_flow": null,
            "grid_auto_rows": null,
            "grid_column": null,
            "grid_gap": null,
            "grid_row": null,
            "grid_template_areas": null,
            "grid_template_columns": null,
            "grid_template_rows": null,
            "height": null,
            "justify_content": null,
            "justify_items": null,
            "left": null,
            "margin": null,
            "max_height": null,
            "max_width": null,
            "min_height": null,
            "min_width": null,
            "object_fit": null,
            "object_position": null,
            "order": null,
            "overflow": null,
            "overflow_x": null,
            "overflow_y": null,
            "padding": null,
            "right": null,
            "top": null,
            "visibility": null,
            "width": null
          }
        },
        "485dec98c1f646fc9e825ec12ab80e39": {
          "model_module": "@jupyter-widgets/base",
          "model_module_version": "1.2.0",
          "model_name": "LayoutModel",
          "state": {
            "_model_module": "@jupyter-widgets/base",
            "_model_module_version": "1.2.0",
            "_model_name": "LayoutModel",
            "_view_count": null,
            "_view_module": "@jupyter-widgets/base",
            "_view_module_version": "1.2.0",
            "_view_name": "LayoutView",
            "align_content": null,
            "align_items": null,
            "align_self": null,
            "border": null,
            "bottom": null,
            "display": null,
            "flex": null,
            "flex_flow": null,
            "grid_area": null,
            "grid_auto_columns": null,
            "grid_auto_flow": null,
            "grid_auto_rows": null,
            "grid_column": null,
            "grid_gap": null,
            "grid_row": null,
            "grid_template_areas": null,
            "grid_template_columns": null,
            "grid_template_rows": null,
            "height": null,
            "justify_content": null,
            "justify_items": null,
            "left": null,
            "margin": null,
            "max_height": null,
            "max_width": null,
            "min_height": null,
            "min_width": null,
            "object_fit": null,
            "object_position": null,
            "order": null,
            "overflow": null,
            "overflow_x": null,
            "overflow_y": null,
            "padding": null,
            "right": null,
            "top": null,
            "visibility": null,
            "width": null
          }
        },
        "49133cf3e2654fa48e3fe882abd346b9": {
          "model_module": "@jupyter-widgets/controls",
          "model_module_version": "1.5.0",
          "model_name": "HTMLModel",
          "state": {
            "_dom_classes": [],
            "_model_module": "@jupyter-widgets/controls",
            "_model_module_version": "1.5.0",
            "_model_name": "HTMLModel",
            "_view_count": null,
            "_view_module": "@jupyter-widgets/controls",
            "_view_module_version": "1.5.0",
            "_view_name": "HTMLView",
            "description": "",
            "description_tooltip": null,
            "layout": "IPY_MODEL_66b6cfaaf8184ec2839c74580bcc889e",
            "placeholder": "​",
            "style": "IPY_MODEL_ab713d5200a0421c9599384f88405d96",
            "value": "Epoch 9/10: 100%"
          }
        },
        "4a9be90be6e240a49ca0005f83e70412": {
          "model_module": "@jupyter-widgets/controls",
          "model_module_version": "1.5.0",
          "model_name": "FloatProgressModel",
          "state": {
            "_dom_classes": [],
            "_model_module": "@jupyter-widgets/controls",
            "_model_module_version": "1.5.0",
            "_model_name": "FloatProgressModel",
            "_view_count": null,
            "_view_module": "@jupyter-widgets/controls",
            "_view_module_version": "1.5.0",
            "_view_name": "ProgressView",
            "bar_style": "success",
            "description": "",
            "description_tooltip": null,
            "layout": "IPY_MODEL_3b3c0e867a074282ac542a34423141ff",
            "max": 63,
            "min": 0,
            "orientation": "horizontal",
            "style": "IPY_MODEL_1ac891c4f6c84de9b77c3175ec374a10",
            "value": 63
          }
        },
        "4d25eb2b67b3421a8c43137ad2b84c4d": {
          "model_module": "@jupyter-widgets/base",
          "model_module_version": "1.2.0",
          "model_name": "LayoutModel",
          "state": {
            "_model_module": "@jupyter-widgets/base",
            "_model_module_version": "1.2.0",
            "_model_name": "LayoutModel",
            "_view_count": null,
            "_view_module": "@jupyter-widgets/base",
            "_view_module_version": "1.2.0",
            "_view_name": "LayoutView",
            "align_content": null,
            "align_items": null,
            "align_self": null,
            "border": null,
            "bottom": null,
            "display": null,
            "flex": null,
            "flex_flow": null,
            "grid_area": null,
            "grid_auto_columns": null,
            "grid_auto_flow": null,
            "grid_auto_rows": null,
            "grid_column": null,
            "grid_gap": null,
            "grid_row": null,
            "grid_template_areas": null,
            "grid_template_columns": null,
            "grid_template_rows": null,
            "height": null,
            "justify_content": null,
            "justify_items": null,
            "left": null,
            "margin": null,
            "max_height": null,
            "max_width": null,
            "min_height": null,
            "min_width": null,
            "object_fit": null,
            "object_position": null,
            "order": null,
            "overflow": null,
            "overflow_x": null,
            "overflow_y": null,
            "padding": null,
            "right": null,
            "top": null,
            "visibility": null,
            "width": null
          }
        },
        "51b4fd19015a478eab87784e30a18716": {
          "model_module": "@jupyter-widgets/controls",
          "model_module_version": "1.5.0",
          "model_name": "HTMLModel",
          "state": {
            "_dom_classes": [],
            "_model_module": "@jupyter-widgets/controls",
            "_model_module_version": "1.5.0",
            "_model_name": "HTMLModel",
            "_view_count": null,
            "_view_module": "@jupyter-widgets/controls",
            "_view_module_version": "1.5.0",
            "_view_name": "HTMLView",
            "description": "",
            "description_tooltip": null,
            "layout": "IPY_MODEL_6bb39ff05fbe4ff9985a95f6d4afb960",
            "placeholder": "​",
            "style": "IPY_MODEL_0e384dfe55ae4fcfb4e042113506fa83",
            "value": "Epoch 7/10: 100%"
          }
        },
        "58e22d38f1e9472d9e76441d5f282b5c": {
          "model_module": "@jupyter-widgets/controls",
          "model_module_version": "1.5.0",
          "model_name": "HTMLModel",
          "state": {
            "_dom_classes": [],
            "_model_module": "@jupyter-widgets/controls",
            "_model_module_version": "1.5.0",
            "_model_name": "HTMLModel",
            "_view_count": null,
            "_view_module": "@jupyter-widgets/controls",
            "_view_module_version": "1.5.0",
            "_view_name": "HTMLView",
            "description": "",
            "description_tooltip": null,
            "layout": "IPY_MODEL_f60cae4e1f224450bed692bc061e205c",
            "placeholder": "​",
            "style": "IPY_MODEL_0aaf50b9deb744b596618e2ec7dc2fa8",
            "value": " 63/63 [00:00&lt;00:00, 88.93it/s]"
          }
        },
        "5926b91a2dad4e3b953a09f0257798df": {
          "model_module": "@jupyter-widgets/controls",
          "model_module_version": "1.5.0",
          "model_name": "DescriptionStyleModel",
          "state": {
            "_model_module": "@jupyter-widgets/controls",
            "_model_module_version": "1.5.0",
            "_model_name": "DescriptionStyleModel",
            "_view_count": null,
            "_view_module": "@jupyter-widgets/base",
            "_view_module_version": "1.2.0",
            "_view_name": "StyleView",
            "description_width": ""
          }
        },
        "5942db4413ef4588939cabd431f24a77": {
          "model_module": "@jupyter-widgets/base",
          "model_module_version": "1.2.0",
          "model_name": "LayoutModel",
          "state": {
            "_model_module": "@jupyter-widgets/base",
            "_model_module_version": "1.2.0",
            "_model_name": "LayoutModel",
            "_view_count": null,
            "_view_module": "@jupyter-widgets/base",
            "_view_module_version": "1.2.0",
            "_view_name": "LayoutView",
            "align_content": null,
            "align_items": null,
            "align_self": null,
            "border": null,
            "bottom": null,
            "display": null,
            "flex": null,
            "flex_flow": null,
            "grid_area": null,
            "grid_auto_columns": null,
            "grid_auto_flow": null,
            "grid_auto_rows": null,
            "grid_column": null,
            "grid_gap": null,
            "grid_row": null,
            "grid_template_areas": null,
            "grid_template_columns": null,
            "grid_template_rows": null,
            "height": null,
            "justify_content": null,
            "justify_items": null,
            "left": null,
            "margin": null,
            "max_height": null,
            "max_width": null,
            "min_height": null,
            "min_width": null,
            "object_fit": null,
            "object_position": null,
            "order": null,
            "overflow": null,
            "overflow_x": null,
            "overflow_y": null,
            "padding": null,
            "right": null,
            "top": null,
            "visibility": null,
            "width": null
          }
        },
        "5b282778821e4d329bb86ad4aa351d34": {
          "model_module": "@jupyter-widgets/controls",
          "model_module_version": "1.5.0",
          "model_name": "HBoxModel",
          "state": {
            "_dom_classes": [],
            "_model_module": "@jupyter-widgets/controls",
            "_model_module_version": "1.5.0",
            "_model_name": "HBoxModel",
            "_view_count": null,
            "_view_module": "@jupyter-widgets/controls",
            "_view_module_version": "1.5.0",
            "_view_name": "HBoxView",
            "box_style": "",
            "children": [
              "IPY_MODEL_b79fdd0f2bda46f9b4532b7087e73ec7",
              "IPY_MODEL_be7fa64932d640519d2ad68df23bbe59",
              "IPY_MODEL_6ab957fd99bf405785a8781095d56dfb"
            ],
            "layout": "IPY_MODEL_97f9e7d9114e4b90bab8cab6f1d0c1a0"
          }
        },
        "6158af7e78db4759a7f7a369c4d6becd": {
          "model_module": "@jupyter-widgets/controls",
          "model_module_version": "1.5.0",
          "model_name": "HTMLModel",
          "state": {
            "_dom_classes": [],
            "_model_module": "@jupyter-widgets/controls",
            "_model_module_version": "1.5.0",
            "_model_name": "HTMLModel",
            "_view_count": null,
            "_view_module": "@jupyter-widgets/controls",
            "_view_module_version": "1.5.0",
            "_view_name": "HTMLView",
            "description": "",
            "description_tooltip": null,
            "layout": "IPY_MODEL_889184c8458347f49758d6f689c000a4",
            "placeholder": "​",
            "style": "IPY_MODEL_289ce9b19d4c4de798427e906baf550e",
            "value": " 63/63 [00:00&lt;00:00, 82.65it/s]"
          }
        },
        "66b6cfaaf8184ec2839c74580bcc889e": {
          "model_module": "@jupyter-widgets/base",
          "model_module_version": "1.2.0",
          "model_name": "LayoutModel",
          "state": {
            "_model_module": "@jupyter-widgets/base",
            "_model_module_version": "1.2.0",
            "_model_name": "LayoutModel",
            "_view_count": null,
            "_view_module": "@jupyter-widgets/base",
            "_view_module_version": "1.2.0",
            "_view_name": "LayoutView",
            "align_content": null,
            "align_items": null,
            "align_self": null,
            "border": null,
            "bottom": null,
            "display": null,
            "flex": null,
            "flex_flow": null,
            "grid_area": null,
            "grid_auto_columns": null,
            "grid_auto_flow": null,
            "grid_auto_rows": null,
            "grid_column": null,
            "grid_gap": null,
            "grid_row": null,
            "grid_template_areas": null,
            "grid_template_columns": null,
            "grid_template_rows": null,
            "height": null,
            "justify_content": null,
            "justify_items": null,
            "left": null,
            "margin": null,
            "max_height": null,
            "max_width": null,
            "min_height": null,
            "min_width": null,
            "object_fit": null,
            "object_position": null,
            "order": null,
            "overflow": null,
            "overflow_x": null,
            "overflow_y": null,
            "padding": null,
            "right": null,
            "top": null,
            "visibility": null,
            "width": null
          }
        },
        "6ab957fd99bf405785a8781095d56dfb": {
          "model_module": "@jupyter-widgets/controls",
          "model_module_version": "1.5.0",
          "model_name": "HTMLModel",
          "state": {
            "_dom_classes": [],
            "_model_module": "@jupyter-widgets/controls",
            "_model_module_version": "1.5.0",
            "_model_name": "HTMLModel",
            "_view_count": null,
            "_view_module": "@jupyter-widgets/controls",
            "_view_module_version": "1.5.0",
            "_view_name": "HTMLView",
            "description": "",
            "description_tooltip": null,
            "layout": "IPY_MODEL_8665b93c9a7e4cb29a6098cfb0157729",
            "placeholder": "​",
            "style": "IPY_MODEL_f786c96717f44a79bccdfdb3d2022b51",
            "value": " 63/63 [00:00&lt;00:00, 104.72it/s]"
          }
        },
        "6ad175f558794eccb6fcad491dc53bf9": {
          "model_module": "@jupyter-widgets/controls",
          "model_module_version": "1.5.0",
          "model_name": "HBoxModel",
          "state": {
            "_dom_classes": [],
            "_model_module": "@jupyter-widgets/controls",
            "_model_module_version": "1.5.0",
            "_model_name": "HBoxModel",
            "_view_count": null,
            "_view_module": "@jupyter-widgets/controls",
            "_view_module_version": "1.5.0",
            "_view_name": "HBoxView",
            "box_style": "",
            "children": [
              "IPY_MODEL_51b4fd19015a478eab87784e30a18716",
              "IPY_MODEL_2de85cb58a21449fa322f26cbeba92f5",
              "IPY_MODEL_ab72ce613c1a4cd19e70c2f925b6199e"
            ],
            "layout": "IPY_MODEL_31bf7dd7e352472dadc784f3931fc0f7"
          }
        },
        "6ae61449f8744e1dbeea4ceb1b94a8e3": {
          "model_module": "@jupyter-widgets/controls",
          "model_module_version": "1.5.0",
          "model_name": "HTMLModel",
          "state": {
            "_dom_classes": [],
            "_model_module": "@jupyter-widgets/controls",
            "_model_module_version": "1.5.0",
            "_model_name": "HTMLModel",
            "_view_count": null,
            "_view_module": "@jupyter-widgets/controls",
            "_view_module_version": "1.5.0",
            "_view_name": "HTMLView",
            "description": "",
            "description_tooltip": null,
            "layout": "IPY_MODEL_b2ea9bb5dc7d4c8a97c9f00710b0f693",
            "placeholder": "​",
            "style": "IPY_MODEL_6d754805c4fb44e7bde092da0f61f818",
            "value": "Epoch 1/10: 100%"
          }
        },
        "6ba44684dce042d68c56ace08468fe69": {
          "model_module": "@jupyter-widgets/controls",
          "model_module_version": "1.5.0",
          "model_name": "FloatProgressModel",
          "state": {
            "_dom_classes": [],
            "_model_module": "@jupyter-widgets/controls",
            "_model_module_version": "1.5.0",
            "_model_name": "FloatProgressModel",
            "_view_count": null,
            "_view_module": "@jupyter-widgets/controls",
            "_view_module_version": "1.5.0",
            "_view_name": "ProgressView",
            "bar_style": "success",
            "description": "",
            "description_tooltip": null,
            "layout": "IPY_MODEL_1a42e36db69b415e8041794a6fd89667",
            "max": 63,
            "min": 0,
            "orientation": "horizontal",
            "style": "IPY_MODEL_a9d34dbaf66949a3b6f5af23f4ce30bf",
            "value": 63
          }
        },
        "6bb39ff05fbe4ff9985a95f6d4afb960": {
          "model_module": "@jupyter-widgets/base",
          "model_module_version": "1.2.0",
          "model_name": "LayoutModel",
          "state": {
            "_model_module": "@jupyter-widgets/base",
            "_model_module_version": "1.2.0",
            "_model_name": "LayoutModel",
            "_view_count": null,
            "_view_module": "@jupyter-widgets/base",
            "_view_module_version": "1.2.0",
            "_view_name": "LayoutView",
            "align_content": null,
            "align_items": null,
            "align_self": null,
            "border": null,
            "bottom": null,
            "display": null,
            "flex": null,
            "flex_flow": null,
            "grid_area": null,
            "grid_auto_columns": null,
            "grid_auto_flow": null,
            "grid_auto_rows": null,
            "grid_column": null,
            "grid_gap": null,
            "grid_row": null,
            "grid_template_areas": null,
            "grid_template_columns": null,
            "grid_template_rows": null,
            "height": null,
            "justify_content": null,
            "justify_items": null,
            "left": null,
            "margin": null,
            "max_height": null,
            "max_width": null,
            "min_height": null,
            "min_width": null,
            "object_fit": null,
            "object_position": null,
            "order": null,
            "overflow": null,
            "overflow_x": null,
            "overflow_y": null,
            "padding": null,
            "right": null,
            "top": null,
            "visibility": null,
            "width": null
          }
        },
        "6d754805c4fb44e7bde092da0f61f818": {
          "model_module": "@jupyter-widgets/controls",
          "model_module_version": "1.5.0",
          "model_name": "DescriptionStyleModel",
          "state": {
            "_model_module": "@jupyter-widgets/controls",
            "_model_module_version": "1.5.0",
            "_model_name": "DescriptionStyleModel",
            "_view_count": null,
            "_view_module": "@jupyter-widgets/base",
            "_view_module_version": "1.2.0",
            "_view_name": "StyleView",
            "description_width": ""
          }
        },
        "6eaa82c88b1145b0a7d58527b6e42aae": {
          "model_module": "@jupyter-widgets/controls",
          "model_module_version": "1.5.0",
          "model_name": "DescriptionStyleModel",
          "state": {
            "_model_module": "@jupyter-widgets/controls",
            "_model_module_version": "1.5.0",
            "_model_name": "DescriptionStyleModel",
            "_view_count": null,
            "_view_module": "@jupyter-widgets/base",
            "_view_module_version": "1.2.0",
            "_view_name": "StyleView",
            "description_width": ""
          }
        },
        "70a93e8c1789470091fa2f974dae0e40": {
          "model_module": "@jupyter-widgets/controls",
          "model_module_version": "1.5.0",
          "model_name": "HBoxModel",
          "state": {
            "_dom_classes": [],
            "_model_module": "@jupyter-widgets/controls",
            "_model_module_version": "1.5.0",
            "_model_name": "HBoxModel",
            "_view_count": null,
            "_view_module": "@jupyter-widgets/controls",
            "_view_module_version": "1.5.0",
            "_view_name": "HBoxView",
            "box_style": "",
            "children": [
              "IPY_MODEL_20763d5ba2de4fdc8387248df0a29d74",
              "IPY_MODEL_ef3393e2cb7540188b59a1c1fb10cd5a",
              "IPY_MODEL_6158af7e78db4759a7f7a369c4d6becd"
            ],
            "layout": "IPY_MODEL_af9dbfa045a9405c8c6a60eb468e863f"
          }
        },
        "73034a6244b745898f842f6a79e454ce": {
          "model_module": "@jupyter-widgets/controls",
          "model_module_version": "1.5.0",
          "model_name": "HBoxModel",
          "state": {
            "_dom_classes": [],
            "_model_module": "@jupyter-widgets/controls",
            "_model_module_version": "1.5.0",
            "_model_name": "HBoxModel",
            "_view_count": null,
            "_view_module": "@jupyter-widgets/controls",
            "_view_module_version": "1.5.0",
            "_view_name": "HBoxView",
            "box_style": "",
            "children": [
              "IPY_MODEL_49133cf3e2654fa48e3fe882abd346b9",
              "IPY_MODEL_4a9be90be6e240a49ca0005f83e70412",
              "IPY_MODEL_e299c6d43cf74d4d8a90868c6d0d420e"
            ],
            "layout": "IPY_MODEL_80efe0ae959c4e4698820614fc0b637f"
          }
        },
        "74137beafe784e06b06134d10a9b7f0b": {
          "model_module": "@jupyter-widgets/controls",
          "model_module_version": "1.5.0",
          "model_name": "HBoxModel",
          "state": {
            "_dom_classes": [],
            "_model_module": "@jupyter-widgets/controls",
            "_model_module_version": "1.5.0",
            "_model_name": "HBoxModel",
            "_view_count": null,
            "_view_module": "@jupyter-widgets/controls",
            "_view_module_version": "1.5.0",
            "_view_name": "HBoxView",
            "box_style": "",
            "children": [
              "IPY_MODEL_9cccdff91cf84a19aaf2317f23c44177",
              "IPY_MODEL_6ba44684dce042d68c56ace08468fe69",
              "IPY_MODEL_176c7028b8b046859c822f4d687d5ca4"
            ],
            "layout": "IPY_MODEL_dc488042d19e4b6c97607d61a5106cc7"
          }
        },
        "751bf4741959416ba695a95e6c02de9c": {
          "model_module": "@jupyter-widgets/controls",
          "model_module_version": "1.5.0",
          "model_name": "ProgressStyleModel",
          "state": {
            "_model_module": "@jupyter-widgets/controls",
            "_model_module_version": "1.5.0",
            "_model_name": "ProgressStyleModel",
            "_view_count": null,
            "_view_module": "@jupyter-widgets/base",
            "_view_module_version": "1.2.0",
            "_view_name": "StyleView",
            "bar_color": null,
            "description_width": ""
          }
        },
        "75f83d99d5314cfea7cbb45d11ba0398": {
          "model_module": "@jupyter-widgets/controls",
          "model_module_version": "1.5.0",
          "model_name": "HBoxModel",
          "state": {
            "_dom_classes": [],
            "_model_module": "@jupyter-widgets/controls",
            "_model_module_version": "1.5.0",
            "_model_name": "HBoxModel",
            "_view_count": null,
            "_view_module": "@jupyter-widgets/controls",
            "_view_module_version": "1.5.0",
            "_view_name": "HBoxView",
            "box_style": "",
            "children": [
              "IPY_MODEL_1e81c06bad424a57904cf492e9d5237a",
              "IPY_MODEL_1600428f825444f8ad479704d671e6c5",
              "IPY_MODEL_787181770f27404b9d826e0604a2390f"
            ],
            "layout": "IPY_MODEL_7caf9b27328f4e84b8fcabcae3229897"
          }
        },
        "787181770f27404b9d826e0604a2390f": {
          "model_module": "@jupyter-widgets/controls",
          "model_module_version": "1.5.0",
          "model_name": "HTMLModel",
          "state": {
            "_dom_classes": [],
            "_model_module": "@jupyter-widgets/controls",
            "_model_module_version": "1.5.0",
            "_model_name": "HTMLModel",
            "_view_count": null,
            "_view_module": "@jupyter-widgets/controls",
            "_view_module_version": "1.5.0",
            "_view_name": "HTMLView",
            "description": "",
            "description_tooltip": null,
            "layout": "IPY_MODEL_a8265950b1df40279605f83cb0679d83",
            "placeholder": "​",
            "style": "IPY_MODEL_f838ecf326e7421c906025b21aa93339",
            "value": " 63/63 [00:00&lt;00:00, 96.48it/s]"
          }
        },
        "795a675c4487413ebcafa87100a1bc2d": {
          "model_module": "@jupyter-widgets/controls",
          "model_module_version": "1.5.0",
          "model_name": "DescriptionStyleModel",
          "state": {
            "_model_module": "@jupyter-widgets/controls",
            "_model_module_version": "1.5.0",
            "_model_name": "DescriptionStyleModel",
            "_view_count": null,
            "_view_module": "@jupyter-widgets/base",
            "_view_module_version": "1.2.0",
            "_view_name": "StyleView",
            "description_width": ""
          }
        },
        "7a2c053f01014ea99d01b8c79df7a531": {
          "model_module": "@jupyter-widgets/controls",
          "model_module_version": "1.5.0",
          "model_name": "FloatProgressModel",
          "state": {
            "_dom_classes": [],
            "_model_module": "@jupyter-widgets/controls",
            "_model_module_version": "1.5.0",
            "_model_name": "FloatProgressModel",
            "_view_count": null,
            "_view_module": "@jupyter-widgets/controls",
            "_view_module_version": "1.5.0",
            "_view_name": "ProgressView",
            "bar_style": "success",
            "description": "",
            "description_tooltip": null,
            "layout": "IPY_MODEL_a9cf1db2142b4868b964e3cc8c4645d1",
            "max": 10,
            "min": 0,
            "orientation": "horizontal",
            "style": "IPY_MODEL_bbd82554c21a4a8d8e988aea14c61a22",
            "value": 10
          }
        },
        "7caf9b27328f4e84b8fcabcae3229897": {
          "model_module": "@jupyter-widgets/base",
          "model_module_version": "1.2.0",
          "model_name": "LayoutModel",
          "state": {
            "_model_module": "@jupyter-widgets/base",
            "_model_module_version": "1.2.0",
            "_model_name": "LayoutModel",
            "_view_count": null,
            "_view_module": "@jupyter-widgets/base",
            "_view_module_version": "1.2.0",
            "_view_name": "LayoutView",
            "align_content": null,
            "align_items": null,
            "align_self": null,
            "border": null,
            "bottom": null,
            "display": null,
            "flex": null,
            "flex_flow": null,
            "grid_area": null,
            "grid_auto_columns": null,
            "grid_auto_flow": null,
            "grid_auto_rows": null,
            "grid_column": null,
            "grid_gap": null,
            "grid_row": null,
            "grid_template_areas": null,
            "grid_template_columns": null,
            "grid_template_rows": null,
            "height": null,
            "justify_content": null,
            "justify_items": null,
            "left": null,
            "margin": null,
            "max_height": null,
            "max_width": null,
            "min_height": null,
            "min_width": null,
            "object_fit": null,
            "object_position": null,
            "order": null,
            "overflow": null,
            "overflow_x": null,
            "overflow_y": null,
            "padding": null,
            "right": null,
            "top": null,
            "visibility": null,
            "width": null
          }
        },
        "80efe0ae959c4e4698820614fc0b637f": {
          "model_module": "@jupyter-widgets/base",
          "model_module_version": "1.2.0",
          "model_name": "LayoutModel",
          "state": {
            "_model_module": "@jupyter-widgets/base",
            "_model_module_version": "1.2.0",
            "_model_name": "LayoutModel",
            "_view_count": null,
            "_view_module": "@jupyter-widgets/base",
            "_view_module_version": "1.2.0",
            "_view_name": "LayoutView",
            "align_content": null,
            "align_items": null,
            "align_self": null,
            "border": null,
            "bottom": null,
            "display": null,
            "flex": null,
            "flex_flow": null,
            "grid_area": null,
            "grid_auto_columns": null,
            "grid_auto_flow": null,
            "grid_auto_rows": null,
            "grid_column": null,
            "grid_gap": null,
            "grid_row": null,
            "grid_template_areas": null,
            "grid_template_columns": null,
            "grid_template_rows": null,
            "height": null,
            "justify_content": null,
            "justify_items": null,
            "left": null,
            "margin": null,
            "max_height": null,
            "max_width": null,
            "min_height": null,
            "min_width": null,
            "object_fit": null,
            "object_position": null,
            "order": null,
            "overflow": null,
            "overflow_x": null,
            "overflow_y": null,
            "padding": null,
            "right": null,
            "top": null,
            "visibility": null,
            "width": null
          }
        },
        "81bac79e813a47e3a23ba06bdaee98bb": {
          "model_module": "@jupyter-widgets/controls",
          "model_module_version": "1.5.0",
          "model_name": "ProgressStyleModel",
          "state": {
            "_model_module": "@jupyter-widgets/controls",
            "_model_module_version": "1.5.0",
            "_model_name": "ProgressStyleModel",
            "_view_count": null,
            "_view_module": "@jupyter-widgets/base",
            "_view_module_version": "1.2.0",
            "_view_name": "StyleView",
            "bar_color": null,
            "description_width": ""
          }
        },
        "844dc66f3fc34a8d87fdaa29da96d1c4": {
          "model_module": "@jupyter-widgets/controls",
          "model_module_version": "1.5.0",
          "model_name": "DescriptionStyleModel",
          "state": {
            "_model_module": "@jupyter-widgets/controls",
            "_model_module_version": "1.5.0",
            "_model_name": "DescriptionStyleModel",
            "_view_count": null,
            "_view_module": "@jupyter-widgets/base",
            "_view_module_version": "1.2.0",
            "_view_name": "StyleView",
            "description_width": ""
          }
        },
        "862668493c554f7d9bd69f95465eb4af": {
          "model_module": "@jupyter-widgets/controls",
          "model_module_version": "1.5.0",
          "model_name": "HBoxModel",
          "state": {
            "_dom_classes": [],
            "_model_module": "@jupyter-widgets/controls",
            "_model_module_version": "1.5.0",
            "_model_name": "HBoxModel",
            "_view_count": null,
            "_view_module": "@jupyter-widgets/controls",
            "_view_module_version": "1.5.0",
            "_view_name": "HBoxView",
            "box_style": "",
            "children": [
              "IPY_MODEL_6ae61449f8744e1dbeea4ceb1b94a8e3",
              "IPY_MODEL_9d1664315e0b4403bf636b9726bdd87f",
              "IPY_MODEL_58e22d38f1e9472d9e76441d5f282b5c"
            ],
            "layout": "IPY_MODEL_9925b7140fd34322b0dc080bd8734137"
          }
        },
        "8665b93c9a7e4cb29a6098cfb0157729": {
          "model_module": "@jupyter-widgets/base",
          "model_module_version": "1.2.0",
          "model_name": "LayoutModel",
          "state": {
            "_model_module": "@jupyter-widgets/base",
            "_model_module_version": "1.2.0",
            "_model_name": "LayoutModel",
            "_view_count": null,
            "_view_module": "@jupyter-widgets/base",
            "_view_module_version": "1.2.0",
            "_view_name": "LayoutView",
            "align_content": null,
            "align_items": null,
            "align_self": null,
            "border": null,
            "bottom": null,
            "display": null,
            "flex": null,
            "flex_flow": null,
            "grid_area": null,
            "grid_auto_columns": null,
            "grid_auto_flow": null,
            "grid_auto_rows": null,
            "grid_column": null,
            "grid_gap": null,
            "grid_row": null,
            "grid_template_areas": null,
            "grid_template_columns": null,
            "grid_template_rows": null,
            "height": null,
            "justify_content": null,
            "justify_items": null,
            "left": null,
            "margin": null,
            "max_height": null,
            "max_width": null,
            "min_height": null,
            "min_width": null,
            "object_fit": null,
            "object_position": null,
            "order": null,
            "overflow": null,
            "overflow_x": null,
            "overflow_y": null,
            "padding": null,
            "right": null,
            "top": null,
            "visibility": null,
            "width": null
          }
        },
        "889184c8458347f49758d6f689c000a4": {
          "model_module": "@jupyter-widgets/base",
          "model_module_version": "1.2.0",
          "model_name": "LayoutModel",
          "state": {
            "_model_module": "@jupyter-widgets/base",
            "_model_module_version": "1.2.0",
            "_model_name": "LayoutModel",
            "_view_count": null,
            "_view_module": "@jupyter-widgets/base",
            "_view_module_version": "1.2.0",
            "_view_name": "LayoutView",
            "align_content": null,
            "align_items": null,
            "align_self": null,
            "border": null,
            "bottom": null,
            "display": null,
            "flex": null,
            "flex_flow": null,
            "grid_area": null,
            "grid_auto_columns": null,
            "grid_auto_flow": null,
            "grid_auto_rows": null,
            "grid_column": null,
            "grid_gap": null,
            "grid_row": null,
            "grid_template_areas": null,
            "grid_template_columns": null,
            "grid_template_rows": null,
            "height": null,
            "justify_content": null,
            "justify_items": null,
            "left": null,
            "margin": null,
            "max_height": null,
            "max_width": null,
            "min_height": null,
            "min_width": null,
            "object_fit": null,
            "object_position": null,
            "order": null,
            "overflow": null,
            "overflow_x": null,
            "overflow_y": null,
            "padding": null,
            "right": null,
            "top": null,
            "visibility": null,
            "width": null
          }
        },
        "8cf3d900caa442408dfe2733444b4ab2": {
          "model_module": "@jupyter-widgets/base",
          "model_module_version": "1.2.0",
          "model_name": "LayoutModel",
          "state": {
            "_model_module": "@jupyter-widgets/base",
            "_model_module_version": "1.2.0",
            "_model_name": "LayoutModel",
            "_view_count": null,
            "_view_module": "@jupyter-widgets/base",
            "_view_module_version": "1.2.0",
            "_view_name": "LayoutView",
            "align_content": null,
            "align_items": null,
            "align_self": null,
            "border": null,
            "bottom": null,
            "display": null,
            "flex": null,
            "flex_flow": null,
            "grid_area": null,
            "grid_auto_columns": null,
            "grid_auto_flow": null,
            "grid_auto_rows": null,
            "grid_column": null,
            "grid_gap": null,
            "grid_row": null,
            "grid_template_areas": null,
            "grid_template_columns": null,
            "grid_template_rows": null,
            "height": null,
            "justify_content": null,
            "justify_items": null,
            "left": null,
            "margin": null,
            "max_height": null,
            "max_width": null,
            "min_height": null,
            "min_width": null,
            "object_fit": null,
            "object_position": null,
            "order": null,
            "overflow": null,
            "overflow_x": null,
            "overflow_y": null,
            "padding": null,
            "right": null,
            "top": null,
            "visibility": null,
            "width": null
          }
        },
        "905accf8fb37460884a5c34c6277d5f3": {
          "model_module": "@jupyter-widgets/controls",
          "model_module_version": "1.5.0",
          "model_name": "DescriptionStyleModel",
          "state": {
            "_model_module": "@jupyter-widgets/controls",
            "_model_module_version": "1.5.0",
            "_model_name": "DescriptionStyleModel",
            "_view_count": null,
            "_view_module": "@jupyter-widgets/base",
            "_view_module_version": "1.2.0",
            "_view_name": "StyleView",
            "description_width": ""
          }
        },
        "97f9e7d9114e4b90bab8cab6f1d0c1a0": {
          "model_module": "@jupyter-widgets/base",
          "model_module_version": "1.2.0",
          "model_name": "LayoutModel",
          "state": {
            "_model_module": "@jupyter-widgets/base",
            "_model_module_version": "1.2.0",
            "_model_name": "LayoutModel",
            "_view_count": null,
            "_view_module": "@jupyter-widgets/base",
            "_view_module_version": "1.2.0",
            "_view_name": "LayoutView",
            "align_content": null,
            "align_items": null,
            "align_self": null,
            "border": null,
            "bottom": null,
            "display": null,
            "flex": null,
            "flex_flow": null,
            "grid_area": null,
            "grid_auto_columns": null,
            "grid_auto_flow": null,
            "grid_auto_rows": null,
            "grid_column": null,
            "grid_gap": null,
            "grid_row": null,
            "grid_template_areas": null,
            "grid_template_columns": null,
            "grid_template_rows": null,
            "height": null,
            "justify_content": null,
            "justify_items": null,
            "left": null,
            "margin": null,
            "max_height": null,
            "max_width": null,
            "min_height": null,
            "min_width": null,
            "object_fit": null,
            "object_position": null,
            "order": null,
            "overflow": null,
            "overflow_x": null,
            "overflow_y": null,
            "padding": null,
            "right": null,
            "top": null,
            "visibility": null,
            "width": null
          }
        },
        "989a4d617ea8451d8da98cb20394a10f": {
          "model_module": "@jupyter-widgets/base",
          "model_module_version": "1.2.0",
          "model_name": "LayoutModel",
          "state": {
            "_model_module": "@jupyter-widgets/base",
            "_model_module_version": "1.2.0",
            "_model_name": "LayoutModel",
            "_view_count": null,
            "_view_module": "@jupyter-widgets/base",
            "_view_module_version": "1.2.0",
            "_view_name": "LayoutView",
            "align_content": null,
            "align_items": null,
            "align_self": null,
            "border": null,
            "bottom": null,
            "display": null,
            "flex": null,
            "flex_flow": null,
            "grid_area": null,
            "grid_auto_columns": null,
            "grid_auto_flow": null,
            "grid_auto_rows": null,
            "grid_column": null,
            "grid_gap": null,
            "grid_row": null,
            "grid_template_areas": null,
            "grid_template_columns": null,
            "grid_template_rows": null,
            "height": null,
            "justify_content": null,
            "justify_items": null,
            "left": null,
            "margin": null,
            "max_height": null,
            "max_width": null,
            "min_height": null,
            "min_width": null,
            "object_fit": null,
            "object_position": null,
            "order": null,
            "overflow": null,
            "overflow_x": null,
            "overflow_y": null,
            "padding": null,
            "right": null,
            "top": null,
            "visibility": null,
            "width": null
          }
        },
        "9925b7140fd34322b0dc080bd8734137": {
          "model_module": "@jupyter-widgets/base",
          "model_module_version": "1.2.0",
          "model_name": "LayoutModel",
          "state": {
            "_model_module": "@jupyter-widgets/base",
            "_model_module_version": "1.2.0",
            "_model_name": "LayoutModel",
            "_view_count": null,
            "_view_module": "@jupyter-widgets/base",
            "_view_module_version": "1.2.0",
            "_view_name": "LayoutView",
            "align_content": null,
            "align_items": null,
            "align_self": null,
            "border": null,
            "bottom": null,
            "display": null,
            "flex": null,
            "flex_flow": null,
            "grid_area": null,
            "grid_auto_columns": null,
            "grid_auto_flow": null,
            "grid_auto_rows": null,
            "grid_column": null,
            "grid_gap": null,
            "grid_row": null,
            "grid_template_areas": null,
            "grid_template_columns": null,
            "grid_template_rows": null,
            "height": null,
            "justify_content": null,
            "justify_items": null,
            "left": null,
            "margin": null,
            "max_height": null,
            "max_width": null,
            "min_height": null,
            "min_width": null,
            "object_fit": null,
            "object_position": null,
            "order": null,
            "overflow": null,
            "overflow_x": null,
            "overflow_y": null,
            "padding": null,
            "right": null,
            "top": null,
            "visibility": null,
            "width": null
          }
        },
        "99860ca7a8e94bcbb6f6695d117e81df": {
          "model_module": "@jupyter-widgets/base",
          "model_module_version": "1.2.0",
          "model_name": "LayoutModel",
          "state": {
            "_model_module": "@jupyter-widgets/base",
            "_model_module_version": "1.2.0",
            "_model_name": "LayoutModel",
            "_view_count": null,
            "_view_module": "@jupyter-widgets/base",
            "_view_module_version": "1.2.0",
            "_view_name": "LayoutView",
            "align_content": null,
            "align_items": null,
            "align_self": null,
            "border": null,
            "bottom": null,
            "display": null,
            "flex": null,
            "flex_flow": null,
            "grid_area": null,
            "grid_auto_columns": null,
            "grid_auto_flow": null,
            "grid_auto_rows": null,
            "grid_column": null,
            "grid_gap": null,
            "grid_row": null,
            "grid_template_areas": null,
            "grid_template_columns": null,
            "grid_template_rows": null,
            "height": null,
            "justify_content": null,
            "justify_items": null,
            "left": null,
            "margin": null,
            "max_height": null,
            "max_width": null,
            "min_height": null,
            "min_width": null,
            "object_fit": null,
            "object_position": null,
            "order": null,
            "overflow": null,
            "overflow_x": null,
            "overflow_y": null,
            "padding": null,
            "right": null,
            "top": null,
            "visibility": null,
            "width": null
          }
        },
        "9cccdff91cf84a19aaf2317f23c44177": {
          "model_module": "@jupyter-widgets/controls",
          "model_module_version": "1.5.0",
          "model_name": "HTMLModel",
          "state": {
            "_dom_classes": [],
            "_model_module": "@jupyter-widgets/controls",
            "_model_module_version": "1.5.0",
            "_model_name": "HTMLModel",
            "_view_count": null,
            "_view_module": "@jupyter-widgets/controls",
            "_view_module_version": "1.5.0",
            "_view_name": "HTMLView",
            "description": "",
            "description_tooltip": null,
            "layout": "IPY_MODEL_013124a0925640e98db45aa7242993a1",
            "placeholder": "​",
            "style": "IPY_MODEL_e7d15d533f004995acc760a3415750f1",
            "value": "Epoch 4/10: 100%"
          }
        },
        "9d1664315e0b4403bf636b9726bdd87f": {
          "model_module": "@jupyter-widgets/controls",
          "model_module_version": "1.5.0",
          "model_name": "FloatProgressModel",
          "state": {
            "_dom_classes": [],
            "_model_module": "@jupyter-widgets/controls",
            "_model_module_version": "1.5.0",
            "_model_name": "FloatProgressModel",
            "_view_count": null,
            "_view_module": "@jupyter-widgets/controls",
            "_view_module_version": "1.5.0",
            "_view_name": "ProgressView",
            "bar_style": "success",
            "description": "",
            "description_tooltip": null,
            "layout": "IPY_MODEL_8cf3d900caa442408dfe2733444b4ab2",
            "max": 63,
            "min": 0,
            "orientation": "horizontal",
            "style": "IPY_MODEL_2bf1768c43fd4317a2915da969c35936",
            "value": 63
          }
        },
        "a0d56c5cb73a49e1b545b54a2eda7894": {
          "model_module": "@jupyter-widgets/controls",
          "model_module_version": "1.5.0",
          "model_name": "HBoxModel",
          "state": {
            "_dom_classes": [],
            "_model_module": "@jupyter-widgets/controls",
            "_model_module_version": "1.5.0",
            "_model_name": "HBoxModel",
            "_view_count": null,
            "_view_module": "@jupyter-widgets/controls",
            "_view_module_version": "1.5.0",
            "_view_name": "HBoxView",
            "box_style": "",
            "children": [
              "IPY_MODEL_d0d0271df5634e5b9b54d5e1ea8f7734",
              "IPY_MODEL_f1aec2ff7730418ebb41403a56e960e2",
              "IPY_MODEL_c2b76456dbe9469285521c79fd494717"
            ],
            "layout": "IPY_MODEL_288de3c1873f434da3a5f3602265fd0b"
          }
        },
        "a3f29a07ebb2466a9b088fcdf62bcfb4": {
          "model_module": "@jupyter-widgets/base",
          "model_module_version": "1.2.0",
          "model_name": "LayoutModel",
          "state": {
            "_model_module": "@jupyter-widgets/base",
            "_model_module_version": "1.2.0",
            "_model_name": "LayoutModel",
            "_view_count": null,
            "_view_module": "@jupyter-widgets/base",
            "_view_module_version": "1.2.0",
            "_view_name": "LayoutView",
            "align_content": null,
            "align_items": null,
            "align_self": null,
            "border": null,
            "bottom": null,
            "display": null,
            "flex": null,
            "flex_flow": null,
            "grid_area": null,
            "grid_auto_columns": null,
            "grid_auto_flow": null,
            "grid_auto_rows": null,
            "grid_column": null,
            "grid_gap": null,
            "grid_row": null,
            "grid_template_areas": null,
            "grid_template_columns": null,
            "grid_template_rows": null,
            "height": null,
            "justify_content": null,
            "justify_items": null,
            "left": null,
            "margin": null,
            "max_height": null,
            "max_width": null,
            "min_height": null,
            "min_width": null,
            "object_fit": null,
            "object_position": null,
            "order": null,
            "overflow": null,
            "overflow_x": null,
            "overflow_y": null,
            "padding": null,
            "right": null,
            "top": null,
            "visibility": null,
            "width": null
          }
        },
        "a61bf7aad691464bbf35d2867f3fef31": {
          "model_module": "@jupyter-widgets/base",
          "model_module_version": "1.2.0",
          "model_name": "LayoutModel",
          "state": {
            "_model_module": "@jupyter-widgets/base",
            "_model_module_version": "1.2.0",
            "_model_name": "LayoutModel",
            "_view_count": null,
            "_view_module": "@jupyter-widgets/base",
            "_view_module_version": "1.2.0",
            "_view_name": "LayoutView",
            "align_content": null,
            "align_items": null,
            "align_self": null,
            "border": null,
            "bottom": null,
            "display": null,
            "flex": null,
            "flex_flow": null,
            "grid_area": null,
            "grid_auto_columns": null,
            "grid_auto_flow": null,
            "grid_auto_rows": null,
            "grid_column": null,
            "grid_gap": null,
            "grid_row": null,
            "grid_template_areas": null,
            "grid_template_columns": null,
            "grid_template_rows": null,
            "height": null,
            "justify_content": null,
            "justify_items": null,
            "left": null,
            "margin": null,
            "max_height": null,
            "max_width": null,
            "min_height": null,
            "min_width": null,
            "object_fit": null,
            "object_position": null,
            "order": null,
            "overflow": null,
            "overflow_x": null,
            "overflow_y": null,
            "padding": null,
            "right": null,
            "top": null,
            "visibility": null,
            "width": null
          }
        },
        "a8265950b1df40279605f83cb0679d83": {
          "model_module": "@jupyter-widgets/base",
          "model_module_version": "1.2.0",
          "model_name": "LayoutModel",
          "state": {
            "_model_module": "@jupyter-widgets/base",
            "_model_module_version": "1.2.0",
            "_model_name": "LayoutModel",
            "_view_count": null,
            "_view_module": "@jupyter-widgets/base",
            "_view_module_version": "1.2.0",
            "_view_name": "LayoutView",
            "align_content": null,
            "align_items": null,
            "align_self": null,
            "border": null,
            "bottom": null,
            "display": null,
            "flex": null,
            "flex_flow": null,
            "grid_area": null,
            "grid_auto_columns": null,
            "grid_auto_flow": null,
            "grid_auto_rows": null,
            "grid_column": null,
            "grid_gap": null,
            "grid_row": null,
            "grid_template_areas": null,
            "grid_template_columns": null,
            "grid_template_rows": null,
            "height": null,
            "justify_content": null,
            "justify_items": null,
            "left": null,
            "margin": null,
            "max_height": null,
            "max_width": null,
            "min_height": null,
            "min_width": null,
            "object_fit": null,
            "object_position": null,
            "order": null,
            "overflow": null,
            "overflow_x": null,
            "overflow_y": null,
            "padding": null,
            "right": null,
            "top": null,
            "visibility": null,
            "width": null
          }
        },
        "a9cf1db2142b4868b964e3cc8c4645d1": {
          "model_module": "@jupyter-widgets/base",
          "model_module_version": "1.2.0",
          "model_name": "LayoutModel",
          "state": {
            "_model_module": "@jupyter-widgets/base",
            "_model_module_version": "1.2.0",
            "_model_name": "LayoutModel",
            "_view_count": null,
            "_view_module": "@jupyter-widgets/base",
            "_view_module_version": "1.2.0",
            "_view_name": "LayoutView",
            "align_content": null,
            "align_items": null,
            "align_self": null,
            "border": null,
            "bottom": null,
            "display": null,
            "flex": null,
            "flex_flow": null,
            "grid_area": null,
            "grid_auto_columns": null,
            "grid_auto_flow": null,
            "grid_auto_rows": null,
            "grid_column": null,
            "grid_gap": null,
            "grid_row": null,
            "grid_template_areas": null,
            "grid_template_columns": null,
            "grid_template_rows": null,
            "height": null,
            "justify_content": null,
            "justify_items": null,
            "left": null,
            "margin": null,
            "max_height": null,
            "max_width": null,
            "min_height": null,
            "min_width": null,
            "object_fit": null,
            "object_position": null,
            "order": null,
            "overflow": null,
            "overflow_x": null,
            "overflow_y": null,
            "padding": null,
            "right": null,
            "top": null,
            "visibility": null,
            "width": null
          }
        },
        "a9d34dbaf66949a3b6f5af23f4ce30bf": {
          "model_module": "@jupyter-widgets/controls",
          "model_module_version": "1.5.0",
          "model_name": "ProgressStyleModel",
          "state": {
            "_model_module": "@jupyter-widgets/controls",
            "_model_module_version": "1.5.0",
            "_model_name": "ProgressStyleModel",
            "_view_count": null,
            "_view_module": "@jupyter-widgets/base",
            "_view_module_version": "1.2.0",
            "_view_name": "StyleView",
            "bar_color": null,
            "description_width": ""
          }
        },
        "ab713d5200a0421c9599384f88405d96": {
          "model_module": "@jupyter-widgets/controls",
          "model_module_version": "1.5.0",
          "model_name": "DescriptionStyleModel",
          "state": {
            "_model_module": "@jupyter-widgets/controls",
            "_model_module_version": "1.5.0",
            "_model_name": "DescriptionStyleModel",
            "_view_count": null,
            "_view_module": "@jupyter-widgets/base",
            "_view_module_version": "1.2.0",
            "_view_name": "StyleView",
            "description_width": ""
          }
        },
        "ab72ce613c1a4cd19e70c2f925b6199e": {
          "model_module": "@jupyter-widgets/controls",
          "model_module_version": "1.5.0",
          "model_name": "HTMLModel",
          "state": {
            "_dom_classes": [],
            "_model_module": "@jupyter-widgets/controls",
            "_model_module_version": "1.5.0",
            "_model_name": "HTMLModel",
            "_view_count": null,
            "_view_module": "@jupyter-widgets/controls",
            "_view_module_version": "1.5.0",
            "_view_name": "HTMLView",
            "description": "",
            "description_tooltip": null,
            "layout": "IPY_MODEL_dccc790395164325b5fe1829bedb9ec9",
            "placeholder": "​",
            "style": "IPY_MODEL_300615c2e38546068dc05415727c8cce",
            "value": " 63/63 [00:00&lt;00:00, 101.95it/s]"
          }
        },
        "ab8d2b8053af45c383b82858fbbe0304": {
          "model_module": "@jupyter-widgets/base",
          "model_module_version": "1.2.0",
          "model_name": "LayoutModel",
          "state": {
            "_model_module": "@jupyter-widgets/base",
            "_model_module_version": "1.2.0",
            "_model_name": "LayoutModel",
            "_view_count": null,
            "_view_module": "@jupyter-widgets/base",
            "_view_module_version": "1.2.0",
            "_view_name": "LayoutView",
            "align_content": null,
            "align_items": null,
            "align_self": null,
            "border": null,
            "bottom": null,
            "display": null,
            "flex": null,
            "flex_flow": null,
            "grid_area": null,
            "grid_auto_columns": null,
            "grid_auto_flow": null,
            "grid_auto_rows": null,
            "grid_column": null,
            "grid_gap": null,
            "grid_row": null,
            "grid_template_areas": null,
            "grid_template_columns": null,
            "grid_template_rows": null,
            "height": null,
            "justify_content": null,
            "justify_items": null,
            "left": null,
            "margin": null,
            "max_height": null,
            "max_width": null,
            "min_height": null,
            "min_width": null,
            "object_fit": null,
            "object_position": null,
            "order": null,
            "overflow": null,
            "overflow_x": null,
            "overflow_y": null,
            "padding": null,
            "right": null,
            "top": null,
            "visibility": null,
            "width": null
          }
        },
        "ae4f6b89e1a84a2bb3249bdd0eda9943": {
          "model_module": "@jupyter-widgets/controls",
          "model_module_version": "1.5.0",
          "model_name": "DescriptionStyleModel",
          "state": {
            "_model_module": "@jupyter-widgets/controls",
            "_model_module_version": "1.5.0",
            "_model_name": "DescriptionStyleModel",
            "_view_count": null,
            "_view_module": "@jupyter-widgets/base",
            "_view_module_version": "1.2.0",
            "_view_name": "StyleView",
            "description_width": ""
          }
        },
        "af9dbfa045a9405c8c6a60eb468e863f": {
          "model_module": "@jupyter-widgets/base",
          "model_module_version": "1.2.0",
          "model_name": "LayoutModel",
          "state": {
            "_model_module": "@jupyter-widgets/base",
            "_model_module_version": "1.2.0",
            "_model_name": "LayoutModel",
            "_view_count": null,
            "_view_module": "@jupyter-widgets/base",
            "_view_module_version": "1.2.0",
            "_view_name": "LayoutView",
            "align_content": null,
            "align_items": null,
            "align_self": null,
            "border": null,
            "bottom": null,
            "display": null,
            "flex": null,
            "flex_flow": null,
            "grid_area": null,
            "grid_auto_columns": null,
            "grid_auto_flow": null,
            "grid_auto_rows": null,
            "grid_column": null,
            "grid_gap": null,
            "grid_row": null,
            "grid_template_areas": null,
            "grid_template_columns": null,
            "grid_template_rows": null,
            "height": null,
            "justify_content": null,
            "justify_items": null,
            "left": null,
            "margin": null,
            "max_height": null,
            "max_width": null,
            "min_height": null,
            "min_width": null,
            "object_fit": null,
            "object_position": null,
            "order": null,
            "overflow": null,
            "overflow_x": null,
            "overflow_y": null,
            "padding": null,
            "right": null,
            "top": null,
            "visibility": null,
            "width": null
          }
        },
        "b020744ac2314ddba53218efc31acb8e": {
          "model_module": "@jupyter-widgets/base",
          "model_module_version": "1.2.0",
          "model_name": "LayoutModel",
          "state": {
            "_model_module": "@jupyter-widgets/base",
            "_model_module_version": "1.2.0",
            "_model_name": "LayoutModel",
            "_view_count": null,
            "_view_module": "@jupyter-widgets/base",
            "_view_module_version": "1.2.0",
            "_view_name": "LayoutView",
            "align_content": null,
            "align_items": null,
            "align_self": null,
            "border": null,
            "bottom": null,
            "display": null,
            "flex": null,
            "flex_flow": null,
            "grid_area": null,
            "grid_auto_columns": null,
            "grid_auto_flow": null,
            "grid_auto_rows": null,
            "grid_column": null,
            "grid_gap": null,
            "grid_row": null,
            "grid_template_areas": null,
            "grid_template_columns": null,
            "grid_template_rows": null,
            "height": null,
            "justify_content": null,
            "justify_items": null,
            "left": null,
            "margin": null,
            "max_height": null,
            "max_width": null,
            "min_height": null,
            "min_width": null,
            "object_fit": null,
            "object_position": null,
            "order": null,
            "overflow": null,
            "overflow_x": null,
            "overflow_y": null,
            "padding": null,
            "right": null,
            "top": null,
            "visibility": null,
            "width": null
          }
        },
        "b14f73c00a9b44f09d19177528eaa4dd": {
          "model_module": "@jupyter-widgets/base",
          "model_module_version": "1.2.0",
          "model_name": "LayoutModel",
          "state": {
            "_model_module": "@jupyter-widgets/base",
            "_model_module_version": "1.2.0",
            "_model_name": "LayoutModel",
            "_view_count": null,
            "_view_module": "@jupyter-widgets/base",
            "_view_module_version": "1.2.0",
            "_view_name": "LayoutView",
            "align_content": null,
            "align_items": null,
            "align_self": null,
            "border": null,
            "bottom": null,
            "display": null,
            "flex": null,
            "flex_flow": null,
            "grid_area": null,
            "grid_auto_columns": null,
            "grid_auto_flow": null,
            "grid_auto_rows": null,
            "grid_column": null,
            "grid_gap": null,
            "grid_row": null,
            "grid_template_areas": null,
            "grid_template_columns": null,
            "grid_template_rows": null,
            "height": null,
            "justify_content": null,
            "justify_items": null,
            "left": null,
            "margin": null,
            "max_height": null,
            "max_width": null,
            "min_height": null,
            "min_width": null,
            "object_fit": null,
            "object_position": null,
            "order": null,
            "overflow": null,
            "overflow_x": null,
            "overflow_y": null,
            "padding": null,
            "right": null,
            "top": null,
            "visibility": null,
            "width": null
          }
        },
        "b2ea9bb5dc7d4c8a97c9f00710b0f693": {
          "model_module": "@jupyter-widgets/base",
          "model_module_version": "1.2.0",
          "model_name": "LayoutModel",
          "state": {
            "_model_module": "@jupyter-widgets/base",
            "_model_module_version": "1.2.0",
            "_model_name": "LayoutModel",
            "_view_count": null,
            "_view_module": "@jupyter-widgets/base",
            "_view_module_version": "1.2.0",
            "_view_name": "LayoutView",
            "align_content": null,
            "align_items": null,
            "align_self": null,
            "border": null,
            "bottom": null,
            "display": null,
            "flex": null,
            "flex_flow": null,
            "grid_area": null,
            "grid_auto_columns": null,
            "grid_auto_flow": null,
            "grid_auto_rows": null,
            "grid_column": null,
            "grid_gap": null,
            "grid_row": null,
            "grid_template_areas": null,
            "grid_template_columns": null,
            "grid_template_rows": null,
            "height": null,
            "justify_content": null,
            "justify_items": null,
            "left": null,
            "margin": null,
            "max_height": null,
            "max_width": null,
            "min_height": null,
            "min_width": null,
            "object_fit": null,
            "object_position": null,
            "order": null,
            "overflow": null,
            "overflow_x": null,
            "overflow_y": null,
            "padding": null,
            "right": null,
            "top": null,
            "visibility": null,
            "width": null
          }
        },
        "b79fdd0f2bda46f9b4532b7087e73ec7": {
          "model_module": "@jupyter-widgets/controls",
          "model_module_version": "1.5.0",
          "model_name": "HTMLModel",
          "state": {
            "_dom_classes": [],
            "_model_module": "@jupyter-widgets/controls",
            "_model_module_version": "1.5.0",
            "_model_name": "HTMLModel",
            "_view_count": null,
            "_view_module": "@jupyter-widgets/controls",
            "_view_module_version": "1.5.0",
            "_view_name": "HTMLView",
            "description": "",
            "description_tooltip": null,
            "layout": "IPY_MODEL_5942db4413ef4588939cabd431f24a77",
            "placeholder": "​",
            "style": "IPY_MODEL_844dc66f3fc34a8d87fdaa29da96d1c4",
            "value": "Epoch 3/10: 100%"
          }
        },
        "b9b6c186a3ab43a3b3d9c5ff0d8b6f4b": {
          "model_module": "@jupyter-widgets/controls",
          "model_module_version": "1.5.0",
          "model_name": "FloatProgressModel",
          "state": {
            "_dom_classes": [],
            "_model_module": "@jupyter-widgets/controls",
            "_model_module_version": "1.5.0",
            "_model_name": "FloatProgressModel",
            "_view_count": null,
            "_view_module": "@jupyter-widgets/controls",
            "_view_module_version": "1.5.0",
            "_view_name": "ProgressView",
            "bar_style": "success",
            "description": "",
            "description_tooltip": null,
            "layout": "IPY_MODEL_b14f73c00a9b44f09d19177528eaa4dd",
            "max": 63,
            "min": 0,
            "orientation": "horizontal",
            "style": "IPY_MODEL_751bf4741959416ba695a95e6c02de9c",
            "value": 63
          }
        },
        "bbd82554c21a4a8d8e988aea14c61a22": {
          "model_module": "@jupyter-widgets/controls",
          "model_module_version": "1.5.0",
          "model_name": "ProgressStyleModel",
          "state": {
            "_model_module": "@jupyter-widgets/controls",
            "_model_module_version": "1.5.0",
            "_model_name": "ProgressStyleModel",
            "_view_count": null,
            "_view_module": "@jupyter-widgets/base",
            "_view_module_version": "1.2.0",
            "_view_name": "StyleView",
            "bar_color": null,
            "description_width": ""
          }
        },
        "be7fa64932d640519d2ad68df23bbe59": {
          "model_module": "@jupyter-widgets/controls",
          "model_module_version": "1.5.0",
          "model_name": "FloatProgressModel",
          "state": {
            "_dom_classes": [],
            "_model_module": "@jupyter-widgets/controls",
            "_model_module_version": "1.5.0",
            "_model_name": "FloatProgressModel",
            "_view_count": null,
            "_view_module": "@jupyter-widgets/controls",
            "_view_module_version": "1.5.0",
            "_view_name": "ProgressView",
            "bar_style": "success",
            "description": "",
            "description_tooltip": null,
            "layout": "IPY_MODEL_e3d77e36372a4908a1aa7495992d687e",
            "max": 63,
            "min": 0,
            "orientation": "horizontal",
            "style": "IPY_MODEL_15349ad1562145709a2080b881bdff09",
            "value": 63
          }
        },
        "bf5d78dfb348429a9051d7fabe9ebc50": {
          "model_module": "@jupyter-widgets/controls",
          "model_module_version": "1.5.0",
          "model_name": "HTMLModel",
          "state": {
            "_dom_classes": [],
            "_model_module": "@jupyter-widgets/controls",
            "_model_module_version": "1.5.0",
            "_model_name": "HTMLModel",
            "_view_count": null,
            "_view_module": "@jupyter-widgets/controls",
            "_view_module_version": "1.5.0",
            "_view_name": "HTMLView",
            "description": "",
            "description_tooltip": null,
            "layout": "IPY_MODEL_99860ca7a8e94bcbb6f6695d117e81df",
            "placeholder": "​",
            "style": "IPY_MODEL_905accf8fb37460884a5c34c6277d5f3",
            "value": " 63/63 [00:00&lt;00:00, 75.14it/s]"
          }
        },
        "c2b76456dbe9469285521c79fd494717": {
          "model_module": "@jupyter-widgets/controls",
          "model_module_version": "1.5.0",
          "model_name": "HTMLModel",
          "state": {
            "_dom_classes": [],
            "_model_module": "@jupyter-widgets/controls",
            "_model_module_version": "1.5.0",
            "_model_name": "HTMLModel",
            "_view_count": null,
            "_view_module": "@jupyter-widgets/controls",
            "_view_module_version": "1.5.0",
            "_view_name": "HTMLView",
            "description": "",
            "description_tooltip": null,
            "layout": "IPY_MODEL_da5f4a886212463eb9aa62fc65b42638",
            "placeholder": "​",
            "style": "IPY_MODEL_5926b91a2dad4e3b953a09f0257798df",
            "value": " 63/63 [00:00&lt;00:00, 104.91it/s]"
          }
        },
        "cc14a91fe052491eb67bccdc7e080d34": {
          "model_module": "@jupyter-widgets/controls",
          "model_module_version": "1.5.0",
          "model_name": "HTMLModel",
          "state": {
            "_dom_classes": [],
            "_model_module": "@jupyter-widgets/controls",
            "_model_module_version": "1.5.0",
            "_model_name": "HTMLModel",
            "_view_count": null,
            "_view_module": "@jupyter-widgets/controls",
            "_view_module_version": "1.5.0",
            "_view_name": "HTMLView",
            "description": "",
            "description_tooltip": null,
            "layout": "IPY_MODEL_1107a6ae193c4657a188c943a16d1eea",
            "placeholder": "​",
            "style": "IPY_MODEL_de4bfd2783194ac8b3d3904bb3d34233",
            "value": "100%"
          }
        },
        "d0d0271df5634e5b9b54d5e1ea8f7734": {
          "model_module": "@jupyter-widgets/controls",
          "model_module_version": "1.5.0",
          "model_name": "HTMLModel",
          "state": {
            "_dom_classes": [],
            "_model_module": "@jupyter-widgets/controls",
            "_model_module_version": "1.5.0",
            "_model_name": "HTMLModel",
            "_view_count": null,
            "_view_module": "@jupyter-widgets/controls",
            "_view_module_version": "1.5.0",
            "_view_name": "HTMLView",
            "description": "",
            "description_tooltip": null,
            "layout": "IPY_MODEL_3df6d8dcfa2e4ed4a673fd79fce64d7e",
            "placeholder": "​",
            "style": "IPY_MODEL_ae4f6b89e1a84a2bb3249bdd0eda9943",
            "value": "Epoch 6/10: 100%"
          }
        },
        "da5f4a886212463eb9aa62fc65b42638": {
          "model_module": "@jupyter-widgets/base",
          "model_module_version": "1.2.0",
          "model_name": "LayoutModel",
          "state": {
            "_model_module": "@jupyter-widgets/base",
            "_model_module_version": "1.2.0",
            "_model_name": "LayoutModel",
            "_view_count": null,
            "_view_module": "@jupyter-widgets/base",
            "_view_module_version": "1.2.0",
            "_view_name": "LayoutView",
            "align_content": null,
            "align_items": null,
            "align_self": null,
            "border": null,
            "bottom": null,
            "display": null,
            "flex": null,
            "flex_flow": null,
            "grid_area": null,
            "grid_auto_columns": null,
            "grid_auto_flow": null,
            "grid_auto_rows": null,
            "grid_column": null,
            "grid_gap": null,
            "grid_row": null,
            "grid_template_areas": null,
            "grid_template_columns": null,
            "grid_template_rows": null,
            "height": null,
            "justify_content": null,
            "justify_items": null,
            "left": null,
            "margin": null,
            "max_height": null,
            "max_width": null,
            "min_height": null,
            "min_width": null,
            "object_fit": null,
            "object_position": null,
            "order": null,
            "overflow": null,
            "overflow_x": null,
            "overflow_y": null,
            "padding": null,
            "right": null,
            "top": null,
            "visibility": null,
            "width": null
          }
        },
        "db147f9494be411eac83bde939f3eee7": {
          "model_module": "@jupyter-widgets/controls",
          "model_module_version": "1.5.0",
          "model_name": "HBoxModel",
          "state": {
            "_dom_classes": [],
            "_model_module": "@jupyter-widgets/controls",
            "_model_module_version": "1.5.0",
            "_model_name": "HBoxModel",
            "_view_count": null,
            "_view_module": "@jupyter-widgets/controls",
            "_view_module_version": "1.5.0",
            "_view_name": "HBoxView",
            "box_style": "",
            "children": [
              "IPY_MODEL_cc14a91fe052491eb67bccdc7e080d34",
              "IPY_MODEL_7a2c053f01014ea99d01b8c79df7a531",
              "IPY_MODEL_1ee71d68d5a94f17a825cbeefa13205b"
            ],
            "layout": "IPY_MODEL_0fe15a1f247f412cb0dec58dfbd88a1e"
          }
        },
        "dc488042d19e4b6c97607d61a5106cc7": {
          "model_module": "@jupyter-widgets/base",
          "model_module_version": "1.2.0",
          "model_name": "LayoutModel",
          "state": {
            "_model_module": "@jupyter-widgets/base",
            "_model_module_version": "1.2.0",
            "_model_name": "LayoutModel",
            "_view_count": null,
            "_view_module": "@jupyter-widgets/base",
            "_view_module_version": "1.2.0",
            "_view_name": "LayoutView",
            "align_content": null,
            "align_items": null,
            "align_self": null,
            "border": null,
            "bottom": null,
            "display": null,
            "flex": null,
            "flex_flow": null,
            "grid_area": null,
            "grid_auto_columns": null,
            "grid_auto_flow": null,
            "grid_auto_rows": null,
            "grid_column": null,
            "grid_gap": null,
            "grid_row": null,
            "grid_template_areas": null,
            "grid_template_columns": null,
            "grid_template_rows": null,
            "height": null,
            "justify_content": null,
            "justify_items": null,
            "left": null,
            "margin": null,
            "max_height": null,
            "max_width": null,
            "min_height": null,
            "min_width": null,
            "object_fit": null,
            "object_position": null,
            "order": null,
            "overflow": null,
            "overflow_x": null,
            "overflow_y": null,
            "padding": null,
            "right": null,
            "top": null,
            "visibility": null,
            "width": null
          }
        },
        "dca39074f9c849019eaf0ca3fbc48dcf": {
          "model_module": "@jupyter-widgets/base",
          "model_module_version": "1.2.0",
          "model_name": "LayoutModel",
          "state": {
            "_model_module": "@jupyter-widgets/base",
            "_model_module_version": "1.2.0",
            "_model_name": "LayoutModel",
            "_view_count": null,
            "_view_module": "@jupyter-widgets/base",
            "_view_module_version": "1.2.0",
            "_view_name": "LayoutView",
            "align_content": null,
            "align_items": null,
            "align_self": null,
            "border": null,
            "bottom": null,
            "display": null,
            "flex": null,
            "flex_flow": null,
            "grid_area": null,
            "grid_auto_columns": null,
            "grid_auto_flow": null,
            "grid_auto_rows": null,
            "grid_column": null,
            "grid_gap": null,
            "grid_row": null,
            "grid_template_areas": null,
            "grid_template_columns": null,
            "grid_template_rows": null,
            "height": null,
            "justify_content": null,
            "justify_items": null,
            "left": null,
            "margin": null,
            "max_height": null,
            "max_width": null,
            "min_height": null,
            "min_width": null,
            "object_fit": null,
            "object_position": null,
            "order": null,
            "overflow": null,
            "overflow_x": null,
            "overflow_y": null,
            "padding": null,
            "right": null,
            "top": null,
            "visibility": null,
            "width": null
          }
        },
        "dccc790395164325b5fe1829bedb9ec9": {
          "model_module": "@jupyter-widgets/base",
          "model_module_version": "1.2.0",
          "model_name": "LayoutModel",
          "state": {
            "_model_module": "@jupyter-widgets/base",
            "_model_module_version": "1.2.0",
            "_model_name": "LayoutModel",
            "_view_count": null,
            "_view_module": "@jupyter-widgets/base",
            "_view_module_version": "1.2.0",
            "_view_name": "LayoutView",
            "align_content": null,
            "align_items": null,
            "align_self": null,
            "border": null,
            "bottom": null,
            "display": null,
            "flex": null,
            "flex_flow": null,
            "grid_area": null,
            "grid_auto_columns": null,
            "grid_auto_flow": null,
            "grid_auto_rows": null,
            "grid_column": null,
            "grid_gap": null,
            "grid_row": null,
            "grid_template_areas": null,
            "grid_template_columns": null,
            "grid_template_rows": null,
            "height": null,
            "justify_content": null,
            "justify_items": null,
            "left": null,
            "margin": null,
            "max_height": null,
            "max_width": null,
            "min_height": null,
            "min_width": null,
            "object_fit": null,
            "object_position": null,
            "order": null,
            "overflow": null,
            "overflow_x": null,
            "overflow_y": null,
            "padding": null,
            "right": null,
            "top": null,
            "visibility": null,
            "width": null
          }
        },
        "de4bfd2783194ac8b3d3904bb3d34233": {
          "model_module": "@jupyter-widgets/controls",
          "model_module_version": "1.5.0",
          "model_name": "DescriptionStyleModel",
          "state": {
            "_model_module": "@jupyter-widgets/controls",
            "_model_module_version": "1.5.0",
            "_model_name": "DescriptionStyleModel",
            "_view_count": null,
            "_view_module": "@jupyter-widgets/base",
            "_view_module_version": "1.2.0",
            "_view_name": "StyleView",
            "description_width": ""
          }
        },
        "df39aab0b05d4c6184f70c464ba33282": {
          "model_module": "@jupyter-widgets/base",
          "model_module_version": "1.2.0",
          "model_name": "LayoutModel",
          "state": {
            "_model_module": "@jupyter-widgets/base",
            "_model_module_version": "1.2.0",
            "_model_name": "LayoutModel",
            "_view_count": null,
            "_view_module": "@jupyter-widgets/base",
            "_view_module_version": "1.2.0",
            "_view_name": "LayoutView",
            "align_content": null,
            "align_items": null,
            "align_self": null,
            "border": null,
            "bottom": null,
            "display": null,
            "flex": null,
            "flex_flow": null,
            "grid_area": null,
            "grid_auto_columns": null,
            "grid_auto_flow": null,
            "grid_auto_rows": null,
            "grid_column": null,
            "grid_gap": null,
            "grid_row": null,
            "grid_template_areas": null,
            "grid_template_columns": null,
            "grid_template_rows": null,
            "height": null,
            "justify_content": null,
            "justify_items": null,
            "left": null,
            "margin": null,
            "max_height": null,
            "max_width": null,
            "min_height": null,
            "min_width": null,
            "object_fit": null,
            "object_position": null,
            "order": null,
            "overflow": null,
            "overflow_x": null,
            "overflow_y": null,
            "padding": null,
            "right": null,
            "top": null,
            "visibility": null,
            "width": null
          }
        },
        "e299c6d43cf74d4d8a90868c6d0d420e": {
          "model_module": "@jupyter-widgets/controls",
          "model_module_version": "1.5.0",
          "model_name": "HTMLModel",
          "state": {
            "_dom_classes": [],
            "_model_module": "@jupyter-widgets/controls",
            "_model_module_version": "1.5.0",
            "_model_name": "HTMLModel",
            "_view_count": null,
            "_view_module": "@jupyter-widgets/controls",
            "_view_module_version": "1.5.0",
            "_view_name": "HTMLView",
            "description": "",
            "description_tooltip": null,
            "layout": "IPY_MODEL_b020744ac2314ddba53218efc31acb8e",
            "placeholder": "​",
            "style": "IPY_MODEL_f8f97667bf7646c2bd94833240504923",
            "value": " 63/63 [00:00&lt;00:00, 87.17it/s]"
          }
        },
        "e3d77e36372a4908a1aa7495992d687e": {
          "model_module": "@jupyter-widgets/base",
          "model_module_version": "1.2.0",
          "model_name": "LayoutModel",
          "state": {
            "_model_module": "@jupyter-widgets/base",
            "_model_module_version": "1.2.0",
            "_model_name": "LayoutModel",
            "_view_count": null,
            "_view_module": "@jupyter-widgets/base",
            "_view_module_version": "1.2.0",
            "_view_name": "LayoutView",
            "align_content": null,
            "align_items": null,
            "align_self": null,
            "border": null,
            "bottom": null,
            "display": null,
            "flex": null,
            "flex_flow": null,
            "grid_area": null,
            "grid_auto_columns": null,
            "grid_auto_flow": null,
            "grid_auto_rows": null,
            "grid_column": null,
            "grid_gap": null,
            "grid_row": null,
            "grid_template_areas": null,
            "grid_template_columns": null,
            "grid_template_rows": null,
            "height": null,
            "justify_content": null,
            "justify_items": null,
            "left": null,
            "margin": null,
            "max_height": null,
            "max_width": null,
            "min_height": null,
            "min_width": null,
            "object_fit": null,
            "object_position": null,
            "order": null,
            "overflow": null,
            "overflow_x": null,
            "overflow_y": null,
            "padding": null,
            "right": null,
            "top": null,
            "visibility": null,
            "width": null
          }
        },
        "e7d15d533f004995acc760a3415750f1": {
          "model_module": "@jupyter-widgets/controls",
          "model_module_version": "1.5.0",
          "model_name": "DescriptionStyleModel",
          "state": {
            "_model_module": "@jupyter-widgets/controls",
            "_model_module_version": "1.5.0",
            "_model_name": "DescriptionStyleModel",
            "_view_count": null,
            "_view_module": "@jupyter-widgets/base",
            "_view_module_version": "1.2.0",
            "_view_name": "StyleView",
            "description_width": ""
          }
        },
        "ef3393e2cb7540188b59a1c1fb10cd5a": {
          "model_module": "@jupyter-widgets/controls",
          "model_module_version": "1.5.0",
          "model_name": "FloatProgressModel",
          "state": {
            "_dom_classes": [],
            "_model_module": "@jupyter-widgets/controls",
            "_model_module_version": "1.5.0",
            "_model_name": "FloatProgressModel",
            "_view_count": null,
            "_view_module": "@jupyter-widgets/controls",
            "_view_module_version": "1.5.0",
            "_view_name": "ProgressView",
            "bar_style": "success",
            "description": "",
            "description_tooltip": null,
            "layout": "IPY_MODEL_fe0230b1cc4449ae8f194161f25e872f",
            "max": 63,
            "min": 0,
            "orientation": "horizontal",
            "style": "IPY_MODEL_81bac79e813a47e3a23ba06bdaee98bb",
            "value": 63
          }
        },
        "f1aec2ff7730418ebb41403a56e960e2": {
          "model_module": "@jupyter-widgets/controls",
          "model_module_version": "1.5.0",
          "model_name": "FloatProgressModel",
          "state": {
            "_dom_classes": [],
            "_model_module": "@jupyter-widgets/controls",
            "_model_module_version": "1.5.0",
            "_model_name": "FloatProgressModel",
            "_view_count": null,
            "_view_module": "@jupyter-widgets/controls",
            "_view_module_version": "1.5.0",
            "_view_name": "ProgressView",
            "bar_style": "success",
            "description": "",
            "description_tooltip": null,
            "layout": "IPY_MODEL_f9b6a7689ed940d3afcbb63bdaaa27e0",
            "max": 63,
            "min": 0,
            "orientation": "horizontal",
            "style": "IPY_MODEL_2c69b49434694d5a88574c1219c16266",
            "value": 63
          }
        },
        "f60cae4e1f224450bed692bc061e205c": {
          "model_module": "@jupyter-widgets/base",
          "model_module_version": "1.2.0",
          "model_name": "LayoutModel",
          "state": {
            "_model_module": "@jupyter-widgets/base",
            "_model_module_version": "1.2.0",
            "_model_name": "LayoutModel",
            "_view_count": null,
            "_view_module": "@jupyter-widgets/base",
            "_view_module_version": "1.2.0",
            "_view_name": "LayoutView",
            "align_content": null,
            "align_items": null,
            "align_self": null,
            "border": null,
            "bottom": null,
            "display": null,
            "flex": null,
            "flex_flow": null,
            "grid_area": null,
            "grid_auto_columns": null,
            "grid_auto_flow": null,
            "grid_auto_rows": null,
            "grid_column": null,
            "grid_gap": null,
            "grid_row": null,
            "grid_template_areas": null,
            "grid_template_columns": null,
            "grid_template_rows": null,
            "height": null,
            "justify_content": null,
            "justify_items": null,
            "left": null,
            "margin": null,
            "max_height": null,
            "max_width": null,
            "min_height": null,
            "min_width": null,
            "object_fit": null,
            "object_position": null,
            "order": null,
            "overflow": null,
            "overflow_x": null,
            "overflow_y": null,
            "padding": null,
            "right": null,
            "top": null,
            "visibility": null,
            "width": null
          }
        },
        "f786c96717f44a79bccdfdb3d2022b51": {
          "model_module": "@jupyter-widgets/controls",
          "model_module_version": "1.5.0",
          "model_name": "DescriptionStyleModel",
          "state": {
            "_model_module": "@jupyter-widgets/controls",
            "_model_module_version": "1.5.0",
            "_model_name": "DescriptionStyleModel",
            "_view_count": null,
            "_view_module": "@jupyter-widgets/base",
            "_view_module_version": "1.2.0",
            "_view_name": "StyleView",
            "description_width": ""
          }
        },
        "f838ecf326e7421c906025b21aa93339": {
          "model_module": "@jupyter-widgets/controls",
          "model_module_version": "1.5.0",
          "model_name": "DescriptionStyleModel",
          "state": {
            "_model_module": "@jupyter-widgets/controls",
            "_model_module_version": "1.5.0",
            "_model_name": "DescriptionStyleModel",
            "_view_count": null,
            "_view_module": "@jupyter-widgets/base",
            "_view_module_version": "1.2.0",
            "_view_name": "StyleView",
            "description_width": ""
          }
        },
        "f8f97667bf7646c2bd94833240504923": {
          "model_module": "@jupyter-widgets/controls",
          "model_module_version": "1.5.0",
          "model_name": "DescriptionStyleModel",
          "state": {
            "_model_module": "@jupyter-widgets/controls",
            "_model_module_version": "1.5.0",
            "_model_name": "DescriptionStyleModel",
            "_view_count": null,
            "_view_module": "@jupyter-widgets/base",
            "_view_module_version": "1.2.0",
            "_view_name": "StyleView",
            "description_width": ""
          }
        },
        "f9b6a7689ed940d3afcbb63bdaaa27e0": {
          "model_module": "@jupyter-widgets/base",
          "model_module_version": "1.2.0",
          "model_name": "LayoutModel",
          "state": {
            "_model_module": "@jupyter-widgets/base",
            "_model_module_version": "1.2.0",
            "_model_name": "LayoutModel",
            "_view_count": null,
            "_view_module": "@jupyter-widgets/base",
            "_view_module_version": "1.2.0",
            "_view_name": "LayoutView",
            "align_content": null,
            "align_items": null,
            "align_self": null,
            "border": null,
            "bottom": null,
            "display": null,
            "flex": null,
            "flex_flow": null,
            "grid_area": null,
            "grid_auto_columns": null,
            "grid_auto_flow": null,
            "grid_auto_rows": null,
            "grid_column": null,
            "grid_gap": null,
            "grid_row": null,
            "grid_template_areas": null,
            "grid_template_columns": null,
            "grid_template_rows": null,
            "height": null,
            "justify_content": null,
            "justify_items": null,
            "left": null,
            "margin": null,
            "max_height": null,
            "max_width": null,
            "min_height": null,
            "min_width": null,
            "object_fit": null,
            "object_position": null,
            "order": null,
            "overflow": null,
            "overflow_x": null,
            "overflow_y": null,
            "padding": null,
            "right": null,
            "top": null,
            "visibility": null,
            "width": null
          }
        },
        "fba28790360741e6b304a56127a206a5": {
          "model_module": "@jupyter-widgets/controls",
          "model_module_version": "1.5.0",
          "model_name": "ProgressStyleModel",
          "state": {
            "_model_module": "@jupyter-widgets/controls",
            "_model_module_version": "1.5.0",
            "_model_name": "ProgressStyleModel",
            "_view_count": null,
            "_view_module": "@jupyter-widgets/base",
            "_view_module_version": "1.2.0",
            "_view_name": "StyleView",
            "bar_color": null,
            "description_width": ""
          }
        },
        "fd21ca27c45d4c98a86691953f04b83f": {
          "model_module": "@jupyter-widgets/controls",
          "model_module_version": "1.5.0",
          "model_name": "HTMLModel",
          "state": {
            "_dom_classes": [],
            "_model_module": "@jupyter-widgets/controls",
            "_model_module_version": "1.5.0",
            "_model_name": "HTMLModel",
            "_view_count": null,
            "_view_module": "@jupyter-widgets/controls",
            "_view_module_version": "1.5.0",
            "_view_name": "HTMLView",
            "description": "",
            "description_tooltip": null,
            "layout": "IPY_MODEL_fe5b7deaddcc4aa99bb72ee12307191f",
            "placeholder": "​",
            "style": "IPY_MODEL_2af44734f259459e8f91a1cf790a7882",
            "value": "Epoch 10/10: 100%"
          }
        },
        "fe0230b1cc4449ae8f194161f25e872f": {
          "model_module": "@jupyter-widgets/base",
          "model_module_version": "1.2.0",
          "model_name": "LayoutModel",
          "state": {
            "_model_module": "@jupyter-widgets/base",
            "_model_module_version": "1.2.0",
            "_model_name": "LayoutModel",
            "_view_count": null,
            "_view_module": "@jupyter-widgets/base",
            "_view_module_version": "1.2.0",
            "_view_name": "LayoutView",
            "align_content": null,
            "align_items": null,
            "align_self": null,
            "border": null,
            "bottom": null,
            "display": null,
            "flex": null,
            "flex_flow": null,
            "grid_area": null,
            "grid_auto_columns": null,
            "grid_auto_flow": null,
            "grid_auto_rows": null,
            "grid_column": null,
            "grid_gap": null,
            "grid_row": null,
            "grid_template_areas": null,
            "grid_template_columns": null,
            "grid_template_rows": null,
            "height": null,
            "justify_content": null,
            "justify_items": null,
            "left": null,
            "margin": null,
            "max_height": null,
            "max_width": null,
            "min_height": null,
            "min_width": null,
            "object_fit": null,
            "object_position": null,
            "order": null,
            "overflow": null,
            "overflow_x": null,
            "overflow_y": null,
            "padding": null,
            "right": null,
            "top": null,
            "visibility": null,
            "width": null
          }
        },
        "fe5b7deaddcc4aa99bb72ee12307191f": {
          "model_module": "@jupyter-widgets/base",
          "model_module_version": "1.2.0",
          "model_name": "LayoutModel",
          "state": {
            "_model_module": "@jupyter-widgets/base",
            "_model_module_version": "1.2.0",
            "_model_name": "LayoutModel",
            "_view_count": null,
            "_view_module": "@jupyter-widgets/base",
            "_view_module_version": "1.2.0",
            "_view_name": "LayoutView",
            "align_content": null,
            "align_items": null,
            "align_self": null,
            "border": null,
            "bottom": null,
            "display": null,
            "flex": null,
            "flex_flow": null,
            "grid_area": null,
            "grid_auto_columns": null,
            "grid_auto_flow": null,
            "grid_auto_rows": null,
            "grid_column": null,
            "grid_gap": null,
            "grid_row": null,
            "grid_template_areas": null,
            "grid_template_columns": null,
            "grid_template_rows": null,
            "height": null,
            "justify_content": null,
            "justify_items": null,
            "left": null,
            "margin": null,
            "max_height": null,
            "max_width": null,
            "min_height": null,
            "min_width": null,
            "object_fit": null,
            "object_position": null,
            "order": null,
            "overflow": null,
            "overflow_x": null,
            "overflow_y": null,
            "padding": null,
            "right": null,
            "top": null,
            "visibility": null,
            "width": null
          }
        }
      }
    }
  },
  "nbformat": 4,
  "nbformat_minor": 0
}
